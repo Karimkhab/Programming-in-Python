{
 "cells": [
  {
   "metadata": {
    "ExecuteTime": {
     "end_time": "2025-06-23T20:46:16.396183Z",
     "start_time": "2025-06-23T20:46:16.393390Z"
    }
   },
   "cell_type": "code",
   "source": [
    "from contextlib import redirect_stdout\n",
    "from io import StringIO"
   ],
   "id": "ef2f3a5390606ae9",
   "outputs": [],
   "execution_count": 18
  },
  {
   "cell_type": "code",
   "id": "initial_id",
   "metadata": {
    "collapsed": true,
    "ExecuteTime": {
     "end_time": "2025-06-23T20:46:17.158070Z",
     "start_time": "2025-06-23T20:46:17.155330Z"
    }
   },
   "source": [
    "class CodeCell:\n",
    "    def __init__(self, code: str):\n",
    "        self.code = code\n",
    "        self.output = []\n",
    "\n",
    "    def execute(self):\n",
    "        with open('output.txt', 'w') as f:\n",
    "            with redirect_stdout(f):\n",
    "                for line in self.code.splitlines():\n",
    "                    print(line)\n",
    "\n",
    "    def clear_output(self):\n",
    "        print(self.output)\n",
    "\n",
    "    def get_output(self):\n",
    "        print(self.output)"
   ],
   "outputs": [],
   "execution_count": 19
  },
  {
   "metadata": {
    "ExecuteTime": {
     "end_time": "2025-06-23T20:46:18.952610Z",
     "start_time": "2025-06-23T20:46:18.948287Z"
    }
   },
   "cell_type": "code",
   "source": [
    "class PythonNotebook:\n",
    "    def __init__(self):\n",
    "        self.cells = []\n",
    "    \n",
    "    def add_cell(self, code):\n",
    "        self.cells.append(CodeCell(code))\n",
    "    \n",
    "    def execute_cell(self, index: int):\n",
    "        self.cells[index].execute()\n",
    "        \n",
    "    def clear_output_cell(self, index: int):\n",
    "        self.cells[index].clear_output()\n",
    "    \n",
    "    def clear_all_output(self):\n",
    "        for cell in self.cells:\n",
    "            cell.clear_output()\n",
    "    \n",
    "    def show_output(self, index: int):\n",
    "        self.cells[index].get_output()\n",
    "        \n",
    "    def show_all_output(self):\n",
    "        for cell in self.cells:\n",
    "            cell.show_output()"
   ],
   "id": "bb6092756d95afe9",
   "outputs": [],
   "execution_count": 20
  },
  {
   "metadata": {
    "ExecuteTime": {
     "end_time": "2025-06-23T20:30:27.924050Z",
     "start_time": "2025-06-23T20:30:27.921427Z"
    }
   },
   "cell_type": "code",
   "source": [
    "notebook = PythonNotebook()\n",
    "notebook.add_cell(\"x = 2\\ny = 3\\nprint(x + y)\")\n",
    "notebook.execute_cell(0)\n",
    "notebook.show_output(0)"
   ],
   "id": "4c0e9375cbaad108",
   "outputs": [
    {
     "name": "stdout",
     "output_type": "stream",
     "text": [
      "x = 2\n",
      "y = 3\n",
      "print(x + y)\n"
     ]
    }
   ],
   "execution_count": 13
  },
  {
   "metadata": {
    "ExecuteTime": {
     "end_time": "2025-06-23T20:50:28.054889Z",
     "start_time": "2025-06-23T20:50:28.052419Z"
    }
   },
   "cell_type": "code",
   "source": [
    "cell = CodeCell('x = 2\\ny = 3\\nprint(x + y)')\n",
    "cell.execute()"
   ],
   "id": "22f2b4c210357f4c",
   "outputs": [],
   "execution_count": 23
  },
  {
   "metadata": {
    "ExecuteTime": {
     "end_time": "2025-06-23T20:50:30.244374Z",
     "start_time": "2025-06-23T20:50:30.241848Z"
    }
   },
   "cell_type": "code",
   "source": [
    "import io\n",
    "\n",
    "output = io.StringIO()\n",
    "output.write('First line.\\n')\n",
    "print('Second line.', file=output)\n",
    "\n",
    "# Извлекает содержимое файла 'First line.\\nSecond line.\\n'\n",
    "contents = output.getvalue()\n",
    "\n",
    "# Закрытие объекта и сброс буфера памяти\n",
    "# Теперь `output.getvalue()` вызовет исключение.\n",
    "output.close()"
   ],
   "id": "3f220265c4bdabbf",
   "outputs": [],
   "execution_count": 24
  },
  {
   "metadata": {
    "ExecuteTime": {
     "end_time": "2025-06-23T21:25:16.310439Z",
     "start_time": "2025-06-23T21:25:16.303992Z"
    }
   },
   "cell_type": "code",
   "source": [
    "from contextlib import redirect_stdout\n",
    "from io import StringIO\n",
    "\n",
    "class CodeCell:\n",
    "    def __init__(self, code: str):\n",
    "        self.code = code\n",
    "        self.output = []\n",
    "\n",
    "    def execute(self):\n",
    "        executionPy = StringIO()\n",
    "        \n",
    "        with redirect_stdout(executionPy):\n",
    "            executionPy.write(self.code)\n",
    "            executionPy.readlines()\n",
    "            \n",
    "        results = executionPy.getvalue()\n",
    "        print(results)\n",
    "            # for line in executionPy.getvalue().splitlines():\n",
    "            #     if executionPy.read():\n",
    "            #         self.output.append(line)\n",
    "\n",
    "    def clear_output(self):\n",
    "        self.output = []\n",
    "\n",
    "    def get_output(self):\n",
    "        for line in self.output:\n",
    "            print(self.line)\n",
    "\n",
    "\n",
    "class PythonNotebook:\n",
    "    def __init__(self):\n",
    "        self.cells = []\n",
    "\n",
    "    def add_cell(self, code):\n",
    "        self.cells.append(CodeCell(code))\n",
    "\n",
    "    def execute_cell(self, index: int):\n",
    "        self.cells[index].execute()\n",
    "\n",
    "    def clear_output_cell(self, index: int):\n",
    "        self.cells[index].clear_output()\n",
    "\n",
    "    def clear_all_output(self):\n",
    "        for cell in self.cells:\n",
    "            cell.clear_output()\n",
    "\n",
    "    def show_output(self, index: int):\n",
    "        self.cells[index].get_output()\n",
    "\n",
    "    def show_all_output(self):\n",
    "        for index in range(len(self.cells)):\n",
    "            cell.show_output(index)\n",
    "\n",
    "# notebook = PythonNotebook()\n",
    "# notebook.add_cell(\"x = 2\\ny = 3\\nprint(x + y)\")\n",
    "# notebook.execute_cell(0)\n",
    "# notebook.show_output(0)\n",
    "\n",
    "cell = CodeCell('x = 2\\ny = 3\\nprint(x + y)')\n",
    "cell.execute()"
   ],
   "id": "5b4971f47a650340",
   "outputs": [
    {
     "name": "stdout",
     "output_type": "stream",
     "text": [
      "x = 2\n",
      "y = 3\n",
      "print(x + y)\n"
     ]
    }
   ],
   "execution_count": 44
  },
  {
   "metadata": {
    "ExecuteTime": {
     "end_time": "2025-06-26T09:02:48.034542Z",
     "start_time": "2025-06-26T09:02:48.030898Z"
    }
   },
   "cell_type": "code",
   "source": [
    "from contextlib import redirect_stdout\n",
    "from io import StringIO\n",
    "import sys\n",
    "\n",
    "\n",
    "class CodeCell:\n",
    "    def __init__(self, code: str):\n",
    "        self.code = code\n",
    "        self.output = []\n",
    "\n",
    "    def execute(self):\n",
    "        executionPy = StringIO()\n",
    "\n",
    "        with redirect_stdout(executionPy):\n",
    "            executionPy.write(self.code)\n",
    "\n",
    "        executionPy.seek(0)\n",
    "\n",
    "        results = executionPy.read()\n",
    "        print(exec(results))\n",
    "        executionPy.close()\n",
    "\n",
    "    def clear_output(self):\n",
    "        self.output = []\n",
    "\n",
    "    def get_output(self):\n",
    "        for line in self.output:\n",
    "            print(self.line)\n",
    "\n",
    "\n",
    "class PythonNotebook:\n",
    "    def __init__(self):\n",
    "        self.cells = []\n",
    "\n",
    "    def add_cell(self, code):\n",
    "        self.cells.append(CodeCell(code))\n",
    "\n",
    "    def execute_cell(self, index: int):\n",
    "        self.cells[index].execute()\n",
    "\n",
    "    def clear_output_cell(self, index: int):\n",
    "        self.cells[index].clear_output()\n",
    "\n",
    "    def clear_all_output(self):\n",
    "        for cell in self.cells:\n",
    "            cell.clear_output()\n",
    "\n",
    "    def show_output(self, index: int):\n",
    "        self.cells[index].get_output()\n",
    "\n",
    "    def show_all_output(self):\n",
    "        for index in range(len(self.cells)):\n",
    "            cell.show_output(index)\n",
    "\n",
    "\n",
    "# notebook = PythonNotebook()\n",
    "# notebook.add_cell(\"x = 2\\ny = 3\\nprint(x + y)\")\n",
    "# notebook.execute_cell(0)\n",
    "# notebook.show_output(0)\n",
    "\n",
    "cell = CodeCell('x = 2\\ny = 3\\nprint(x + y)\\nprint(x + y)')\n",
    "cell.execute()"
   ],
   "id": "2d929ef8f6a7c791",
   "outputs": [
    {
     "name": "stdout",
     "output_type": "stream",
     "text": [
      "5\n",
      "5\n",
      "None\n"
     ]
    }
   ],
   "execution_count": 1
  },
  {
   "metadata": {
    "ExecuteTime": {
     "end_time": "2025-06-26T16:14:18.895230Z",
     "start_time": "2025-06-26T16:14:18.887122Z"
    }
   },
   "cell_type": "code",
   "source": "x=2",
   "id": "55de91d661803a1b",
   "outputs": [],
   "execution_count": 2
  },
  {
   "metadata": {
    "ExecuteTime": {
     "end_time": "2025-06-26T16:14:19.957962Z",
     "start_time": "2025-06-26T16:14:19.955560Z"
    }
   },
   "cell_type": "code",
   "source": "y=3",
   "id": "6c4e5c1d947914f",
   "outputs": [],
   "execution_count": 3
  },
  {
   "metadata": {
    "ExecuteTime": {
     "end_time": "2025-06-26T16:22:45.448240Z",
     "start_time": "2025-06-26T16:22:45.444822Z"
    }
   },
   "cell_type": "code",
   "source": "print(x+y)",
   "id": "d189f188bcfa5bc",
   "outputs": [
    {
     "name": "stdout",
     "output_type": "stream",
     "text": [
      "10\n"
     ]
    }
   ],
   "execution_count": 6
  },
  {
   "metadata": {
    "ExecuteTime": {
     "end_time": "2025-06-26T16:22:44.334577Z",
     "start_time": "2025-06-26T16:22:44.332384Z"
    }
   },
   "cell_type": "code",
   "source": "y = 8",
   "id": "5e3f0042f93b8d59",
   "outputs": [],
   "execution_count": 5
  }
 ],
 "metadata": {
  "kernelspec": {
   "display_name": "Python 3",
   "language": "python",
   "name": "python3"
  },
  "language_info": {
   "codemirror_mode": {
    "name": "ipython",
    "version": 2
   },
   "file_extension": ".py",
   "mimetype": "text/x-python",
   "name": "python",
   "nbconvert_exporter": "python",
   "pygments_lexer": "ipython2",
   "version": "2.7.6"
  }
 },
 "nbformat": 4,
 "nbformat_minor": 5
}
