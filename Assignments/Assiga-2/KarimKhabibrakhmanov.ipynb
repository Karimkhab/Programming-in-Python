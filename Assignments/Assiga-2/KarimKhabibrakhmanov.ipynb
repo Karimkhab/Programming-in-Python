{
 "cells": [
  {
   "cell_type": "markdown",
   "id": "b1b7c48c",
   "metadata": {},
   "source": [
    "# Innopolis University\n",
    "# Summer Semester 2025\n",
    "# Programming in Python \n",
    "## Assignment 2: Data Analysis with NumPy and Pandas (20 points)\n",
    "\n",
    "**Due Date**: 20.07.2025 23:59\n",
    "---\n",
    "\n",
    "### Overview\n",
    "In this assignment, you will practice using **Pandas** and **NumPy** to perform data loading, manipulation, and linear algebra operations such as computing eigenvalues and eigenvectors. You will work step-by-step in a Jupyter Notebook, writing functions, validating results with `assert` statements, and producing simple visualizations.\n",
    "\n",
    "**Learning Objectives:**\n",
    "- Load and inspect CSV data with Pandas.\n",
    "- Manipulate DataFrames: handling missing values, normalization, and basic statistics.\n",
    "- Compute covariance and correlation matrices.\n",
    "- Calculate eigenvalues and eigenvectors with NumPy.\n",
    "- Sort and select principal components.\n",
    "- Verify mathematical properties with assertions.\n",
    "\n",
    "---\n",
    "\n",
    "## Preliminary: Provided Student Dataset\n",
    "Below is the content of `students.csv`, which you will use throughout this assignment. It contains student records, including some missing values in `Email`, `Scholarship`, and `GPA`.\n",
    "\n",
    "```\n",
    "Name,Surname,Age,GPA,Course,Hobby,Scholarship,Have Retakes,Email\n",
    "Nyra,Xanthe,18,3.74,Software Engineering,Writing,No,No,nyra.xanthe@innopolis.university\n",
    "Doran,Mavren,18,2.38,Robotics,Photography,Yes,Yes,doran.mavren@innopolis.university\n",
    "Aylen,Dorin,22,4.78,Computer Vision,Hiking,No,No,aylen.dorin@innopolis.university\n",
    "Kael,Halden,21,4.18,Robotics,Photography,No,No,kael.halden@innopolis.university\n",
    "Varek,Halden,18,3.74,AI Engineering,Writing,No,No,varek.halden@innopolis.university\n",
    "Kael,Senn,18,2.53,Mathematics,Coding,No,Yes,kael.senn@innopolis.university\n",
    "Casen,Orlin,18,4.16,Data Science,Baking,Yes,No,casen.orlin@innopolis.university\n",
    "Aylen,Kaelen,23,2.5,Robotics,Gymnastics,No,Yes,aylen.kaelen@innopolis.university\n",
    "Elira,Dorin,18,2.78,Computer Science,Rock Climbing,No,Yes,elira.dorin@innopolis.university\n",
    "Riven,Drelor,25,2.43,Computer Science,Writing,Yes,Yes,riven.drelor@innopolis.university\n",
    "Bram,Ravick,19,2.64,Software Engineering,Writing,Yes,Yes,bram.ravick@innopolis.university\n",
    "Mira,Ravick,21,2.47,Mathematics,Piano,Yes,Yes,mira.ravick@innopolis.university\n",
    "Jalen,Voss,21,,Mathematics,Writing,No,No,jalen.voss@innopolis.university\n",
    "... (remaining rows as provided) ...\n",
    "```\n",
    "\n",
    "name of the file is `students.csv`.\n"
   ]
  },
  {
   "cell_type": "markdown",
   "id": "c8ed7cbc",
   "metadata": {},
   "source": [
    "## Step 1: Load and Inspect Data (2 points)\n",
    "1. Import `pandas` and `numpy`.\n",
    "2. Read `students.csv` into a DataFrame `df`.\n",
    "3. Display the first 5 rows and summary of missing values."
   ]
  },
  {
   "cell_type": "code",
   "id": "9f574788",
   "metadata": {
    "ExecuteTime": {
     "end_time": "2025-07-16T20:21:51.390878Z",
     "start_time": "2025-07-16T20:21:51.375296Z"
    }
   },
   "source": [
    "# Karim Khabibrakhmanov, DSAI-05, G3, k.khabibrakhmanov@innopolis.university\n",
    "\n",
    "# 1. Importing libraries\n",
    "import pandas as pd\n",
    "import numpy as np\n",
    "\n",
    "# 2. Reading students.csv into df\n",
    "df = pd.read_csv('students.csv')\n",
    "\n",
    "# 3. Displaying the first 5 rows and summary about missing values\n",
    "print(df.head(5))\n",
    "print(df.isna().sum())"
   ],
   "outputs": [
    {
     "name": "stdout",
     "output_type": "stream",
     "text": [
      "    Name Surname  Age   GPA                Course        Hobby Scholarship  \\\n",
      "0   Nyra  Xanthe   18  3.74  Software Engineering      Writing          No   \n",
      "1  Doran  Mavren   18  2.38              Robotics  Photography         Yes   \n",
      "2  Aylen   Dorin   22  4.78       Computer Vision       Hiking          No   \n",
      "3   Kael  Halden   21  4.18              Robotics  Photography          No   \n",
      "4  Varek  Halden   18  3.74        AI Engineering      Writing          No   \n",
      "\n",
      "  Have Retakes                              Email  \n",
      "0           No   nyra.xanthe@innopolis.university  \n",
      "1          Yes  doran.mavren@innopolis.university  \n",
      "2           No   aylen.dorin@innopolis.university  \n",
      "3           No   kael.halden@innopolis.university  \n",
      "4           No  varek.halden@innopolis.university  \n",
      "Name            0\n",
      "Surname         0\n",
      "Age             0\n",
      "GPA             3\n",
      "Course          0\n",
      "Hobby           4\n",
      "Scholarship     4\n",
      "Have Retakes    0\n",
      "Email           4\n",
      "dtype: int64\n"
     ]
    }
   ],
   "execution_count": 1346
  },
  {
   "cell_type": "code",
   "id": "bddc4496",
   "metadata": {
    "ExecuteTime": {
     "end_time": "2025-07-16T20:21:51.397870Z",
     "start_time": "2025-07-16T20:21:51.395897Z"
    }
   },
   "source": [
    "assert isinstance(df, pd.DataFrame)\n",
    "assert df.shape[0] >= 10 and df.shape[1] == 9"
   ],
   "outputs": [],
   "execution_count": 1347
  },
  {
   "cell_type": "markdown",
   "id": "4a07c63a",
   "metadata": {},
   "source": [
    "## Step 2: Drop Students without Email (2 points)\n",
    "\n",
    "Remove any rows where the `Email` field is missing or blank."
   ]
  },
  {
   "cell_type": "code",
   "id": "0d94e636",
   "metadata": {
    "ExecuteTime": {
     "end_time": "2025-07-16T20:21:51.412484Z",
     "start_time": "2025-07-16T20:21:51.410269Z"
    }
   },
   "source": [
    "# Deleting all fields with missing Email\n",
    "df.dropna(subset = ['Email'],inplace=True)"
   ],
   "outputs": [],
   "execution_count": 1348
  },
  {
   "cell_type": "code",
   "id": "5f3440ea",
   "metadata": {
    "ExecuteTime": {
     "end_time": "2025-07-16T20:21:51.421731Z",
     "start_time": "2025-07-16T20:21:51.420068Z"
    }
   },
   "source": [
    "assert df['Email'].isnull().sum() == 0"
   ],
   "outputs": [],
   "execution_count": 1349
  },
  {
   "cell_type": "markdown",
   "id": "0e6b3263",
   "metadata": {},
   "source": [
    "## Step 3: Impute Scholarship Based on GPA (2 points)\n",
    "\n",
    "For any missing `Scholarship` entries, set to `'Yes'` if `GPA > 4.5`, otherwise `'No'`."
   ]
  },
  {
   "cell_type": "code",
   "id": "9217d77d",
   "metadata": {
    "ExecuteTime": {
     "end_time": "2025-07-16T20:21:51.430524Z",
     "start_time": "2025-07-16T20:21:51.428278Z"
    }
   },
   "source": [
    "# Function that set 'Yes' if GPA > 4.5, otherwise 'No' for missing information about Scholarship\n",
    "def impute_scholarship(row):\n",
    "    if pd.isnull(row['Scholarship']):\n",
    "        row['Scholarship'] = 'Yes' if row['GPA']>4.5 else 'No'\n",
    "    \n",
    "    return row['Scholarship']\n",
    "\n",
    "# Applying impute_scholarship into Data Frame\n",
    "df['Scholarship'] = df.apply(impute_scholarship, axis=1)"
   ],
   "outputs": [],
   "execution_count": 1350
  },
  {
   "cell_type": "code",
   "id": "2a616c2a",
   "metadata": {
    "ExecuteTime": {
     "end_time": "2025-07-16T20:21:51.438957Z",
     "start_time": "2025-07-16T20:21:51.436842Z"
    }
   },
   "source": [
    "assert df['Scholarship'].isnull().sum() == 0\n",
    "unique_vals = set(df['Scholarship'].unique())\n",
    "assert unique_vals <= {'Yes','No'}\n",
    "assert df['Scholarship'].value_counts()[\"Yes\"] == 47\n",
    "assert df['Scholarship'].value_counts()[\"No\"] == 49\n"
   ],
   "outputs": [],
   "execution_count": 1351
  },
  {
   "cell_type": "markdown",
   "id": "c394a113",
   "metadata": {},
   "source": [
    "## Step 4: Impute Missing GPA with Course Average (2 points)\n",
    "\n",
    "Replace any missing `GPA` with the average GPA for that student's course."
   ]
  },
  {
   "cell_type": "code",
   "id": "bbac8579",
   "metadata": {
    "ExecuteTime": {
     "end_time": "2025-07-16T20:21:51.446988Z",
     "start_time": "2025-07-16T20:21:51.444940Z"
    }
   },
   "source": [
    "# Computing the average GPA for each existing courses\n",
    "avg_per_course = df.groupby('Course')['GPA'].mean()\n",
    "\n",
    "# Function that replace any missing GP` with the average GPA for a given course\n",
    "def impute_gpa(row):\n",
    "    if pd.isnull(row['GPA']):\n",
    "        row['GPA'] = avg_per_course[row['Course']]\n",
    "    return row['GPA']"
   ],
   "outputs": [],
   "execution_count": 1352
  },
  {
   "cell_type": "code",
   "id": "b65a61c2",
   "metadata": {
    "ExecuteTime": {
     "end_time": "2025-07-16T20:21:51.454517Z",
     "start_time": "2025-07-16T20:21:51.452893Z"
    }
   },
   "source": [
    "# Applying impute_gpa into Data Frame\n",
    "df['GPA'] = df.apply(impute_gpa, axis=1)"
   ],
   "outputs": [],
   "execution_count": 1353
  },
  {
   "cell_type": "code",
   "id": "178d4700",
   "metadata": {
    "ExecuteTime": {
     "end_time": "2025-07-16T20:21:51.461962Z",
     "start_time": "2025-07-16T20:21:51.460481Z"
    }
   },
   "source": [
    "assert df['GPA'].isnull().sum() == 0\n",
    "assert abs(df['GPA'].mean()-3.4687) < 0.001"
   ],
   "outputs": [],
   "execution_count": 1354
  },
  {
   "cell_type": "markdown",
   "id": "ee30f355",
   "metadata": {},
   "source": [
    "## Step 5: Compute Average GPA per Course (2 points)\n",
    "\n",
    "Calculate and display the average GPA for each `Course`.\n"
   ]
  },
  {
   "cell_type": "code",
   "id": "d09a9a5d",
   "metadata": {
    "tags": [
     "`avg_per_course` was created in step 4"
    ],
    "ExecuteTime": {
     "end_time": "2025-07-16T20:21:51.470138Z",
     "start_time": "2025-07-16T20:21:51.468309Z"
    }
   },
   "source": [
    "# Calculation was performed in Step 4\n",
    "# Displaying the average GPA for each Course \n",
    "print(avg_per_course)"
   ],
   "outputs": [
    {
     "name": "stdout",
     "output_type": "stream",
     "text": [
      "Course\n",
      "AI Engineering          3.640000\n",
      "Computer Science        3.056667\n",
      "Computer Vision         3.786667\n",
      "Cybersecurity           3.462500\n",
      "Data Science            3.911250\n",
      "Information Security    2.975000\n",
      "Mathematics             3.506364\n",
      "Robotics                3.260909\n",
      "Software Engineering    3.706667\n",
      "Name: GPA, dtype: float64\n"
     ]
    }
   ],
   "execution_count": 1355
  },
  {
   "cell_type": "code",
   "id": "844c5a20",
   "metadata": {
    "ExecuteTime": {
     "end_time": "2025-07-16T20:21:51.478896Z",
     "start_time": "2025-07-16T20:21:51.476803Z"
    }
   },
   "source": [
    "assert isinstance(avg_per_course, pd.Series)\n",
    "assert set(avg_per_course.index) == set(df['Course'].unique())\n",
    "assert abs(avg_per_course.sum()-31.306022)<0.0001"
   ],
   "outputs": [],
   "execution_count": 1356
  },
  {
   "cell_type": "markdown",
   "id": "174a97a7",
   "metadata": {},
   "source": [
    "## Step 6: Drop Non-Categorical, Non-Numerical Columns (2 points)\n",
    "\n",
    "Remove columns that are neither numeric nor categorical features for analysis ( `Name`, `Surname`, `Email`, `Hobby`).\n"
   ]
  },
  {
   "cell_type": "code",
   "id": "da34bfde",
   "metadata": {
    "ExecuteTime": {
     "end_time": "2025-07-16T20:21:51.488639Z",
     "start_time": "2025-07-16T20:21:51.486451Z"
    }
   },
   "source": [
    "# List containing Non-Categorical, Non-Numerical Column names (`Name`, `Surname`, `Email`, `Hobby`)\n",
    "cols_to_drop = ['Name', 'Surname', 'Email', 'Hobby']\n",
    "\n",
    "# Fixing the problem: KeyError: \"['Name', 'Surname', 'Email', 'Hobby'] not found in axis\"\n",
    "found_in_axis_columns = [col for col in cols_to_drop if col in df.columns]\n",
    "\n",
    "# Droping this columns\n",
    "df.drop(columns=found_in_axis_columns, inplace=True)"
   ],
   "outputs": [],
   "execution_count": 1357
  },
  {
   "cell_type": "code",
   "id": "5b77a3d1",
   "metadata": {
    "ExecuteTime": {
     "end_time": "2025-07-16T20:21:51.496405Z",
     "start_time": "2025-07-16T20:21:51.495123Z"
    }
   },
   "source": [
    "for col in cols_to_drop:\n",
    "    assert col not in df.columns"
   ],
   "outputs": [],
   "execution_count": 1358
  },
  {
   "cell_type": "markdown",
   "id": "5e44af50",
   "metadata": {},
   "source": [
    "## Step 7: Encode Categorical Variables (2 points)\n",
    "\n",
    "Convert all categorical columns (`Course`, `Scholarship`, `Have Retakes`) to numeric codes starting from 1.\n"
   ]
  },
  {
   "cell_type": "code",
   "id": "b43e60b6",
   "metadata": {
    "ExecuteTime": {
     "end_time": "2025-07-16T20:21:51.507227Z",
     "start_time": "2025-07-16T20:21:51.502529Z"
    }
   },
   "source": [
    "# List containing Categorical Column names (`Course`, `Scholarship`, `Have Retakes`)\n",
    "cat_cols = ['Course', 'Scholarship', 'Have Retakes']\n",
    "\n",
    "# I have finalized my solution based on the user's response: shantanu pathak\n",
    "# Source: https://arc.net/l/quote/rapkvnlm\n",
    "\n",
    "# Making these columns Categorical\n",
    "df[cat_cols] = df[cat_cols].astype('category')\n",
    "\n",
    "# Replacing these columns with numbers starting from 1\n",
    "for col in df[cat_cols].columns:\n",
    "    df[col] = df[col].cat.codes + 1\n",
    "\n",
    "# Displaying types of these column items\n",
    "print(df[cat_cols].dtypes)"
   ],
   "outputs": [
    {
     "name": "stdout",
     "output_type": "stream",
     "text": [
      "Course          int8\n",
      "Scholarship     int8\n",
      "Have Retakes    int8\n",
      "dtype: object\n"
     ]
    }
   ],
   "execution_count": 1359
  },
  {
   "cell_type": "code",
   "id": "2d640b26",
   "metadata": {
    "ExecuteTime": {
     "end_time": "2025-07-16T20:21:51.515924Z",
     "start_time": "2025-07-16T20:21:51.514222Z"
    }
   },
   "source": [
    "for col in cat_cols:\n",
    "    assert pd.api.types.is_integer_dtype(df[col])\n",
    "    assert df[col].min() == 1"
   ],
   "outputs": [],
   "execution_count": 1360
  },
  {
   "cell_type": "markdown",
   "id": "669638d5",
   "metadata": {},
   "source": [
    "\n",
    "## Step 8: Normalize All Features (2 points)\n",
    "\n",
    "Normalize the numeric DataFrame so each column has zero mean and unit variance."
   ]
  },
  {
   "cell_type": "code",
   "id": "dfb85fb4",
   "metadata": {
    "ExecuteTime": {
     "end_time": "2025-07-16T20:21:51.524894Z",
     "start_time": "2025-07-16T20:21:51.521974Z"
    }
   },
   "source": [
    "# List containing Numeric Column names (`Age`, `GPA`)\n",
    "num_cols = ['Age', 'GPA']\n",
    "\n",
    "# Making these columns Float types\n",
    "df[num_cols] = df[num_cols].astype('float')\n",
    "\n",
    "# I used normalize with Z-score\n",
    "# Source: https://arc.net/l/quote/szujbnhv\n",
    "df_norm = (df[num_cols] - df[num_cols].mean()) / df[num_cols].std(ddof=0)"
   ],
   "outputs": [],
   "execution_count": 1361
  },
  {
   "cell_type": "code",
   "id": "541fb607",
   "metadata": {
    "ExecuteTime": {
     "end_time": "2025-07-16T20:21:51.532242Z",
     "start_time": "2025-07-16T20:21:51.530617Z"
    }
   },
   "source": [
    "assert np.allclose(df_norm.mean(), 0, atol=1e-8)\n",
    "assert np.allclose(df_norm.std(ddof=0), 1, atol=1e-8)"
   ],
   "outputs": [],
   "execution_count": 1362
  },
  {
   "cell_type": "markdown",
   "id": "a480c014",
   "metadata": {},
   "source": [
    "## Step 9: Compute Covariance Matrix (2 points)\n",
    "\n",
    "Compute the covariance matrix of the normalized data."
   ]
  },
  {
   "cell_type": "code",
   "id": "f0266630",
   "metadata": {
    "ExecuteTime": {
     "end_time": "2025-07-16T20:21:51.539297Z",
     "start_time": "2025-07-16T20:21:51.537824Z"
    }
   },
   "source": [
    "# Information about covariance matrix\n",
    "# Source: https://www.geeksforgeeks.org/maths/covariance-matrix/\n",
    "\n",
    "# Information about the built-in matrix calculation\n",
    "# Source: https://pandas.pydata.org/docs/reference/api/pandas.DataFrame.cov.html\n",
    "cov_matrix = df_norm.cov()"
   ],
   "outputs": [],
   "execution_count": 1363
  },
  {
   "cell_type": "code",
   "id": "8faf3507",
   "metadata": {
    "ExecuteTime": {
     "end_time": "2025-07-16T20:21:51.546913Z",
     "start_time": "2025-07-16T20:21:51.545235Z"
    }
   },
   "source": [
    "d = df_norm.shape[1]\n",
    "assert cov_matrix.shape == (d, d)\n",
    "assert np.allclose(cov_matrix, cov_matrix.T, atol=1e-8)"
   ],
   "outputs": [],
   "execution_count": 1364
  },
  {
   "cell_type": "markdown",
   "id": "ed16deab",
   "metadata": {},
   "source": [
    "## Step 10: Eigenvalues and Eigenvectors (2 points)\n",
    "\n",
    "Compute eigenvalues and eigenvectors of the covariance matrix.\n"
   ]
  },
  {
   "cell_type": "code",
   "id": "f7dc8110",
   "metadata": {
    "ExecuteTime": {
     "end_time": "2025-07-16T20:21:51.554454Z",
     "start_time": "2025-07-16T20:21:51.552874Z"
    }
   },
   "source": [
    "# Information about the built-in functions for counting eigenvalues and eigenvectors\n",
    "# Source: https://pythonnumericalmethods.studentorg.berkeley.edu/notebooks/chapter15.04-Eigenvalues-and-Eigenvectors-in-Python.html\n",
    "eig_vals,eig_vecs = np.linalg.eig(cov_matrix)"
   ],
   "outputs": [],
   "execution_count": 1365
  },
  {
   "cell_type": "code",
   "id": "6f041a26",
   "metadata": {
    "ExecuteTime": {
     "end_time": "2025-07-16T20:21:51.561874Z",
     "start_time": "2025-07-16T20:21:51.560511Z"
    }
   },
   "source": [
    "assert eig_vals.shape[0] == d\n",
    "assert eig_vecs.shape == (d, d)"
   ],
   "outputs": [],
   "execution_count": 1366
  },
  {
   "cell_type": "code",
   "id": "a0f638cd",
   "metadata": {
    "ExecuteTime": {
     "end_time": "2025-07-16T20:21:51.569042Z",
     "start_time": "2025-07-16T20:21:51.567582Z"
    }
   },
   "source": [
    "idx = np.argmax(eig_vals)\n",
    "v = eig_vecs[:, idx]\n",
    "assert np.allclose(cov_matrix.dot(v), eig_vals[idx] * v, atol=1e-6)"
   ],
   "outputs": [],
   "execution_count": 1367
  }
 ],
 "metadata": {
  "kernelspec": {
   "display_name": "Python 3 (ipykernel)",
   "language": "python",
   "name": "python3"
  },
  "language_info": {
   "codemirror_mode": {
    "name": "ipython",
    "version": 3
   },
   "file_extension": ".py",
   "mimetype": "text/x-python",
   "name": "python",
   "nbconvert_exporter": "python",
   "pygments_lexer": "ipython3",
   "version": "3.9.16"
  }
 },
 "nbformat": 4,
 "nbformat_minor": 5
}
