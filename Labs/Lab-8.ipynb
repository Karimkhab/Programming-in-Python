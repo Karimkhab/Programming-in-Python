{
 "cells": [
  {
   "metadata": {},
   "cell_type": "markdown",
   "source": [
    "# Programing in Python\n",
    "## Lab-8 Programing in Python\n",
    "### Exercise 1"
   ],
   "id": "3d1b809c0a1ee4f1"
  },
  {
   "cell_type": "code",
   "id": "initial_id",
   "metadata": {
    "collapsed": true,
    "ExecuteTime": {
     "end_time": "2025-07-15T11:41:51.054119Z",
     "start_time": "2025-07-15T11:41:50.778056Z"
    }
   },
   "source": [
    "import pandas as pd\n",
    "import matplotlib.pyplot as plt"
   ],
   "outputs": [],
   "execution_count": 6
  },
  {
   "metadata": {
    "ExecuteTime": {
     "end_time": "2025-07-15T11:40:51.143482Z",
     "start_time": "2025-07-15T11:40:50.447155Z"
    }
   },
   "cell_type": "code",
   "source": [
    "df = pd.read_csv('owid-covid-data.csv')\n",
    "df['date'] = pd.to_datetime(df['date'])\n",
    "df = df[df['location'] == 'Germany']\n",
    "df.head(10)"
   ],
   "id": "bbfda568d7e2ad7c",
   "outputs": [
    {
     "data": {
      "text/plain": [
       "       iso_code continent location       date  total_cases  new_cases  \\\n",
       "140411      DEU    Europe  Germany 2020-01-05          1.0        1.0   \n",
       "140412      DEU    Europe  Germany 2020-01-06          1.0        0.0   \n",
       "140413      DEU    Europe  Germany 2020-01-07          1.0        0.0   \n",
       "140414      DEU    Europe  Germany 2020-01-08          1.0        0.0   \n",
       "140415      DEU    Europe  Germany 2020-01-09          1.0        0.0   \n",
       "140416      DEU    Europe  Germany 2020-01-10          1.0        0.0   \n",
       "140417      DEU    Europe  Germany 2020-01-11          1.0        0.0   \n",
       "140418      DEU    Europe  Germany 2020-01-12          1.0        0.0   \n",
       "140419      DEU    Europe  Germany 2020-01-13          1.0        0.0   \n",
       "140420      DEU    Europe  Germany 2020-01-14          1.0        0.0   \n",
       "\n",
       "        new_cases_smoothed  total_deaths  new_deaths  new_deaths_smoothed  \\\n",
       "140411                 NaN           3.0         3.0                  NaN   \n",
       "140412                 NaN           3.0         0.0                  NaN   \n",
       "140413                 NaN           3.0         0.0                  NaN   \n",
       "140414                 NaN           3.0         0.0                  NaN   \n",
       "140415                 NaN           3.0         0.0                  NaN   \n",
       "140416               0.143           3.0         0.0                0.429   \n",
       "140417               0.143           3.0         0.0                0.429   \n",
       "140418               0.000           3.0         0.0                0.000   \n",
       "140419               0.000           3.0         0.0                0.000   \n",
       "140420               0.000           3.0         0.0                0.000   \n",
       "\n",
       "        ...  male_smokers  handwashing_facilities  hospital_beds_per_thousand  \\\n",
       "140411  ...          33.1                     NaN                         8.0   \n",
       "140412  ...          33.1                     NaN                         8.0   \n",
       "140413  ...          33.1                     NaN                         8.0   \n",
       "140414  ...          33.1                     NaN                         8.0   \n",
       "140415  ...          33.1                     NaN                         8.0   \n",
       "140416  ...          33.1                     NaN                         8.0   \n",
       "140417  ...          33.1                     NaN                         8.0   \n",
       "140418  ...          33.1                     NaN                         8.0   \n",
       "140419  ...          33.1                     NaN                         8.0   \n",
       "140420  ...          33.1                     NaN                         8.0   \n",
       "\n",
       "        life_expectancy  human_development_index  population  \\\n",
       "140411            81.33                    0.947    83369840   \n",
       "140412            81.33                    0.947    83369840   \n",
       "140413            81.33                    0.947    83369840   \n",
       "140414            81.33                    0.947    83369840   \n",
       "140415            81.33                    0.947    83369840   \n",
       "140416            81.33                    0.947    83369840   \n",
       "140417            81.33                    0.947    83369840   \n",
       "140418            81.33                    0.947    83369840   \n",
       "140419            81.33                    0.947    83369840   \n",
       "140420            81.33                    0.947    83369840   \n",
       "\n",
       "        excess_mortality_cumulative_absolute  excess_mortality_cumulative  \\\n",
       "140411                             -760.7000                        -3.87   \n",
       "140412                                   NaN                          NaN   \n",
       "140413                                   NaN                          NaN   \n",
       "140414                                   NaN                          NaN   \n",
       "140415                                   NaN                          NaN   \n",
       "140416                                   NaN                          NaN   \n",
       "140417                                   NaN                          NaN   \n",
       "140418                            -1317.6001                        -3.33   \n",
       "140419                                   NaN                          NaN   \n",
       "140420                                   NaN                          NaN   \n",
       "\n",
       "        excess_mortality  excess_mortality_cumulative_per_million  \n",
       "140411             -3.87                                -9.128876  \n",
       "140412               NaN                                      NaN  \n",
       "140413               NaN                                      NaN  \n",
       "140414               NaN                                      NaN  \n",
       "140415               NaN                                      NaN  \n",
       "140416               NaN                                      NaN  \n",
       "140417               NaN                                      NaN  \n",
       "140418             -2.79                               -15.812025  \n",
       "140419               NaN                                      NaN  \n",
       "140420               NaN                                      NaN  \n",
       "\n",
       "[10 rows x 67 columns]"
      ],
      "text/html": [
       "<div>\n",
       "<style scoped>\n",
       "    .dataframe tbody tr th:only-of-type {\n",
       "        vertical-align: middle;\n",
       "    }\n",
       "\n",
       "    .dataframe tbody tr th {\n",
       "        vertical-align: top;\n",
       "    }\n",
       "\n",
       "    .dataframe thead th {\n",
       "        text-align: right;\n",
       "    }\n",
       "</style>\n",
       "<table border=\"1\" class=\"dataframe\">\n",
       "  <thead>\n",
       "    <tr style=\"text-align: right;\">\n",
       "      <th></th>\n",
       "      <th>iso_code</th>\n",
       "      <th>continent</th>\n",
       "      <th>location</th>\n",
       "      <th>date</th>\n",
       "      <th>total_cases</th>\n",
       "      <th>new_cases</th>\n",
       "      <th>new_cases_smoothed</th>\n",
       "      <th>total_deaths</th>\n",
       "      <th>new_deaths</th>\n",
       "      <th>new_deaths_smoothed</th>\n",
       "      <th>...</th>\n",
       "      <th>male_smokers</th>\n",
       "      <th>handwashing_facilities</th>\n",
       "      <th>hospital_beds_per_thousand</th>\n",
       "      <th>life_expectancy</th>\n",
       "      <th>human_development_index</th>\n",
       "      <th>population</th>\n",
       "      <th>excess_mortality_cumulative_absolute</th>\n",
       "      <th>excess_mortality_cumulative</th>\n",
       "      <th>excess_mortality</th>\n",
       "      <th>excess_mortality_cumulative_per_million</th>\n",
       "    </tr>\n",
       "  </thead>\n",
       "  <tbody>\n",
       "    <tr>\n",
       "      <th>140411</th>\n",
       "      <td>DEU</td>\n",
       "      <td>Europe</td>\n",
       "      <td>Germany</td>\n",
       "      <td>2020-01-05</td>\n",
       "      <td>1.0</td>\n",
       "      <td>1.0</td>\n",
       "      <td>NaN</td>\n",
       "      <td>3.0</td>\n",
       "      <td>3.0</td>\n",
       "      <td>NaN</td>\n",
       "      <td>...</td>\n",
       "      <td>33.1</td>\n",
       "      <td>NaN</td>\n",
       "      <td>8.0</td>\n",
       "      <td>81.33</td>\n",
       "      <td>0.947</td>\n",
       "      <td>83369840</td>\n",
       "      <td>-760.7000</td>\n",
       "      <td>-3.87</td>\n",
       "      <td>-3.87</td>\n",
       "      <td>-9.128876</td>\n",
       "    </tr>\n",
       "    <tr>\n",
       "      <th>140412</th>\n",
       "      <td>DEU</td>\n",
       "      <td>Europe</td>\n",
       "      <td>Germany</td>\n",
       "      <td>2020-01-06</td>\n",
       "      <td>1.0</td>\n",
       "      <td>0.0</td>\n",
       "      <td>NaN</td>\n",
       "      <td>3.0</td>\n",
       "      <td>0.0</td>\n",
       "      <td>NaN</td>\n",
       "      <td>...</td>\n",
       "      <td>33.1</td>\n",
       "      <td>NaN</td>\n",
       "      <td>8.0</td>\n",
       "      <td>81.33</td>\n",
       "      <td>0.947</td>\n",
       "      <td>83369840</td>\n",
       "      <td>NaN</td>\n",
       "      <td>NaN</td>\n",
       "      <td>NaN</td>\n",
       "      <td>NaN</td>\n",
       "    </tr>\n",
       "    <tr>\n",
       "      <th>140413</th>\n",
       "      <td>DEU</td>\n",
       "      <td>Europe</td>\n",
       "      <td>Germany</td>\n",
       "      <td>2020-01-07</td>\n",
       "      <td>1.0</td>\n",
       "      <td>0.0</td>\n",
       "      <td>NaN</td>\n",
       "      <td>3.0</td>\n",
       "      <td>0.0</td>\n",
       "      <td>NaN</td>\n",
       "      <td>...</td>\n",
       "      <td>33.1</td>\n",
       "      <td>NaN</td>\n",
       "      <td>8.0</td>\n",
       "      <td>81.33</td>\n",
       "      <td>0.947</td>\n",
       "      <td>83369840</td>\n",
       "      <td>NaN</td>\n",
       "      <td>NaN</td>\n",
       "      <td>NaN</td>\n",
       "      <td>NaN</td>\n",
       "    </tr>\n",
       "    <tr>\n",
       "      <th>140414</th>\n",
       "      <td>DEU</td>\n",
       "      <td>Europe</td>\n",
       "      <td>Germany</td>\n",
       "      <td>2020-01-08</td>\n",
       "      <td>1.0</td>\n",
       "      <td>0.0</td>\n",
       "      <td>NaN</td>\n",
       "      <td>3.0</td>\n",
       "      <td>0.0</td>\n",
       "      <td>NaN</td>\n",
       "      <td>...</td>\n",
       "      <td>33.1</td>\n",
       "      <td>NaN</td>\n",
       "      <td>8.0</td>\n",
       "      <td>81.33</td>\n",
       "      <td>0.947</td>\n",
       "      <td>83369840</td>\n",
       "      <td>NaN</td>\n",
       "      <td>NaN</td>\n",
       "      <td>NaN</td>\n",
       "      <td>NaN</td>\n",
       "    </tr>\n",
       "    <tr>\n",
       "      <th>140415</th>\n",
       "      <td>DEU</td>\n",
       "      <td>Europe</td>\n",
       "      <td>Germany</td>\n",
       "      <td>2020-01-09</td>\n",
       "      <td>1.0</td>\n",
       "      <td>0.0</td>\n",
       "      <td>NaN</td>\n",
       "      <td>3.0</td>\n",
       "      <td>0.0</td>\n",
       "      <td>NaN</td>\n",
       "      <td>...</td>\n",
       "      <td>33.1</td>\n",
       "      <td>NaN</td>\n",
       "      <td>8.0</td>\n",
       "      <td>81.33</td>\n",
       "      <td>0.947</td>\n",
       "      <td>83369840</td>\n",
       "      <td>NaN</td>\n",
       "      <td>NaN</td>\n",
       "      <td>NaN</td>\n",
       "      <td>NaN</td>\n",
       "    </tr>\n",
       "    <tr>\n",
       "      <th>140416</th>\n",
       "      <td>DEU</td>\n",
       "      <td>Europe</td>\n",
       "      <td>Germany</td>\n",
       "      <td>2020-01-10</td>\n",
       "      <td>1.0</td>\n",
       "      <td>0.0</td>\n",
       "      <td>0.143</td>\n",
       "      <td>3.0</td>\n",
       "      <td>0.0</td>\n",
       "      <td>0.429</td>\n",
       "      <td>...</td>\n",
       "      <td>33.1</td>\n",
       "      <td>NaN</td>\n",
       "      <td>8.0</td>\n",
       "      <td>81.33</td>\n",
       "      <td>0.947</td>\n",
       "      <td>83369840</td>\n",
       "      <td>NaN</td>\n",
       "      <td>NaN</td>\n",
       "      <td>NaN</td>\n",
       "      <td>NaN</td>\n",
       "    </tr>\n",
       "    <tr>\n",
       "      <th>140417</th>\n",
       "      <td>DEU</td>\n",
       "      <td>Europe</td>\n",
       "      <td>Germany</td>\n",
       "      <td>2020-01-11</td>\n",
       "      <td>1.0</td>\n",
       "      <td>0.0</td>\n",
       "      <td>0.143</td>\n",
       "      <td>3.0</td>\n",
       "      <td>0.0</td>\n",
       "      <td>0.429</td>\n",
       "      <td>...</td>\n",
       "      <td>33.1</td>\n",
       "      <td>NaN</td>\n",
       "      <td>8.0</td>\n",
       "      <td>81.33</td>\n",
       "      <td>0.947</td>\n",
       "      <td>83369840</td>\n",
       "      <td>NaN</td>\n",
       "      <td>NaN</td>\n",
       "      <td>NaN</td>\n",
       "      <td>NaN</td>\n",
       "    </tr>\n",
       "    <tr>\n",
       "      <th>140418</th>\n",
       "      <td>DEU</td>\n",
       "      <td>Europe</td>\n",
       "      <td>Germany</td>\n",
       "      <td>2020-01-12</td>\n",
       "      <td>1.0</td>\n",
       "      <td>0.0</td>\n",
       "      <td>0.000</td>\n",
       "      <td>3.0</td>\n",
       "      <td>0.0</td>\n",
       "      <td>0.000</td>\n",
       "      <td>...</td>\n",
       "      <td>33.1</td>\n",
       "      <td>NaN</td>\n",
       "      <td>8.0</td>\n",
       "      <td>81.33</td>\n",
       "      <td>0.947</td>\n",
       "      <td>83369840</td>\n",
       "      <td>-1317.6001</td>\n",
       "      <td>-3.33</td>\n",
       "      <td>-2.79</td>\n",
       "      <td>-15.812025</td>\n",
       "    </tr>\n",
       "    <tr>\n",
       "      <th>140419</th>\n",
       "      <td>DEU</td>\n",
       "      <td>Europe</td>\n",
       "      <td>Germany</td>\n",
       "      <td>2020-01-13</td>\n",
       "      <td>1.0</td>\n",
       "      <td>0.0</td>\n",
       "      <td>0.000</td>\n",
       "      <td>3.0</td>\n",
       "      <td>0.0</td>\n",
       "      <td>0.000</td>\n",
       "      <td>...</td>\n",
       "      <td>33.1</td>\n",
       "      <td>NaN</td>\n",
       "      <td>8.0</td>\n",
       "      <td>81.33</td>\n",
       "      <td>0.947</td>\n",
       "      <td>83369840</td>\n",
       "      <td>NaN</td>\n",
       "      <td>NaN</td>\n",
       "      <td>NaN</td>\n",
       "      <td>NaN</td>\n",
       "    </tr>\n",
       "    <tr>\n",
       "      <th>140420</th>\n",
       "      <td>DEU</td>\n",
       "      <td>Europe</td>\n",
       "      <td>Germany</td>\n",
       "      <td>2020-01-14</td>\n",
       "      <td>1.0</td>\n",
       "      <td>0.0</td>\n",
       "      <td>0.000</td>\n",
       "      <td>3.0</td>\n",
       "      <td>0.0</td>\n",
       "      <td>0.000</td>\n",
       "      <td>...</td>\n",
       "      <td>33.1</td>\n",
       "      <td>NaN</td>\n",
       "      <td>8.0</td>\n",
       "      <td>81.33</td>\n",
       "      <td>0.947</td>\n",
       "      <td>83369840</td>\n",
       "      <td>NaN</td>\n",
       "      <td>NaN</td>\n",
       "      <td>NaN</td>\n",
       "      <td>NaN</td>\n",
       "    </tr>\n",
       "  </tbody>\n",
       "</table>\n",
       "<p>10 rows × 67 columns</p>\n",
       "</div>"
      ]
     },
     "execution_count": 5,
     "metadata": {},
     "output_type": "execute_result"
    }
   ],
   "execution_count": 5
  },
  {
   "metadata": {
    "ExecuteTime": {
     "end_time": "2025-07-15T11:57:52.865305Z",
     "start_time": "2025-07-15T11:57:52.804941Z"
    }
   },
   "cell_type": "code",
   "source": [
    "plt.plot(df['date'], df['new_cases'], color = 'black', label='Daily Cases')\n",
    "plt.title(\"COVID-19 Cases in Germany\")\n",
    "plt.xlabel(\"Date\")\n",
    "plt.ylabel(\"Cases\")\n",
    "plt.legend()\n",
    "plt.show()"
   ],
   "id": "c33c9699ad302971",
   "outputs": [
    {
     "data": {
      "text/plain": [
       "<Figure size 640x480 with 1 Axes>"
      ],
      "image/png": "[encoded data removed]"
     },
     "metadata": {},
     "output_type": "display_data"
    }
   ],
   "execution_count": 33
  },
  {
   "metadata": {},
   "cell_type": "markdown",
   "source": "### Exercise 2",
   "id": "d82e49ed51c6bb1b"
  },
  {
   "metadata": {
    "ExecuteTime": {
     "end_time": "2025-07-15T11:44:12.401834Z",
     "start_time": "2025-07-15T11:44:10.475191Z"
    }
   },
   "cell_type": "code",
   "source": "import seaborn as sns",
   "id": "fc1b86e93f6a2f43",
   "outputs": [],
   "execution_count": 8
  },
  {
   "metadata": {
    "ExecuteTime": {
     "end_time": "2025-07-15T11:48:32.151778Z",
     "start_time": "2025-07-15T11:48:31.491201Z"
    }
   },
   "cell_type": "code",
   "source": [
    "pgns = sns.load_dataset('penguins')\n",
    "pgns.head(10)"
   ],
   "id": "67d77fbf49a2cd56",
   "outputs": [
    {
     "data": {
      "text/plain": [
       "  species     island  bill_length_mm  bill_depth_mm  flipper_length_mm  \\\n",
       "0  Adelie  Torgersen            39.1           18.7              181.0   \n",
       "1  Adelie  Torgersen            39.5           17.4              186.0   \n",
       "2  Adelie  Torgersen            40.3           18.0              195.0   \n",
       "3  Adelie  Torgersen             NaN            NaN                NaN   \n",
       "4  Adelie  Torgersen            36.7           19.3              193.0   \n",
       "5  Adelie  Torgersen            39.3           20.6              190.0   \n",
       "6  Adelie  Torgersen            38.9           17.8              181.0   \n",
       "7  Adelie  Torgersen            39.2           19.6              195.0   \n",
       "8  Adelie  Torgersen            34.1           18.1              193.0   \n",
       "9  Adelie  Torgersen            42.0           20.2              190.0   \n",
       "\n",
       "   body_mass_g     sex  \n",
       "0       3750.0    Male  \n",
       "1       3800.0  Female  \n",
       "2       3250.0  Female  \n",
       "3          NaN     NaN  \n",
       "4       3450.0  Female  \n",
       "5       3650.0    Male  \n",
       "6       3625.0  Female  \n",
       "7       4675.0    Male  \n",
       "8       3475.0     NaN  \n",
       "9       4250.0     NaN  "
      ],
      "text/html": [
       "<div>\n",
       "<style scoped>\n",
       "    .dataframe tbody tr th:only-of-type {\n",
       "        vertical-align: middle;\n",
       "    }\n",
       "\n",
       "    .dataframe tbody tr th {\n",
       "        vertical-align: top;\n",
       "    }\n",
       "\n",
       "    .dataframe thead th {\n",
       "        text-align: right;\n",
       "    }\n",
       "</style>\n",
       "<table border=\"1\" class=\"dataframe\">\n",
       "  <thead>\n",
       "    <tr style=\"text-align: right;\">\n",
       "      <th></th>\n",
       "      <th>species</th>\n",
       "      <th>island</th>\n",
       "      <th>bill_length_mm</th>\n",
       "      <th>bill_depth_mm</th>\n",
       "      <th>flipper_length_mm</th>\n",
       "      <th>body_mass_g</th>\n",
       "      <th>sex</th>\n",
       "    </tr>\n",
       "  </thead>\n",
       "  <tbody>\n",
       "    <tr>\n",
       "      <th>0</th>\n",
       "      <td>Adelie</td>\n",
       "      <td>Torgersen</td>\n",
       "      <td>39.1</td>\n",
       "      <td>18.7</td>\n",
       "      <td>181.0</td>\n",
       "      <td>3750.0</td>\n",
       "      <td>Male</td>\n",
       "    </tr>\n",
       "    <tr>\n",
       "      <th>1</th>\n",
       "      <td>Adelie</td>\n",
       "      <td>Torgersen</td>\n",
       "      <td>39.5</td>\n",
       "      <td>17.4</td>\n",
       "      <td>186.0</td>\n",
       "      <td>3800.0</td>\n",
       "      <td>Female</td>\n",
       "    </tr>\n",
       "    <tr>\n",
       "      <th>2</th>\n",
       "      <td>Adelie</td>\n",
       "      <td>Torgersen</td>\n",
       "      <td>40.3</td>\n",
       "      <td>18.0</td>\n",
       "      <td>195.0</td>\n",
       "      <td>3250.0</td>\n",
       "      <td>Female</td>\n",
       "    </tr>\n",
       "    <tr>\n",
       "      <th>3</th>\n",
       "      <td>Adelie</td>\n",
       "      <td>Torgersen</td>\n",
       "      <td>NaN</td>\n",
       "      <td>NaN</td>\n",
       "      <td>NaN</td>\n",
       "      <td>NaN</td>\n",
       "      <td>NaN</td>\n",
       "    </tr>\n",
       "    <tr>\n",
       "      <th>4</th>\n",
       "      <td>Adelie</td>\n",
       "      <td>Torgersen</td>\n",
       "      <td>36.7</td>\n",
       "      <td>19.3</td>\n",
       "      <td>193.0</td>\n",
       "      <td>3450.0</td>\n",
       "      <td>Female</td>\n",
       "    </tr>\n",
       "    <tr>\n",
       "      <th>5</th>\n",
       "      <td>Adelie</td>\n",
       "      <td>Torgersen</td>\n",
       "      <td>39.3</td>\n",
       "      <td>20.6</td>\n",
       "      <td>190.0</td>\n",
       "      <td>3650.0</td>\n",
       "      <td>Male</td>\n",
       "    </tr>\n",
       "    <tr>\n",
       "      <th>6</th>\n",
       "      <td>Adelie</td>\n",
       "      <td>Torgersen</td>\n",
       "      <td>38.9</td>\n",
       "      <td>17.8</td>\n",
       "      <td>181.0</td>\n",
       "      <td>3625.0</td>\n",
       "      <td>Female</td>\n",
       "    </tr>\n",
       "    <tr>\n",
       "      <th>7</th>\n",
       "      <td>Adelie</td>\n",
       "      <td>Torgersen</td>\n",
       "      <td>39.2</td>\n",
       "      <td>19.6</td>\n",
       "      <td>195.0</td>\n",
       "      <td>4675.0</td>\n",
       "      <td>Male</td>\n",
       "    </tr>\n",
       "    <tr>\n",
       "      <th>8</th>\n",
       "      <td>Adelie</td>\n",
       "      <td>Torgersen</td>\n",
       "      <td>34.1</td>\n",
       "      <td>18.1</td>\n",
       "      <td>193.0</td>\n",
       "      <td>3475.0</td>\n",
       "      <td>NaN</td>\n",
       "    </tr>\n",
       "    <tr>\n",
       "      <th>9</th>\n",
       "      <td>Adelie</td>\n",
       "      <td>Torgersen</td>\n",
       "      <td>42.0</td>\n",
       "      <td>20.2</td>\n",
       "      <td>190.0</td>\n",
       "      <td>4250.0</td>\n",
       "      <td>NaN</td>\n",
       "    </tr>\n",
       "  </tbody>\n",
       "</table>\n",
       "</div>"
      ]
     },
     "execution_count": 10,
     "metadata": {},
     "output_type": "execute_result"
    }
   ],
   "execution_count": 10
  },
  {
   "metadata": {
    "ExecuteTime": {
     "end_time": "2025-07-15T11:58:14.165677Z",
     "start_time": "2025-07-15T11:58:14.087763Z"
    }
   },
   "cell_type": "code",
   "source": [
    "sns.histplot(pgns['body_mass_g'], color = 'black', kde=True, bins=25)\n",
    "plt.title(\"Penguin Body Mass Distribution\")\n",
    "plt.show()"
   ],
   "id": "adec9ce5a981641",
   "outputs": [
    {
     "data": {
      "text/plain": [
       "<Figure size 640x480 with 1 Axes>"
      ],
      "image/png": "[encoded data removed]"
     },
     "metadata": {},
     "output_type": "display_data"
    }
   ],
   "execution_count": 35
  },
  {
   "metadata": {},
   "cell_type": "markdown",
   "source": "### Exercise 3",
   "id": "f5f0f61e07f5997"
  },
  {
   "metadata": {
    "ExecuteTime": {
     "end_time": "2025-07-15T11:59:06.705349Z",
     "start_time": "2025-07-15T11:59:06.696221Z"
    }
   },
   "cell_type": "code",
   "source": [
    "pngs = sns.load_dataset('penguins')\n",
    "pngs.head(10)"
   ],
   "id": "e1b5a476002c07df",
   "outputs": [
    {
     "data": {
      "text/plain": [
       "  species     island  bill_length_mm  bill_depth_mm  flipper_length_mm  \\\n",
       "0  Adelie  Torgersen            39.1           18.7              181.0   \n",
       "1  Adelie  Torgersen            39.5           17.4              186.0   \n",
       "2  Adelie  Torgersen            40.3           18.0              195.0   \n",
       "3  Adelie  Torgersen             NaN            NaN                NaN   \n",
       "4  Adelie  Torgersen            36.7           19.3              193.0   \n",
       "5  Adelie  Torgersen            39.3           20.6              190.0   \n",
       "6  Adelie  Torgersen            38.9           17.8              181.0   \n",
       "7  Adelie  Torgersen            39.2           19.6              195.0   \n",
       "8  Adelie  Torgersen            34.1           18.1              193.0   \n",
       "9  Adelie  Torgersen            42.0           20.2              190.0   \n",
       "\n",
       "   body_mass_g     sex  \n",
       "0       3750.0    Male  \n",
       "1       3800.0  Female  \n",
       "2       3250.0  Female  \n",
       "3          NaN     NaN  \n",
       "4       3450.0  Female  \n",
       "5       3650.0    Male  \n",
       "6       3625.0  Female  \n",
       "7       4675.0    Male  \n",
       "8       3475.0     NaN  \n",
       "9       4250.0     NaN  "
      ],
      "text/html": [
       "<div>\n",
       "<style scoped>\n",
       "    .dataframe tbody tr th:only-of-type {\n",
       "        vertical-align: middle;\n",
       "    }\n",
       "\n",
       "    .dataframe tbody tr th {\n",
       "        vertical-align: top;\n",
       "    }\n",
       "\n",
       "    .dataframe thead th {\n",
       "        text-align: right;\n",
       "    }\n",
       "</style>\n",
       "<table border=\"1\" class=\"dataframe\">\n",
       "  <thead>\n",
       "    <tr style=\"text-align: right;\">\n",
       "      <th></th>\n",
       "      <th>species</th>\n",
       "      <th>island</th>\n",
       "      <th>bill_length_mm</th>\n",
       "      <th>bill_depth_mm</th>\n",
       "      <th>flipper_length_mm</th>\n",
       "      <th>body_mass_g</th>\n",
       "      <th>sex</th>\n",
       "    </tr>\n",
       "  </thead>\n",
       "  <tbody>\n",
       "    <tr>\n",
       "      <th>0</th>\n",
       "      <td>Adelie</td>\n",
       "      <td>Torgersen</td>\n",
       "      <td>39.1</td>\n",
       "      <td>18.7</td>\n",
       "      <td>181.0</td>\n",
       "      <td>3750.0</td>\n",
       "      <td>Male</td>\n",
       "    </tr>\n",
       "    <tr>\n",
       "      <th>1</th>\n",
       "      <td>Adelie</td>\n",
       "      <td>Torgersen</td>\n",
       "      <td>39.5</td>\n",
       "      <td>17.4</td>\n",
       "      <td>186.0</td>\n",
       "      <td>3800.0</td>\n",
       "      <td>Female</td>\n",
       "    </tr>\n",
       "    <tr>\n",
       "      <th>2</th>\n",
       "      <td>Adelie</td>\n",
       "      <td>Torgersen</td>\n",
       "      <td>40.3</td>\n",
       "      <td>18.0</td>\n",
       "      <td>195.0</td>\n",
       "      <td>3250.0</td>\n",
       "      <td>Female</td>\n",
       "    </tr>\n",
       "    <tr>\n",
       "      <th>3</th>\n",
       "      <td>Adelie</td>\n",
       "      <td>Torgersen</td>\n",
       "      <td>NaN</td>\n",
       "      <td>NaN</td>\n",
       "      <td>NaN</td>\n",
       "      <td>NaN</td>\n",
       "      <td>NaN</td>\n",
       "    </tr>\n",
       "    <tr>\n",
       "      <th>4</th>\n",
       "      <td>Adelie</td>\n",
       "      <td>Torgersen</td>\n",
       "      <td>36.7</td>\n",
       "      <td>19.3</td>\n",
       "      <td>193.0</td>\n",
       "      <td>3450.0</td>\n",
       "      <td>Female</td>\n",
       "    </tr>\n",
       "    <tr>\n",
       "      <th>5</th>\n",
       "      <td>Adelie</td>\n",
       "      <td>Torgersen</td>\n",
       "      <td>39.3</td>\n",
       "      <td>20.6</td>\n",
       "      <td>190.0</td>\n",
       "      <td>3650.0</td>\n",
       "      <td>Male</td>\n",
       "    </tr>\n",
       "    <tr>\n",
       "      <th>6</th>\n",
       "      <td>Adelie</td>\n",
       "      <td>Torgersen</td>\n",
       "      <td>38.9</td>\n",
       "      <td>17.8</td>\n",
       "      <td>181.0</td>\n",
       "      <td>3625.0</td>\n",
       "      <td>Female</td>\n",
       "    </tr>\n",
       "    <tr>\n",
       "      <th>7</th>\n",
       "      <td>Adelie</td>\n",
       "      <td>Torgersen</td>\n",
       "      <td>39.2</td>\n",
       "      <td>19.6</td>\n",
       "      <td>195.0</td>\n",
       "      <td>4675.0</td>\n",
       "      <td>Male</td>\n",
       "    </tr>\n",
       "    <tr>\n",
       "      <th>8</th>\n",
       "      <td>Adelie</td>\n",
       "      <td>Torgersen</td>\n",
       "      <td>34.1</td>\n",
       "      <td>18.1</td>\n",
       "      <td>193.0</td>\n",
       "      <td>3475.0</td>\n",
       "      <td>NaN</td>\n",
       "    </tr>\n",
       "    <tr>\n",
       "      <th>9</th>\n",
       "      <td>Adelie</td>\n",
       "      <td>Torgersen</td>\n",
       "      <td>42.0</td>\n",
       "      <td>20.2</td>\n",
       "      <td>190.0</td>\n",
       "      <td>4250.0</td>\n",
       "      <td>NaN</td>\n",
       "    </tr>\n",
       "  </tbody>\n",
       "</table>\n",
       "</div>"
      ]
     },
     "execution_count": 36,
     "metadata": {},
     "output_type": "execute_result"
    }
   ],
   "execution_count": 36
  },
  {
   "metadata": {
    "ExecuteTime": {
     "end_time": "2025-07-15T12:07:11.590852Z",
     "start_time": "2025-07-15T12:07:11.486868Z"
    }
   },
   "cell_type": "code",
   "source": [
    "sns.boxplot(data = pngs, x = 'species', y = 'flipper_length_mm', palette = 'Set2')\n",
    "sns.violinplot(data = pngs, x = 'species', y = 'body_mass_g', palette = 'Pastel1')\n",
    "plt.title(\"Penguin Body Mass Distribution\")\n",
    "plt.show()"
   ],
   "id": "372bdb8976e8104c",
   "outputs": [
    {
     "name": "stderr",
     "output_type": "stream",
     "text": [
      "/var/folders/ft/pkyxbgxd5qqcsz8hx6b9xk480000gn/T/ipykernel_10746/3500999298.py:1: FutureWarning: \n",
      "\n",
      "Passing `palette` without assigning `hue` is deprecated and will be removed in v0.14.0. Assign the `x` variable to `hue` and set `legend=False` for the same effect.\n",
      "\n",
      "  sns.boxplot(data = pngs, x = 'species', y = 'flipper_length_mm', palette = 'Set2')\n",
      "/var/folders/ft/pkyxbgxd5qqcsz8hx6b9xk480000gn/T/ipykernel_10746/3500999298.py:2: FutureWarning: \n",
      "\n",
      "Passing `palette` without assigning `hue` is deprecated and will be removed in v0.14.0. Assign the `x` variable to `hue` and set `legend=False` for the same effect.\n",
      "\n",
      "  sns.violinplot(data = pngs, x = 'species', y = 'body_mass_g', palette = 'Pastel1')\n"
     ]
    },
    {
     "data": {
      "text/plain": [
       "<Figure size 640x480 with 1 Axes>"
      ],
      "image/png": "[encoded data removed]"
     },
     "metadata": {},
     "output_type": "display_data"
    }
   ],
   "execution_count": 46
  },
  {
   "metadata": {},
   "cell_type": "markdown",
   "source": "### Exercise 4",
   "id": "72bdc339ad6570a8"
  },
  {
   "metadata": {
    "ExecuteTime": {
     "end_time": "2025-07-15T12:08:17.117037Z",
     "start_time": "2025-07-15T12:08:17.107526Z"
    }
   },
   "cell_type": "code",
   "source": [
    "pngs = sns.load_dataset('penguins')\n",
    "pngs.head(10)"
   ],
   "id": "4c98640d4cceba0",
   "outputs": [
    {
     "data": {
      "text/plain": [
       "  species     island  bill_length_mm  bill_depth_mm  flipper_length_mm  \\\n",
       "0  Adelie  Torgersen            39.1           18.7              181.0   \n",
       "1  Adelie  Torgersen            39.5           17.4              186.0   \n",
       "2  Adelie  Torgersen            40.3           18.0              195.0   \n",
       "3  Adelie  Torgersen             NaN            NaN                NaN   \n",
       "4  Adelie  Torgersen            36.7           19.3              193.0   \n",
       "5  Adelie  Torgersen            39.3           20.6              190.0   \n",
       "6  Adelie  Torgersen            38.9           17.8              181.0   \n",
       "7  Adelie  Torgersen            39.2           19.6              195.0   \n",
       "8  Adelie  Torgersen            34.1           18.1              193.0   \n",
       "9  Adelie  Torgersen            42.0           20.2              190.0   \n",
       "\n",
       "   body_mass_g     sex  \n",
       "0       3750.0    Male  \n",
       "1       3800.0  Female  \n",
       "2       3250.0  Female  \n",
       "3          NaN     NaN  \n",
       "4       3450.0  Female  \n",
       "5       3650.0    Male  \n",
       "6       3625.0  Female  \n",
       "7       4675.0    Male  \n",
       "8       3475.0     NaN  \n",
       "9       4250.0     NaN  "
      ],
      "text/html": [
       "<div>\n",
       "<style scoped>\n",
       "    .dataframe tbody tr th:only-of-type {\n",
       "        vertical-align: middle;\n",
       "    }\n",
       "\n",
       "    .dataframe tbody tr th {\n",
       "        vertical-align: top;\n",
       "    }\n",
       "\n",
       "    .dataframe thead th {\n",
       "        text-align: right;\n",
       "    }\n",
       "</style>\n",
       "<table border=\"1\" class=\"dataframe\">\n",
       "  <thead>\n",
       "    <tr style=\"text-align: right;\">\n",
       "      <th></th>\n",
       "      <th>species</th>\n",
       "      <th>island</th>\n",
       "      <th>bill_length_mm</th>\n",
       "      <th>bill_depth_mm</th>\n",
       "      <th>flipper_length_mm</th>\n",
       "      <th>body_mass_g</th>\n",
       "      <th>sex</th>\n",
       "    </tr>\n",
       "  </thead>\n",
       "  <tbody>\n",
       "    <tr>\n",
       "      <th>0</th>\n",
       "      <td>Adelie</td>\n",
       "      <td>Torgersen</td>\n",
       "      <td>39.1</td>\n",
       "      <td>18.7</td>\n",
       "      <td>181.0</td>\n",
       "      <td>3750.0</td>\n",
       "      <td>Male</td>\n",
       "    </tr>\n",
       "    <tr>\n",
       "      <th>1</th>\n",
       "      <td>Adelie</td>\n",
       "      <td>Torgersen</td>\n",
       "      <td>39.5</td>\n",
       "      <td>17.4</td>\n",
       "      <td>186.0</td>\n",
       "      <td>3800.0</td>\n",
       "      <td>Female</td>\n",
       "    </tr>\n",
       "    <tr>\n",
       "      <th>2</th>\n",
       "      <td>Adelie</td>\n",
       "      <td>Torgersen</td>\n",
       "      <td>40.3</td>\n",
       "      <td>18.0</td>\n",
       "      <td>195.0</td>\n",
       "      <td>3250.0</td>\n",
       "      <td>Female</td>\n",
       "    </tr>\n",
       "    <tr>\n",
       "      <th>3</th>\n",
       "      <td>Adelie</td>\n",
       "      <td>Torgersen</td>\n",
       "      <td>NaN</td>\n",
       "      <td>NaN</td>\n",
       "      <td>NaN</td>\n",
       "      <td>NaN</td>\n",
       "      <td>NaN</td>\n",
       "    </tr>\n",
       "    <tr>\n",
       "      <th>4</th>\n",
       "      <td>Adelie</td>\n",
       "      <td>Torgersen</td>\n",
       "      <td>36.7</td>\n",
       "      <td>19.3</td>\n",
       "      <td>193.0</td>\n",
       "      <td>3450.0</td>\n",
       "      <td>Female</td>\n",
       "    </tr>\n",
       "    <tr>\n",
       "      <th>5</th>\n",
       "      <td>Adelie</td>\n",
       "      <td>Torgersen</td>\n",
       "      <td>39.3</td>\n",
       "      <td>20.6</td>\n",
       "      <td>190.0</td>\n",
       "      <td>3650.0</td>\n",
       "      <td>Male</td>\n",
       "    </tr>\n",
       "    <tr>\n",
       "      <th>6</th>\n",
       "      <td>Adelie</td>\n",
       "      <td>Torgersen</td>\n",
       "      <td>38.9</td>\n",
       "      <td>17.8</td>\n",
       "      <td>181.0</td>\n",
       "      <td>3625.0</td>\n",
       "      <td>Female</td>\n",
       "    </tr>\n",
       "    <tr>\n",
       "      <th>7</th>\n",
       "      <td>Adelie</td>\n",
       "      <td>Torgersen</td>\n",
       "      <td>39.2</td>\n",
       "      <td>19.6</td>\n",
       "      <td>195.0</td>\n",
       "      <td>4675.0</td>\n",
       "      <td>Male</td>\n",
       "    </tr>\n",
       "    <tr>\n",
       "      <th>8</th>\n",
       "      <td>Adelie</td>\n",
       "      <td>Torgersen</td>\n",
       "      <td>34.1</td>\n",
       "      <td>18.1</td>\n",
       "      <td>193.0</td>\n",
       "      <td>3475.0</td>\n",
       "      <td>NaN</td>\n",
       "    </tr>\n",
       "    <tr>\n",
       "      <th>9</th>\n",
       "      <td>Adelie</td>\n",
       "      <td>Torgersen</td>\n",
       "      <td>42.0</td>\n",
       "      <td>20.2</td>\n",
       "      <td>190.0</td>\n",
       "      <td>4250.0</td>\n",
       "      <td>NaN</td>\n",
       "    </tr>\n",
       "  </tbody>\n",
       "</table>\n",
       "</div>"
      ]
     },
     "execution_count": 47,
     "metadata": {},
     "output_type": "execute_result"
    }
   ],
   "execution_count": 47
  },
  {
   "metadata": {
    "ExecuteTime": {
     "end_time": "2025-07-15T12:14:44.664132Z",
     "start_time": "2025-07-15T12:14:44.656012Z"
    }
   },
   "cell_type": "code",
   "source": [
    "pngs.isna().sum()\n",
    "pngs.dropna(inplace=True)\n",
    "print(pngs.isna().sum())\n",
    "pngs"
   ],
   "id": "40909df14b6bcdf4",
   "outputs": [
    {
     "name": "stdout",
     "output_type": "stream",
     "text": [
      "species              0\n",
      "island               0\n",
      "bill_length_mm       0\n",
      "bill_depth_mm        0\n",
      "flipper_length_mm    0\n",
      "body_mass_g          0\n",
      "sex                  0\n",
      "dtype: int64\n"
     ]
    },
    {
     "data": {
      "text/plain": [
       "    species     island  bill_length_mm  bill_depth_mm  flipper_length_mm  \\\n",
       "0    Adelie  Torgersen            39.1           18.7              181.0   \n",
       "1    Adelie  Torgersen            39.5           17.4              186.0   \n",
       "2    Adelie  Torgersen            40.3           18.0              195.0   \n",
       "4    Adelie  Torgersen            36.7           19.3              193.0   \n",
       "5    Adelie  Torgersen            39.3           20.6              190.0   \n",
       "..      ...        ...             ...            ...                ...   \n",
       "338  Gentoo     Biscoe            47.2           13.7              214.0   \n",
       "340  Gentoo     Biscoe            46.8           14.3              215.0   \n",
       "341  Gentoo     Biscoe            50.4           15.7              222.0   \n",
       "342  Gentoo     Biscoe            45.2           14.8              212.0   \n",
       "343  Gentoo     Biscoe            49.9           16.1              213.0   \n",
       "\n",
       "     body_mass_g     sex  \n",
       "0         3750.0    Male  \n",
       "1         3800.0  Female  \n",
       "2         3250.0  Female  \n",
       "4         3450.0  Female  \n",
       "5         3650.0    Male  \n",
       "..           ...     ...  \n",
       "338       4925.0  Female  \n",
       "340       4850.0  Female  \n",
       "341       5750.0    Male  \n",
       "342       5200.0  Female  \n",
       "343       5400.0    Male  \n",
       "\n",
       "[333 rows x 7 columns]"
      ],
      "text/html": [
       "<div>\n",
       "<style scoped>\n",
       "    .dataframe tbody tr th:only-of-type {\n",
       "        vertical-align: middle;\n",
       "    }\n",
       "\n",
       "    .dataframe tbody tr th {\n",
       "        vertical-align: top;\n",
       "    }\n",
       "\n",
       "    .dataframe thead th {\n",
       "        text-align: right;\n",
       "    }\n",
       "</style>\n",
       "<table border=\"1\" class=\"dataframe\">\n",
       "  <thead>\n",
       "    <tr style=\"text-align: right;\">\n",
       "      <th></th>\n",
       "      <th>species</th>\n",
       "      <th>island</th>\n",
       "      <th>bill_length_mm</th>\n",
       "      <th>bill_depth_mm</th>\n",
       "      <th>flipper_length_mm</th>\n",
       "      <th>body_mass_g</th>\n",
       "      <th>sex</th>\n",
       "    </tr>\n",
       "  </thead>\n",
       "  <tbody>\n",
       "    <tr>\n",
       "      <th>0</th>\n",
       "      <td>Adelie</td>\n",
       "      <td>Torgersen</td>\n",
       "      <td>39.1</td>\n",
       "      <td>18.7</td>\n",
       "      <td>181.0</td>\n",
       "      <td>3750.0</td>\n",
       "      <td>Male</td>\n",
       "    </tr>\n",
       "    <tr>\n",
       "      <th>1</th>\n",
       "      <td>Adelie</td>\n",
       "      <td>Torgersen</td>\n",
       "      <td>39.5</td>\n",
       "      <td>17.4</td>\n",
       "      <td>186.0</td>\n",
       "      <td>3800.0</td>\n",
       "      <td>Female</td>\n",
       "    </tr>\n",
       "    <tr>\n",
       "      <th>2</th>\n",
       "      <td>Adelie</td>\n",
       "      <td>Torgersen</td>\n",
       "      <td>40.3</td>\n",
       "      <td>18.0</td>\n",
       "      <td>195.0</td>\n",
       "      <td>3250.0</td>\n",
       "      <td>Female</td>\n",
       "    </tr>\n",
       "    <tr>\n",
       "      <th>4</th>\n",
       "      <td>Adelie</td>\n",
       "      <td>Torgersen</td>\n",
       "      <td>36.7</td>\n",
       "      <td>19.3</td>\n",
       "      <td>193.0</td>\n",
       "      <td>3450.0</td>\n",
       "      <td>Female</td>\n",
       "    </tr>\n",
       "    <tr>\n",
       "      <th>5</th>\n",
       "      <td>Adelie</td>\n",
       "      <td>Torgersen</td>\n",
       "      <td>39.3</td>\n",
       "      <td>20.6</td>\n",
       "      <td>190.0</td>\n",
       "      <td>3650.0</td>\n",
       "      <td>Male</td>\n",
       "    </tr>\n",
       "    <tr>\n",
       "      <th>...</th>\n",
       "      <td>...</td>\n",
       "      <td>...</td>\n",
       "      <td>...</td>\n",
       "      <td>...</td>\n",
       "      <td>...</td>\n",
       "      <td>...</td>\n",
       "      <td>...</td>\n",
       "    </tr>\n",
       "    <tr>\n",
       "      <th>338</th>\n",
       "      <td>Gentoo</td>\n",
       "      <td>Biscoe</td>\n",
       "      <td>47.2</td>\n",
       "      <td>13.7</td>\n",
       "      <td>214.0</td>\n",
       "      <td>4925.0</td>\n",
       "      <td>Female</td>\n",
       "    </tr>\n",
       "    <tr>\n",
       "      <th>340</th>\n",
       "      <td>Gentoo</td>\n",
       "      <td>Biscoe</td>\n",
       "      <td>46.8</td>\n",
       "      <td>14.3</td>\n",
       "      <td>215.0</td>\n",
       "      <td>4850.0</td>\n",
       "      <td>Female</td>\n",
       "    </tr>\n",
       "    <tr>\n",
       "      <th>341</th>\n",
       "      <td>Gentoo</td>\n",
       "      <td>Biscoe</td>\n",
       "      <td>50.4</td>\n",
       "      <td>15.7</td>\n",
       "      <td>222.0</td>\n",
       "      <td>5750.0</td>\n",
       "      <td>Male</td>\n",
       "    </tr>\n",
       "    <tr>\n",
       "      <th>342</th>\n",
       "      <td>Gentoo</td>\n",
       "      <td>Biscoe</td>\n",
       "      <td>45.2</td>\n",
       "      <td>14.8</td>\n",
       "      <td>212.0</td>\n",
       "      <td>5200.0</td>\n",
       "      <td>Female</td>\n",
       "    </tr>\n",
       "    <tr>\n",
       "      <th>343</th>\n",
       "      <td>Gentoo</td>\n",
       "      <td>Biscoe</td>\n",
       "      <td>49.9</td>\n",
       "      <td>16.1</td>\n",
       "      <td>213.0</td>\n",
       "      <td>5400.0</td>\n",
       "      <td>Male</td>\n",
       "    </tr>\n",
       "  </tbody>\n",
       "</table>\n",
       "<p>333 rows × 7 columns</p>\n",
       "</div>"
      ]
     },
     "execution_count": 59,
     "metadata": {},
     "output_type": "execute_result"
    }
   ],
   "execution_count": 59
  },
  {
   "metadata": {
    "ExecuteTime": {
     "end_time": "2025-07-15T12:25:33.621289Z",
     "start_time": "2025-07-15T12:25:33.600319Z"
    }
   },
   "cell_type": "code",
   "source": [
    "import plotly.express as px\n",
    "\n",
    "table = px.scatter(pngs, x = 'flipper_length_mm', y = 'body_mass_g', color = 'species', size = 'bill_length_mm', hover_data = ['island'], title = 'Penguin Flipper length vs. Body Mass')\n",
    "table.show()"
   ],
   "id": "7f2a0c8212be7f5a",
   "outputs": [
    {
     "data": {
      "application/vnd.plotly.v1+json": {
       "data": [
        {
         "customdata": [
          [
           "Torgersen"
          ],
          [
           "Torgersen"
          ],
          [
           "Torgersen"
          ],
          [
           "Torgersen"
          ],
          [
           "Torgersen"
          ],
          [
           "Torgersen"
          ],
          [
           "Torgersen"
          ],
          [
           "Torgersen"
          ],
          [
           "Torgersen"
          ],
          [
           "Torgersen"
          ],
          [
           "Torgersen"
          ],
          [
           "Torgersen"
          ],
          [
           "Torgersen"
          ],
          [
           "Torgersen"
          ],
          [
           "Torgersen"
          ],
          [
           "Biscoe"
          ],
          [
           "Biscoe"
          ],
          [
           "Biscoe"
          ],
          [
           "Biscoe"
          ],
          [
           "Biscoe"
          ],
          [
           "Biscoe"
          ],
          [
           "Biscoe"
          ],
          [
           "Biscoe"
          ],
          [
           "Biscoe"
          ],
          [
           "Biscoe"
          ],
          [
           "Dream"
          ],
          [
           "Dream"
          ],
          [
           "Dream"
          ],
          [
           "Dream"
          ],
          [
           "Dream"
          ],
          [
           "Dream"
          ],
          [
           "Dream"
          ],
          [
           "Dream"
          ],
          [
           "Dream"
          ],
          [
           "Dream"
          ],
          [
           "Dream"
          ],
          [
           "Dream"
          ],
          [
           "Dream"
          ],
          [
           "Dream"
          ],
          [
           "Dream"
          ],
          [
           "Dream"
          ],
          [
           "Dream"
          ],
          [
           "Dream"
          ],
          [
           "Dream"
          ],
          [
           "Biscoe"
          ],
          [
           "Biscoe"
          ],
          [
           "Biscoe"
          ],
          [
           "Biscoe"
          ],
          [
           "Biscoe"
          ],
          [
           "Biscoe"
          ],
          [
           "Biscoe"
          ],
          [
           "Biscoe"
          ],
          [
           "Biscoe"
          ],
          [
           "Biscoe"
          ],
          [
           "Biscoe"
          ],
          [
           "Biscoe"
          ],
          [
           "Biscoe"
          ],
          [
           "Biscoe"
          ],
          [
           "Biscoe"
          ],
          [
           "Biscoe"
          ],
          [
           "Biscoe"
          ],
          [
           "Biscoe"
          ],
          [
           "Torgersen"
          ],
          [
           "Torgersen"
          ],
          [
           "Torgersen"
          ],
          [
           "Torgersen"
          ],
          [
           "Torgersen"
          ],
          [
           "Torgersen"
          ],
          [
           "Torgersen"
          ],
          [
           "Torgersen"
          ],
          [
           "Torgersen"
          ],
          [
           "Torgersen"
          ],
          [
           "Torgersen"
          ],
          [
           "Torgersen"
          ],
          [
           "Torgersen"
          ],
          [
           "Torgersen"
          ],
          [
           "Torgersen"
          ],
          [
           "Torgersen"
          ],
          [
           "Dream"
          ],
          [
           "Dream"
          ],
          [
           "Dream"
          ],
          [
           "Dream"
          ],
          [
           "Dream"
          ],
          [
           "Dream"
          ],
          [
           "Dream"
          ],
          [
           "Dream"
          ],
          [
           "Dream"
          ],
          [
           "Dream"
          ],
          [
           "Dream"
          ],
          [
           "Dream"
          ],
          [
           "Dream"
          ],
          [
           "Dream"
          ],
          [
           "Dream"
          ],
          [
           "Dream"
          ],
          [
           "Biscoe"
          ],
          [
           "Biscoe"
          ],
          [
           "Biscoe"
          ],
          [
           "Biscoe"
          ],
          [
           "Biscoe"
          ],
          [
           "Biscoe"
          ],
          [
           "Biscoe"
          ],
          [
           "Biscoe"
          ],
          [
           "Biscoe"
          ],
          [
           "Biscoe"
          ],
          [
           "Biscoe"
          ],
          [
           "Biscoe"
          ],
          [
           "Biscoe"
          ],
          [
           "Biscoe"
          ],
          [
           "Biscoe"
          ],
          [
           "Biscoe"
          ],
          [
           "Torgersen"
          ],
          [
           "Torgersen"
          ],
          [
           "Torgersen"
          ],
          [
           "Torgersen"
          ],
          [
           "Torgersen"
          ],
          [
           "Torgersen"
          ],
          [
           "Torgersen"
          ],
          [
           "Torgersen"
          ],
          [
           "Torgersen"
          ],
          [
           "Torgersen"
          ],
          [
           "Torgersen"
          ],
          [
           "Torgersen"
          ],
          [
           "Torgersen"
          ],
          [
           "Torgersen"
          ],
          [
           "Torgersen"
          ],
          [
           "Torgersen"
          ],
          [
           "Dream"
          ],
          [
           "Dream"
          ],
          [
           "Dream"
          ],
          [
           "Dream"
          ],
          [
           "Dream"
          ],
          [
           "Dream"
          ],
          [
           "Dream"
          ],
          [
           "Dream"
          ],
          [
           "Dream"
          ],
          [
           "Dream"
          ],
          [
           "Dream"
          ],
          [
           "Dream"
          ],
          [
           "Dream"
          ],
          [
           "Dream"
          ],
          [
           "Dream"
          ],
          [
           "Dream"
          ],
          [
           "Dream"
          ],
          [
           "Dream"
          ],
          [
           "Dream"
          ],
          [
           "Dream"
          ]
         ],
         "hovertemplate": "species=Adelie<br>flipper_length_mm=%{x}<br>body_mass_g=%{y}<br>bill_length_mm=%{marker.size}<br>island=%{customdata[0]}<extra></extra>",
         "legendgroup": "Adelie",
         "marker": {
          "color": "#636efa",
          "size": [
           39.1,
           39.5,
           40.3,
           36.7,
           39.3,
           38.9,
           39.2,
           41.1,
           38.6,
           34.6,
           36.6,
           38.7,
           42.5,
           34.4,
           46.0,
           37.8,
           37.7,
           35.9,
           38.2,
           38.8,
           35.3,
           40.6,
           40.5,
           37.9,
           40.5,
           39.5,
           37.2,
           39.5,
           40.9,
           36.4,
           39.2,
           38.8,
           42.2,
           37.6,
           39.8,
           36.5,
           40.8,
           36.0,
           44.1,
           37.0,
           39.6,
           41.1,
           36.0,
           42.3,
           39.6,
           40.1,
           35.0,
           42.0,
           34.5,
           41.4,
           39.0,
           40.6,
           36.5,
           37.6,
           35.7,
           41.3,
           37.6,
           41.1,
           36.4,
           41.6,
           35.5,
           41.1,
           35.9,
           41.8,
           33.5,
           39.7,
           39.6,
           45.8,
           35.5,
           42.8,
           40.9,
           37.2,
           36.2,
           42.1,
           34.6,
           42.9,
           36.7,
           35.1,
           37.3,
           41.3,
           36.3,
           36.9,
           38.3,
           38.9,
           35.7,
           41.1,
           34.0,
           39.6,
           36.2,
           40.8,
           38.1,
           40.3,
           33.1,
           43.2,
           35.0,
           41.0,
           37.7,
           37.8,
           37.9,
           39.7,
           38.6,
           38.2,
           38.1,
           43.2,
           38.1,
           45.6,
           39.7,
           42.2,
           39.6,
           42.7,
           38.6,
           37.3,
           35.7,
           41.1,
           36.2,
           37.7,
           40.2,
           41.4,
           35.2,
           40.6,
           38.8,
           41.5,
           39.0,
           44.1,
           38.5,
           43.1,
           36.8,
           37.5,
           38.1,
           41.1,
           35.6,
           40.2,
           37.0,
           39.7,
           40.2,
           40.6,
           32.1,
           40.7,
           37.3,
           39.0,
           39.2,
           36.6,
           36.0,
           37.8,
           36.0,
           41.5
          ],
          "sizemode": "area",
          "sizeref": 0.149,
          "symbol": "circle"
         },
         "mode": "markers",
         "name": "Adelie",
         "orientation": "v",
         "showlegend": true,
         "x": [
          181.0,
          186.0,
          195.0,
          193.0,
          190.0,
          181.0,
          195.0,
          182.0,
          191.0,
          198.0,
          185.0,
          195.0,
          197.0,
          184.0,
          194.0,
          174.0,
          180.0,
          189.0,
          185.0,
          180.0,
          187.0,
          183.0,
          187.0,
          172.0,
          180.0,
          178.0,
          178.0,
          188.0,
          184.0,
          195.0,
          196.0,
          190.0,
          180.0,
          181.0,
          184.0,
          182.0,
          195.0,
          186.0,
          196.0,
          185.0,
          190.0,
          182.0,
          190.0,
          191.0,
          186.0,
          188.0,
          190.0,
          200.0,
          187.0,
          191.0,
          186.0,
          193.0,
          181.0,
          194.0,
          185.0,
          195.0,
          185.0,
          192.0,
          184.0,
          192.0,
          195.0,
          188.0,
          190.0,
          198.0,
          190.0,
          190.0,
          196.0,
          197.0,
          190.0,
          195.0,
          191.0,
          184.0,
          187.0,
          195.0,
          189.0,
          196.0,
          187.0,
          193.0,
          191.0,
          194.0,
          190.0,
          189.0,
          189.0,
          190.0,
          202.0,
          205.0,
          185.0,
          186.0,
          187.0,
          208.0,
          190.0,
          196.0,
          178.0,
          192.0,
          192.0,
          203.0,
          183.0,
          190.0,
          193.0,
          184.0,
          199.0,
          190.0,
          181.0,
          197.0,
          198.0,
          191.0,
          193.0,
          197.0,
          191.0,
          196.0,
          188.0,
          199.0,
          189.0,
          189.0,
          187.0,
          198.0,
          176.0,
          202.0,
          186.0,
          199.0,
          191.0,
          195.0,
          191.0,
          210.0,
          190.0,
          197.0,
          193.0,
          199.0,
          187.0,
          190.0,
          191.0,
          200.0,
          185.0,
          193.0,
          193.0,
          187.0,
          188.0,
          190.0,
          192.0,
          185.0,
          190.0,
          184.0,
          195.0,
          193.0,
          187.0,
          201.0
         ],
         "xaxis": "x",
         "y": [
          3750.0,
          3800.0,
          3250.0,
          3450.0,
          3650.0,
          3625.0,
          4675.0,
          3200.0,
          3800.0,
          4400.0,
          3700.0,
          3450.0,
          4500.0,
          3325.0,
          4200.0,
          3400.0,
          3600.0,
          3800.0,
          3950.0,
          3800.0,
          3800.0,
          3550.0,
          3200.0,
          3150.0,
          3950.0,
          3250.0,
          3900.0,
          3300.0,
          3900.0,
          3325.0,
          4150.0,
          3950.0,
          3550.0,
          3300.0,
          4650.0,
          3150.0,
          3900.0,
          3100.0,
          4400.0,
          3000.0,
          4600.0,
          3425.0,
          3450.0,
          4150.0,
          3500.0,
          4300.0,
          3450.0,
          4050.0,
          2900.0,
          3700.0,
          3550.0,
          3800.0,
          2850.0,
          3750.0,
          3150.0,
          4400.0,
          3600.0,
          4050.0,
          2850.0,
          3950.0,
          3350.0,
          4100.0,
          3050.0,
          4450.0,
          3600.0,
          3900.0,
          3550.0,
          4150.0,
          3700.0,
          4250.0,
          3700.0,
          3900.0,
          3550.0,
          4000.0,
          3200.0,
          4700.0,
          3800.0,
          4200.0,
          3350.0,
          3550.0,
          3800.0,
          3500.0,
          3950.0,
          3600.0,
          3550.0,
          4300.0,
          3400.0,
          4450.0,
          3300.0,
          4300.0,
          3700.0,
          4350.0,
          2900.0,
          4100.0,
          3725.0,
          4725.0,
          3075.0,
          4250.0,
          2925.0,
          3550.0,
          3750.0,
          3900.0,
          3175.0,
          4775.0,
          3825.0,
          4600.0,
          3200.0,
          4275.0,
          3900.0,
          4075.0,
          2900.0,
          3775.0,
          3350.0,
          3325.0,
          3150.0,
          3500.0,
          3450.0,
          3875.0,
          3050.0,
          4000.0,
          3275.0,
          4300.0,
          3050.0,
          4000.0,
          3325.0,
          3500.0,
          3500.0,
          4475.0,
          3425.0,
          3900.0,
          3175.0,
          3975.0,
          3400.0,
          4250.0,
          3400.0,
          3475.0,
          3050.0,
          3725.0,
          3000.0,
          3650.0,
          4250.0,
          3475.0,
          3450.0,
          3750.0,
          3700.0,
          4000.0
         ],
         "yaxis": "y",
         "type": "scatter"
        },
        {
         "customdata": [
          [
           "Dream"
          ],
          [
           "Dream"
          ],
          [
           "Dream"
          ],
          [
           "Dream"
          ],
          [
           "Dream"
          ],
          [
           "Dream"
          ],
          [
           "Dream"
          ],
          [
           "Dream"
          ],
          [
           "Dream"
          ],
          [
           "Dream"
          ],
          [
           "Dream"
          ],
          [
           "Dream"
          ],
          [
           "Dream"
          ],
          [
           "Dream"
          ],
          [
           "Dream"
          ],
          [
           "Dream"
          ],
          [
           "Dream"
          ],
          [
           "Dream"
          ],
          [
           "Dream"
          ],
          [
           "Dream"
          ],
          [
           "Dream"
          ],
          [
           "Dream"
          ],
          [
           "Dream"
          ],
          [
           "Dream"
          ],
          [
           "Dream"
          ],
          [
           "Dream"
          ],
          [
           "Dream"
          ],
          [
           "Dream"
          ],
          [
           "Dream"
          ],
          [
           "Dream"
          ],
          [
           "Dream"
          ],
          [
           "Dream"
          ],
          [
           "Dream"
          ],
          [
           "Dream"
          ],
          [
           "Dream"
          ],
          [
           "Dream"
          ],
          [
           "Dream"
          ],
          [
           "Dream"
          ],
          [
           "Dream"
          ],
          [
           "Dream"
          ],
          [
           "Dream"
          ],
          [
           "Dream"
          ],
          [
           "Dream"
          ],
          [
           "Dream"
          ],
          [
           "Dream"
          ],
          [
           "Dream"
          ],
          [
           "Dream"
          ],
          [
           "Dream"
          ],
          [
           "Dream"
          ],
          [
           "Dream"
          ],
          [
           "Dream"
          ],
          [
           "Dream"
          ],
          [
           "Dream"
          ],
          [
           "Dream"
          ],
          [
           "Dream"
          ],
          [
           "Dream"
          ],
          [
           "Dream"
          ],
          [
           "Dream"
          ],
          [
           "Dream"
          ],
          [
           "Dream"
          ],
          [
           "Dream"
          ],
          [
           "Dream"
          ],
          [
           "Dream"
          ],
          [
           "Dream"
          ],
          [
           "Dream"
          ],
          [
           "Dream"
          ],
          [
           "Dream"
          ],
          [
           "Dream"
          ]
         ],
         "hovertemplate": "species=Chinstrap<br>flipper_length_mm=%{x}<br>body_mass_g=%{y}<br>bill_length_mm=%{marker.size}<br>island=%{customdata[0]}<extra></extra>",
         "legendgroup": "Chinstrap",
         "marker": {
          "color": "#EF553B",
          "size": [
           46.5,
           50.0,
           51.3,
           45.4,
           52.7,
           45.2,
           46.1,
           51.3,
           46.0,
           51.3,
           46.6,
           51.7,
           47.0,
           52.0,
           45.9,
           50.5,
           50.3,
           58.0,
           46.4,
           49.2,
           42.4,
           48.5,
           43.2,
           50.6,
           46.7,
           52.0,
           50.5,
           49.5,
           46.4,
           52.8,
           40.9,
           54.2,
           42.5,
           51.0,
           49.7,
           47.5,
           47.6,
           52.0,
           46.9,
           53.5,
           49.0,
           46.2,
           50.9,
           45.5,
           50.9,
           50.8,
           50.1,
           49.0,
           51.5,
           49.8,
           48.1,
           51.4,
           45.7,
           50.7,
           42.5,
           52.2,
           45.2,
           49.3,
           50.2,
           45.6,
           51.9,
           46.8,
           45.7,
           55.8,
           43.5,
           49.6,
           50.8,
           50.2
          ],
          "sizemode": "area",
          "sizeref": 0.149,
          "symbol": "circle"
         },
         "mode": "markers",
         "name": "Chinstrap",
         "orientation": "v",
         "showlegend": true,
         "x": [
          192.0,
          196.0,
          193.0,
          188.0,
          197.0,
          198.0,
          178.0,
          197.0,
          195.0,
          198.0,
          193.0,
          194.0,
          185.0,
          201.0,
          190.0,
          201.0,
          197.0,
          181.0,
          190.0,
          195.0,
          181.0,
          191.0,
          187.0,
          193.0,
          195.0,
          197.0,
          200.0,
          200.0,
          191.0,
          205.0,
          187.0,
          201.0,
          187.0,
          203.0,
          195.0,
          199.0,
          195.0,
          210.0,
          192.0,
          205.0,
          210.0,
          187.0,
          196.0,
          196.0,
          196.0,
          201.0,
          190.0,
          212.0,
          187.0,
          198.0,
          199.0,
          201.0,
          193.0,
          203.0,
          187.0,
          197.0,
          191.0,
          203.0,
          202.0,
          194.0,
          206.0,
          189.0,
          195.0,
          207.0,
          202.0,
          193.0,
          210.0,
          198.0
         ],
         "xaxis": "x",
         "y": [
          3500.0,
          3900.0,
          3650.0,
          3525.0,
          3725.0,
          3950.0,
          3250.0,
          3750.0,
          4150.0,
          3700.0,
          3800.0,
          3775.0,
          3700.0,
          4050.0,
          3575.0,
          4050.0,
          3300.0,
          3700.0,
          3450.0,
          4400.0,
          3600.0,
          3400.0,
          2900.0,
          3800.0,
          3300.0,
          4150.0,
          3400.0,
          3800.0,
          3700.0,
          4550.0,
          3200.0,
          4300.0,
          3350.0,
          4100.0,
          3600.0,
          3900.0,
          3850.0,
          4800.0,
          2700.0,
          4500.0,
          3950.0,
          3650.0,
          3550.0,
          3500.0,
          3675.0,
          4450.0,
          3400.0,
          4300.0,
          3250.0,
          3675.0,
          3325.0,
          3950.0,
          3600.0,
          4050.0,
          3350.0,
          3450.0,
          3250.0,
          4050.0,
          3800.0,
          3525.0,
          3950.0,
          3650.0,
          3650.0,
          4000.0,
          3400.0,
          3775.0,
          4100.0,
          3775.0
         ],
         "yaxis": "y",
         "type": "scatter"
        },
        {
         "customdata": [
          [
           "Biscoe"
          ],
          [
           "Biscoe"
          ],
          [
           "Biscoe"
          ],
          [
           "Biscoe"
          ],
          [
           "Biscoe"
          ],
          [
           "Biscoe"
          ],
          [
           "Biscoe"
          ],
          [
           "Biscoe"
          ],
          [
           "Biscoe"
          ],
          [
           "Biscoe"
          ],
          [
           "Biscoe"
          ],
          [
           "Biscoe"
          ],
          [
           "Biscoe"
          ],
          [
           "Biscoe"
          ],
          [
           "Biscoe"
          ],
          [
           "Biscoe"
          ],
          [
           "Biscoe"
          ],
          [
           "Biscoe"
          ],
          [
           "Biscoe"
          ],
          [
           "Biscoe"
          ],
          [
           "Biscoe"
          ],
          [
           "Biscoe"
          ],
          [
           "Biscoe"
          ],
          [
           "Biscoe"
          ],
          [
           "Biscoe"
          ],
          [
           "Biscoe"
          ],
          [
           "Biscoe"
          ],
          [
           "Biscoe"
          ],
          [
           "Biscoe"
          ],
          [
           "Biscoe"
          ],
          [
           "Biscoe"
          ],
          [
           "Biscoe"
          ],
          [
           "Biscoe"
          ],
          [
           "Biscoe"
          ],
          [
           "Biscoe"
          ],
          [
           "Biscoe"
          ],
          [
           "Biscoe"
          ],
          [
           "Biscoe"
          ],
          [
           "Biscoe"
          ],
          [
           "Biscoe"
          ],
          [
           "Biscoe"
          ],
          [
           "Biscoe"
          ],
          [
           "Biscoe"
          ],
          [
           "Biscoe"
          ],
          [
           "Biscoe"
          ],
          [
           "Biscoe"
          ],
          [
           "Biscoe"
          ],
          [
           "Biscoe"
          ],
          [
           "Biscoe"
          ],
          [
           "Biscoe"
          ],
          [
           "Biscoe"
          ],
          [
           "Biscoe"
          ],
          [
           "Biscoe"
          ],
          [
           "Biscoe"
          ],
          [
           "Biscoe"
          ],
          [
           "Biscoe"
          ],
          [
           "Biscoe"
          ],
          [
           "Biscoe"
          ],
          [
           "Biscoe"
          ],
          [
           "Biscoe"
          ],
          [
           "Biscoe"
          ],
          [
           "Biscoe"
          ],
          [
           "Biscoe"
          ],
          [
           "Biscoe"
          ],
          [
           "Biscoe"
          ],
          [
           "Biscoe"
          ],
          [
           "Biscoe"
          ],
          [
           "Biscoe"
          ],
          [
           "Biscoe"
          ],
          [
           "Biscoe"
          ],
          [
           "Biscoe"
          ],
          [
           "Biscoe"
          ],
          [
           "Biscoe"
          ],
          [
           "Biscoe"
          ],
          [
           "Biscoe"
          ],
          [
           "Biscoe"
          ],
          [
           "Biscoe"
          ],
          [
           "Biscoe"
          ],
          [
           "Biscoe"
          ],
          [
           "Biscoe"
          ],
          [
           "Biscoe"
          ],
          [
           "Biscoe"
          ],
          [
           "Biscoe"
          ],
          [
           "Biscoe"
          ],
          [
           "Biscoe"
          ],
          [
           "Biscoe"
          ],
          [
           "Biscoe"
          ],
          [
           "Biscoe"
          ],
          [
           "Biscoe"
          ],
          [
           "Biscoe"
          ],
          [
           "Biscoe"
          ],
          [
           "Biscoe"
          ],
          [
           "Biscoe"
          ],
          [
           "Biscoe"
          ],
          [
           "Biscoe"
          ],
          [
           "Biscoe"
          ],
          [
           "Biscoe"
          ],
          [
           "Biscoe"
          ],
          [
           "Biscoe"
          ],
          [
           "Biscoe"
          ],
          [
           "Biscoe"
          ],
          [
           "Biscoe"
          ],
          [
           "Biscoe"
          ],
          [
           "Biscoe"
          ],
          [
           "Biscoe"
          ],
          [
           "Biscoe"
          ],
          [
           "Biscoe"
          ],
          [
           "Biscoe"
          ],
          [
           "Biscoe"
          ],
          [
           "Biscoe"
          ],
          [
           "Biscoe"
          ],
          [
           "Biscoe"
          ],
          [
           "Biscoe"
          ],
          [
           "Biscoe"
          ],
          [
           "Biscoe"
          ],
          [
           "Biscoe"
          ],
          [
           "Biscoe"
          ],
          [
           "Biscoe"
          ],
          [
           "Biscoe"
          ]
         ],
         "hovertemplate": "species=Gentoo<br>flipper_length_mm=%{x}<br>body_mass_g=%{y}<br>bill_length_mm=%{marker.size}<br>island=%{customdata[0]}<extra></extra>",
         "legendgroup": "Gentoo",
         "marker": {
          "color": "#00cc96",
          "size": [
           46.1,
           50.0,
           48.7,
           50.0,
           47.6,
           46.5,
           45.4,
           46.7,
           43.3,
           46.8,
           40.9,
           49.0,
           45.5,
           48.4,
           45.8,
           49.3,
           42.0,
           49.2,
           46.2,
           48.7,
           50.2,
           45.1,
           46.5,
           46.3,
           42.9,
           46.1,
           47.8,
           48.2,
           50.0,
           47.3,
           42.8,
           45.1,
           59.6,
           49.1,
           48.4,
           42.6,
           44.4,
           44.0,
           48.7,
           42.7,
           49.6,
           45.3,
           49.6,
           50.5,
           43.6,
           45.5,
           50.5,
           44.9,
           45.2,
           46.6,
           48.5,
           45.1,
           50.1,
           46.5,
           45.0,
           43.8,
           45.5,
           43.2,
           50.4,
           45.3,
           46.2,
           45.7,
           54.3,
           45.8,
           49.8,
           49.5,
           43.5,
           50.7,
           47.7,
           46.4,
           48.2,
           46.5,
           46.4,
           48.6,
           47.5,
           51.1,
           45.2,
           45.2,
           49.1,
           52.5,
           47.4,
           50.0,
           44.9,
           50.8,
           43.4,
           51.3,
           47.5,
           52.1,
           47.5,
           52.2,
           45.5,
           49.5,
           44.5,
           50.8,
           49.4,
           46.9,
           48.4,
           51.1,
           48.5,
           55.9,
           47.2,
           49.1,
           46.8,
           41.7,
           53.4,
           43.3,
           48.1,
           50.5,
           49.8,
           43.5,
           51.5,
           46.2,
           55.1,
           48.8,
           47.2,
           46.8,
           50.4,
           45.2,
           49.9
          ],
          "sizemode": "area",
          "sizeref": 0.149,
          "symbol": "circle"
         },
         "mode": "markers",
         "name": "Gentoo",
         "orientation": "v",
         "showlegend": true,
         "x": [
          211.0,
          230.0,
          210.0,
          218.0,
          215.0,
          210.0,
          211.0,
          219.0,
          209.0,
          215.0,
          214.0,
          216.0,
          214.0,
          213.0,
          210.0,
          217.0,
          210.0,
          221.0,
          209.0,
          222.0,
          218.0,
          215.0,
          213.0,
          215.0,
          215.0,
          215.0,
          215.0,
          210.0,
          220.0,
          222.0,
          209.0,
          207.0,
          230.0,
          220.0,
          220.0,
          213.0,
          219.0,
          208.0,
          208.0,
          208.0,
          225.0,
          210.0,
          216.0,
          222.0,
          217.0,
          210.0,
          225.0,
          213.0,
          215.0,
          210.0,
          220.0,
          210.0,
          225.0,
          217.0,
          220.0,
          208.0,
          220.0,
          208.0,
          224.0,
          208.0,
          221.0,
          214.0,
          231.0,
          219.0,
          230.0,
          229.0,
          220.0,
          223.0,
          216.0,
          221.0,
          221.0,
          217.0,
          216.0,
          230.0,
          209.0,
          220.0,
          215.0,
          223.0,
          212.0,
          221.0,
          212.0,
          224.0,
          212.0,
          228.0,
          218.0,
          218.0,
          212.0,
          230.0,
          218.0,
          228.0,
          212.0,
          224.0,
          214.0,
          226.0,
          216.0,
          222.0,
          203.0,
          225.0,
          219.0,
          228.0,
          215.0,
          228.0,
          215.0,
          210.0,
          219.0,
          208.0,
          209.0,
          216.0,
          229.0,
          213.0,
          230.0,
          217.0,
          230.0,
          222.0,
          214.0,
          215.0,
          222.0,
          212.0,
          213.0
         ],
         "xaxis": "x",
         "y": [
          4500.0,
          5700.0,
          4450.0,
          5700.0,
          5400.0,
          4550.0,
          4800.0,
          5200.0,
          4400.0,
          5150.0,
          4650.0,
          5550.0,
          4650.0,
          5850.0,
          4200.0,
          5850.0,
          4150.0,
          6300.0,
          4800.0,
          5350.0,
          5700.0,
          5000.0,
          4400.0,
          5050.0,
          5000.0,
          5100.0,
          5650.0,
          4600.0,
          5550.0,
          5250.0,
          4700.0,
          5050.0,
          6050.0,
          5150.0,
          5400.0,
          4950.0,
          5250.0,
          4350.0,
          5350.0,
          3950.0,
          5700.0,
          4300.0,
          4750.0,
          5550.0,
          4900.0,
          4200.0,
          5400.0,
          5100.0,
          5300.0,
          4850.0,
          5300.0,
          4400.0,
          5000.0,
          4900.0,
          5050.0,
          4300.0,
          5000.0,
          4450.0,
          5550.0,
          4200.0,
          5300.0,
          4400.0,
          5650.0,
          4700.0,
          5700.0,
          5800.0,
          4700.0,
          5550.0,
          4750.0,
          5000.0,
          5100.0,
          5200.0,
          4700.0,
          5800.0,
          4600.0,
          6000.0,
          4750.0,
          5950.0,
          4625.0,
          5450.0,
          4725.0,
          5350.0,
          4750.0,
          5600.0,
          4600.0,
          5300.0,
          4875.0,
          5550.0,
          4950.0,
          5400.0,
          4750.0,
          5650.0,
          4850.0,
          5200.0,
          4925.0,
          4875.0,
          4625.0,
          5250.0,
          4850.0,
          5600.0,
          4975.0,
          5500.0,
          5500.0,
          4700.0,
          5500.0,
          4575.0,
          5500.0,
          5000.0,
          5950.0,
          4650.0,
          5500.0,
          4375.0,
          5850.0,
          6000.0,
          4925.0,
          4850.0,
          5750.0,
          5200.0,
          5400.0
         ],
         "yaxis": "y",
         "type": "scatter"
        }
       ],
       "layout": {
        "template": {
         "data": {
          "histogram2dcontour": [
           {
            "type": "histogram2dcontour",
            "colorbar": {
             "outlinewidth": 0,
             "ticks": ""
            },
            "colorscale": [
             [
              0.0,
              "#0d0887"
             ],
             [
              0.1111111111111111,
              "#46039f"
             ],
             [
              0.2222222222222222,
              "#7201a8"
             ],
             [
              0.3333333333333333,
              "#9c179e"
             ],
             [
              0.4444444444444444,
              "#bd3786"
             ],
             [
              0.5555555555555556,
              "#d8576b"
             ],
             [
              0.6666666666666666,
              "#ed7953"
             ],
             [
              0.7777777777777778,
              "#fb9f3a"
             ],
             [
              0.8888888888888888,
              "#fdca26"
             ],
             [
              1.0,
              "#f0f921"
             ]
            ]
           }
          ],
          "choropleth": [
           {
            "type": "choropleth",
            "colorbar": {
             "outlinewidth": 0,
             "ticks": ""
            }
           }
          ],
          "histogram2d": [
           {
            "type": "histogram2d",
            "colorbar": {
             "outlinewidth": 0,
             "ticks": ""
            },
            "colorscale": [
             [
              0.0,
              "#0d0887"
             ],
             [
              0.1111111111111111,
              "#46039f"
             ],
             [
              0.2222222222222222,
              "#7201a8"
             ],
             [
              0.3333333333333333,
              "#9c179e"
             ],
             [
              0.4444444444444444,
              "#bd3786"
             ],
             [
              0.5555555555555556,
              "#d8576b"
             ],
             [
              0.6666666666666666,
              "#ed7953"
             ],
             [
              0.7777777777777778,
              "#fb9f3a"
             ],
             [
              0.8888888888888888,
              "#fdca26"
             ],
             [
              1.0,
              "#f0f921"
             ]
            ]
           }
          ],
          "heatmap": [
           {
            "type": "heatmap",
            "colorbar": {
             "outlinewidth": 0,
             "ticks": ""
            },
            "colorscale": [
             [
              0.0,
              "#0d0887"
             ],
             [
              0.1111111111111111,
              "#46039f"
             ],
             [
              0.2222222222222222,
              "#7201a8"
             ],
             [
              0.3333333333333333,
              "#9c179e"
             ],
             [
              0.4444444444444444,
              "#bd3786"
             ],
             [
              0.5555555555555556,
              "#d8576b"
             ],
             [
              0.6666666666666666,
              "#ed7953"
             ],
             [
              0.7777777777777778,
              "#fb9f3a"
             ],
             [
              0.8888888888888888,
              "#fdca26"
             ],
             [
              1.0,
              "#f0f921"
             ]
            ]
           }
          ],
          "heatmapgl": [
           {
            "type": "heatmapgl",
            "colorbar": {
             "outlinewidth": 0,
             "ticks": ""
            },
            "colorscale": [
             [
              0.0,
              "#0d0887"
             ],
             [
              0.1111111111111111,
              "#46039f"
             ],
             [
              0.2222222222222222,
              "#7201a8"
             ],
             [
              0.3333333333333333,
              "#9c179e"
             ],
             [
              0.4444444444444444,
              "#bd3786"
             ],
             [
              0.5555555555555556,
              "#d8576b"
             ],
             [
              0.6666666666666666,
              "#ed7953"
             ],
             [
              0.7777777777777778,
              "#fb9f3a"
             ],
             [
              0.8888888888888888,
              "#fdca26"
             ],
             [
              1.0,
              "#f0f921"
             ]
            ]
           }
          ],
          "contourcarpet": [
           {
            "type": "contourcarpet",
            "colorbar": {
             "outlinewidth": 0,
             "ticks": ""
            }
           }
          ],
          "contour": [
           {
            "type": "contour",
            "colorbar": {
             "outlinewidth": 0,
             "ticks": ""
            },
            "colorscale": [
             [
              0.0,
              "#0d0887"
             ],
             [
              0.1111111111111111,
              "#46039f"
             ],
             [
              0.2222222222222222,
              "#7201a8"
             ],
             [
              0.3333333333333333,
              "#9c179e"
             ],
             [
              0.4444444444444444,
              "#bd3786"
             ],
             [
              0.5555555555555556,
              "#d8576b"
             ],
             [
              0.6666666666666666,
              "#ed7953"
             ],
             [
              0.7777777777777778,
              "#fb9f3a"
             ],
             [
              0.8888888888888888,
              "#fdca26"
             ],
             [
              1.0,
              "#f0f921"
             ]
            ]
           }
          ],
          "surface": [
           {
            "type": "surface",
            "colorbar": {
             "outlinewidth": 0,
             "ticks": ""
            },
            "colorscale": [
             [
              0.0,
              "#0d0887"
             ],
             [
              0.1111111111111111,
              "#46039f"
             ],
             [
              0.2222222222222222,
              "#7201a8"
             ],
             [
              0.3333333333333333,
              "#9c179e"
             ],
             [
              0.4444444444444444,
              "#bd3786"
             ],
             [
              0.5555555555555556,
              "#d8576b"
             ],
             [
              0.6666666666666666,
              "#ed7953"
             ],
             [
              0.7777777777777778,
              "#fb9f3a"
             ],
             [
              0.8888888888888888,
              "#fdca26"
             ],
             [
              1.0,
              "#f0f921"
             ]
            ]
           }
          ],
          "mesh3d": [
           {
            "type": "mesh3d",
            "colorbar": {
             "outlinewidth": 0,
             "ticks": ""
            }
           }
          ],
          "scatter": [
           {
            "fillpattern": {
             "fillmode": "overlay",
             "size": 10,
             "solidity": 0.2
            },
            "type": "scatter"
           }
          ],
          "parcoords": [
           {
            "type": "parcoords",
            "line": {
             "colorbar": {
              "outlinewidth": 0,
              "ticks": ""
             }
            }
           }
          ],
          "scatterpolargl": [
           {
            "type": "scatterpolargl",
            "marker": {
             "colorbar": {
              "outlinewidth": 0,
              "ticks": ""
             }
            }
           }
          ],
          "bar": [
           {
            "error_x": {
             "color": "#2a3f5f"
            },
            "error_y": {
             "color": "#2a3f5f"
            },
            "marker": {
             "line": {
              "color": "#E5ECF6",
              "width": 0.5
             },
             "pattern": {
              "fillmode": "overlay",
              "size": 10,
              "solidity": 0.2
             }
            },
            "type": "bar"
           }
          ],
          "scattergeo": [
           {
            "type": "scattergeo",
            "marker": {
             "colorbar": {
              "outlinewidth": 0,
              "ticks": ""
             }
            }
           }
          ],
          "scatterpolar": [
           {
            "type": "scatterpolar",
            "marker": {
             "colorbar": {
              "outlinewidth": 0,
              "ticks": ""
             }
            }
           }
          ],
          "histogram": [
           {
            "marker": {
             "pattern": {
              "fillmode": "overlay",
              "size": 10,
              "solidity": 0.2
             }
            },
            "type": "histogram"
           }
          ],
          "scattergl": [
           {
            "type": "scattergl",
            "marker": {
             "colorbar": {
              "outlinewidth": 0,
              "ticks": ""
             }
            }
           }
          ],
          "scatter3d": [
           {
            "type": "scatter3d",
            "line": {
             "colorbar": {
              "outlinewidth": 0,
              "ticks": ""
             }
            },
            "marker": {
             "colorbar": {
              "outlinewidth": 0,
              "ticks": ""
             }
            }
           }
          ],
          "scattermapbox": [
           {
            "type": "scattermapbox",
            "marker": {
             "colorbar": {
              "outlinewidth": 0,
              "ticks": ""
             }
            }
           }
          ],
          "scatterternary": [
           {
            "type": "scatterternary",
            "marker": {
             "colorbar": {
              "outlinewidth": 0,
              "ticks": ""
             }
            }
           }
          ],
          "scattercarpet": [
           {
            "type": "scattercarpet",
            "marker": {
             "colorbar": {
              "outlinewidth": 0,
              "ticks": ""
             }
            }
           }
          ],
          "carpet": [
           {
            "aaxis": {
             "endlinecolor": "#2a3f5f",
             "gridcolor": "white",
             "linecolor": "white",
             "minorgridcolor": "white",
             "startlinecolor": "#2a3f5f"
            },
            "baxis": {
             "endlinecolor": "#2a3f5f",
             "gridcolor": "white",
             "linecolor": "white",
             "minorgridcolor": "white",
             "startlinecolor": "#2a3f5f"
            },
            "type": "carpet"
           }
          ],
          "table": [
           {
            "cells": {
             "fill": {
              "color": "#EBF0F8"
             },
             "line": {
              "color": "white"
             }
            },
            "header": {
             "fill": {
              "color": "#C8D4E3"
             },
             "line": {
              "color": "white"
             }
            },
            "type": "table"
           }
          ],
          "barpolar": [
           {
            "marker": {
             "line": {
              "color": "#E5ECF6",
              "width": 0.5
             },
             "pattern": {
              "fillmode": "overlay",
              "size": 10,
              "solidity": 0.2
             }
            },
            "type": "barpolar"
           }
          ],
          "pie": [
           {
            "automargin": true,
            "type": "pie"
           }
          ]
         },
         "layout": {
          "autotypenumbers": "strict",
          "colorway": [
           "#636efa",
           "#EF553B",
           "#00cc96",
           "#ab63fa",
           "#FFA15A",
           "#19d3f3",
           "#FF6692",
           "#B6E880",
           "#FF97FF",
           "#FECB52"
          ],
          "font": {
           "color": "#2a3f5f"
          },
          "hovermode": "closest",
          "hoverlabel": {
           "align": "left"
          },
          "paper_bgcolor": "white",
          "plot_bgcolor": "#E5ECF6",
          "polar": {
           "bgcolor": "#E5ECF6",
           "angularaxis": {
            "gridcolor": "white",
            "linecolor": "white",
            "ticks": ""
           },
           "radialaxis": {
            "gridcolor": "white",
            "linecolor": "white",
            "ticks": ""
           }
          },
          "ternary": {
           "bgcolor": "#E5ECF6",
           "aaxis": {
            "gridcolor": "white",
            "linecolor": "white",
            "ticks": ""
           },
           "baxis": {
            "gridcolor": "white",
            "linecolor": "white",
            "ticks": ""
           },
           "caxis": {
            "gridcolor": "white",
            "linecolor": "white",
            "ticks": ""
           }
          },
          "coloraxis": {
           "colorbar": {
            "outlinewidth": 0,
            "ticks": ""
           }
          },
          "colorscale": {
           "sequential": [
            [
             0.0,
             "#0d0887"
            ],
            [
             0.1111111111111111,
             "#46039f"
            ],
            [
             0.2222222222222222,
             "#7201a8"
            ],
            [
             0.3333333333333333,
             "#9c179e"
            ],
            [
             0.4444444444444444,
             "#bd3786"
            ],
            [
             0.5555555555555556,
             "#d8576b"
            ],
            [
             0.6666666666666666,
             "#ed7953"
            ],
            [
             0.7777777777777778,
             "#fb9f3a"
            ],
            [
             0.8888888888888888,
             "#fdca26"
            ],
            [
             1.0,
             "#f0f921"
            ]
           ],
           "sequentialminus": [
            [
             0.0,
             "#0d0887"
            ],
            [
             0.1111111111111111,
             "#46039f"
            ],
            [
             0.2222222222222222,
             "#7201a8"
            ],
            [
             0.3333333333333333,
             "#9c179e"
            ],
            [
             0.4444444444444444,
             "#bd3786"
            ],
            [
             0.5555555555555556,
             "#d8576b"
            ],
            [
             0.6666666666666666,
             "#ed7953"
            ],
            [
             0.7777777777777778,
             "#fb9f3a"
            ],
            [
             0.8888888888888888,
             "#fdca26"
            ],
            [
             1.0,
             "#f0f921"
            ]
           ],
           "diverging": [
            [
             0,
             "#8e0152"
            ],
            [
             0.1,
             "#c51b7d"
            ],
            [
             0.2,
             "#de77ae"
            ],
            [
             0.3,
             "#f1b6da"
            ],
            [
             0.4,
             "#fde0ef"
            ],
            [
             0.5,
             "#f7f7f7"
            ],
            [
             0.6,
             "#e6f5d0"
            ],
            [
             0.7,
             "#b8e186"
            ],
            [
             0.8,
             "#7fbc41"
            ],
            [
             0.9,
             "#4d9221"
            ],
            [
             1,
             "#276419"
            ]
           ]
          },
          "xaxis": {
           "gridcolor": "white",
           "linecolor": "white",
           "ticks": "",
           "title": {
            "standoff": 15
           },
           "zerolinecolor": "white",
           "automargin": true,
           "zerolinewidth": 2
          },
          "yaxis": {
           "gridcolor": "white",
           "linecolor": "white",
           "ticks": "",
           "title": {
            "standoff": 15
           },
           "zerolinecolor": "white",
           "automargin": true,
           "zerolinewidth": 2
          },
          "scene": {
           "xaxis": {
            "backgroundcolor": "#E5ECF6",
            "gridcolor": "white",
            "linecolor": "white",
            "showbackground": true,
            "ticks": "",
            "zerolinecolor": "white",
            "gridwidth": 2
           },
           "yaxis": {
            "backgroundcolor": "#E5ECF6",
            "gridcolor": "white",
            "linecolor": "white",
            "showbackground": true,
            "ticks": "",
            "zerolinecolor": "white",
            "gridwidth": 2
           },
           "zaxis": {
            "backgroundcolor": "#E5ECF6",
            "gridcolor": "white",
            "linecolor": "white",
            "showbackground": true,
            "ticks": "",
            "zerolinecolor": "white",
            "gridwidth": 2
           }
          },
          "shapedefaults": {
           "line": {
            "color": "#2a3f5f"
           }
          },
          "annotationdefaults": {
           "arrowcolor": "#2a3f5f",
           "arrowhead": 0,
           "arrowwidth": 1
          },
          "geo": {
           "bgcolor": "white",
           "landcolor": "#E5ECF6",
           "subunitcolor": "white",
           "showland": true,
           "showlakes": true,
           "lakecolor": "white"
          },
          "title": {
           "x": 0.05
          },
          "mapbox": {
           "style": "light"
          }
         }
        },
        "xaxis": {
         "anchor": "y",
         "domain": [
          0.0,
          1.0
         ],
         "title": {
          "text": "flipper_length_mm"
         }
        },
        "yaxis": {
         "anchor": "x",
         "domain": [
          0.0,
          1.0
         ],
         "title": {
          "text": "body_mass_g"
         }
        },
        "legend": {
         "title": {
          "text": "species"
         },
         "tracegroupgap": 0,
         "itemsizing": "constant"
        },
        "title": {
         "text": "Penguin Flipper length vs. Body Mass"
        }
       },
       "config": {
        "plotlyServerURL": "https://plot.ly"
       }
      },
      "text/html": [
       "<div>                            <div id=\"feae6e3b-1cdd-4855-a6f2-6d35fbf9f779\" class=\"plotly-graph-div\" style=\"height:525px; width:100%;\"></div>            <script type=\"text/javascript\">                require([\"plotly\"], function(Plotly) {                    window.PLOTLYENV=window.PLOTLYENV || {};                                    if (document.getElementById(\"feae6e3b-1cdd-4855-a6f2-6d35fbf9f779\")) {                    Plotly.newPlot(                        \"feae6e3b-1cdd-4855-a6f2-6d35fbf9f779\",                        [{\"customdata\":[[\"Torgersen\"],[\"Torgersen\"],[\"Torgersen\"],[\"Torgersen\"],[\"Torgersen\"],[\"Torgersen\"],[\"Torgersen\"],[\"Torgersen\"],[\"Torgersen\"],[\"Torgersen\"],[\"Torgersen\"],[\"Torgersen\"],[\"Torgersen\"],[\"Torgersen\"],[\"Torgersen\"],[\"Biscoe\"],[\"Biscoe\"],[\"Biscoe\"],[\"Biscoe\"],[\"Biscoe\"],[\"Biscoe\"],[\"Biscoe\"],[\"Biscoe\"],[\"Biscoe\"],[\"Biscoe\"],[\"Dream\"],[\"Dream\"],[\"Dream\"],[\"Dream\"],[\"Dream\"],[\"Dream\"],[\"Dream\"],[\"Dream\"],[\"Dream\"],[\"Dream\"],[\"Dream\"],[\"Dream\"],[\"Dream\"],[\"Dream\"],[\"Dream\"],[\"Dream\"],[\"Dream\"],[\"Dream\"],[\"Dream\"],[\"Biscoe\"],[\"Biscoe\"],[\"Biscoe\"],[\"Biscoe\"],[\"Biscoe\"],[\"Biscoe\"],[\"Biscoe\"],[\"Biscoe\"],[\"Biscoe\"],[\"Biscoe\"],[\"Biscoe\"],[\"Biscoe\"],[\"Biscoe\"],[\"Biscoe\"],[\"Biscoe\"],[\"Biscoe\"],[\"Biscoe\"],[\"Biscoe\"],[\"Torgersen\"],[\"Torgersen\"],[\"Torgersen\"],[\"Torgersen\"],[\"Torgersen\"],[\"Torgersen\"],[\"Torgersen\"],[\"Torgersen\"],[\"Torgersen\"],[\"Torgersen\"],[\"Torgersen\"],[\"Torgersen\"],[\"Torgersen\"],[\"Torgersen\"],[\"Torgersen\"],[\"Torgersen\"],[\"Dream\"],[\"Dream\"],[\"Dream\"],[\"Dream\"],[\"Dream\"],[\"Dream\"],[\"Dream\"],[\"Dream\"],[\"Dream\"],[\"Dream\"],[\"Dream\"],[\"Dream\"],[\"Dream\"],[\"Dream\"],[\"Dream\"],[\"Dream\"],[\"Biscoe\"],[\"Biscoe\"],[\"Biscoe\"],[\"Biscoe\"],[\"Biscoe\"],[\"Biscoe\"],[\"Biscoe\"],[\"Biscoe\"],[\"Biscoe\"],[\"Biscoe\"],[\"Biscoe\"],[\"Biscoe\"],[\"Biscoe\"],[\"Biscoe\"],[\"Biscoe\"],[\"Biscoe\"],[\"Torgersen\"],[\"Torgersen\"],[\"Torgersen\"],[\"Torgersen\"],[\"Torgersen\"],[\"Torgersen\"],[\"Torgersen\"],[\"Torgersen\"],[\"Torgersen\"],[\"Torgersen\"],[\"Torgersen\"],[\"Torgersen\"],[\"Torgersen\"],[\"Torgersen\"],[\"Torgersen\"],[\"Torgersen\"],[\"Dream\"],[\"Dream\"],[\"Dream\"],[\"Dream\"],[\"Dream\"],[\"Dream\"],[\"Dream\"],[\"Dream\"],[\"Dream\"],[\"Dream\"],[\"Dream\"],[\"Dream\"],[\"Dream\"],[\"Dream\"],[\"Dream\"],[\"Dream\"],[\"Dream\"],[\"Dream\"],[\"Dream\"],[\"Dream\"]],\"hovertemplate\":\"species=Adelie\\u003cbr\\u003eflipper_length_mm=%{x}\\u003cbr\\u003ebody_mass_g=%{y}\\u003cbr\\u003ebill_length_mm=%{marker.size}\\u003cbr\\u003eisland=%{customdata[0]}\\u003cextra\\u003e\\u003c\\u002fextra\\u003e\",\"legendgroup\":\"Adelie\",\"marker\":{\"color\":\"#636efa\",\"size\":[39.1,39.5,40.3,36.7,39.3,38.9,39.2,41.1,38.6,34.6,36.6,38.7,42.5,34.4,46.0,37.8,37.7,35.9,38.2,38.8,35.3,40.6,40.5,37.9,40.5,39.5,37.2,39.5,40.9,36.4,39.2,38.8,42.2,37.6,39.8,36.5,40.8,36.0,44.1,37.0,39.6,41.1,36.0,42.3,39.6,40.1,35.0,42.0,34.5,41.4,39.0,40.6,36.5,37.6,35.7,41.3,37.6,41.1,36.4,41.6,35.5,41.1,35.9,41.8,33.5,39.7,39.6,45.8,35.5,42.8,40.9,37.2,36.2,42.1,34.6,42.9,36.7,35.1,37.3,41.3,36.3,36.9,38.3,38.9,35.7,41.1,34.0,39.6,36.2,40.8,38.1,40.3,33.1,43.2,35.0,41.0,37.7,37.8,37.9,39.7,38.6,38.2,38.1,43.2,38.1,45.6,39.7,42.2,39.6,42.7,38.6,37.3,35.7,41.1,36.2,37.7,40.2,41.4,35.2,40.6,38.8,41.5,39.0,44.1,38.5,43.1,36.8,37.5,38.1,41.1,35.6,40.2,37.0,39.7,40.2,40.6,32.1,40.7,37.3,39.0,39.2,36.6,36.0,37.8,36.0,41.5],\"sizemode\":\"area\",\"sizeref\":0.149,\"symbol\":\"circle\"},\"mode\":\"markers\",\"name\":\"Adelie\",\"orientation\":\"v\",\"showlegend\":true,\"x\":[181.0,186.0,195.0,193.0,190.0,181.0,195.0,182.0,191.0,198.0,185.0,195.0,197.0,184.0,194.0,174.0,180.0,189.0,185.0,180.0,187.0,183.0,187.0,172.0,180.0,178.0,178.0,188.0,184.0,195.0,196.0,190.0,180.0,181.0,184.0,182.0,195.0,186.0,196.0,185.0,190.0,182.0,190.0,191.0,186.0,188.0,190.0,200.0,187.0,191.0,186.0,193.0,181.0,194.0,185.0,195.0,185.0,192.0,184.0,192.0,195.0,188.0,190.0,198.0,190.0,190.0,196.0,197.0,190.0,195.0,191.0,184.0,187.0,195.0,189.0,196.0,187.0,193.0,191.0,194.0,190.0,189.0,189.0,190.0,202.0,205.0,185.0,186.0,187.0,208.0,190.0,196.0,178.0,192.0,192.0,203.0,183.0,190.0,193.0,184.0,199.0,190.0,181.0,197.0,198.0,191.0,193.0,197.0,191.0,196.0,188.0,199.0,189.0,189.0,187.0,198.0,176.0,202.0,186.0,199.0,191.0,195.0,191.0,210.0,190.0,197.0,193.0,199.0,187.0,190.0,191.0,200.0,185.0,193.0,193.0,187.0,188.0,190.0,192.0,185.0,190.0,184.0,195.0,193.0,187.0,201.0],\"xaxis\":\"x\",\"y\":[3750.0,3800.0,3250.0,3450.0,3650.0,3625.0,4675.0,3200.0,3800.0,4400.0,3700.0,3450.0,4500.0,3325.0,4200.0,3400.0,3600.0,3800.0,3950.0,3800.0,3800.0,3550.0,3200.0,3150.0,3950.0,3250.0,3900.0,3300.0,3900.0,3325.0,4150.0,3950.0,3550.0,3300.0,4650.0,3150.0,3900.0,3100.0,4400.0,3000.0,4600.0,3425.0,3450.0,4150.0,3500.0,4300.0,3450.0,4050.0,2900.0,3700.0,3550.0,3800.0,2850.0,3750.0,3150.0,4400.0,3600.0,4050.0,2850.0,3950.0,3350.0,4100.0,3050.0,4450.0,3600.0,3900.0,3550.0,4150.0,3700.0,4250.0,3700.0,3900.0,3550.0,4000.0,3200.0,4700.0,3800.0,4200.0,3350.0,3550.0,3800.0,3500.0,3950.0,3600.0,3550.0,4300.0,3400.0,4450.0,3300.0,4300.0,3700.0,4350.0,2900.0,4100.0,3725.0,4725.0,3075.0,4250.0,2925.0,3550.0,3750.0,3900.0,3175.0,4775.0,3825.0,4600.0,3200.0,4275.0,3900.0,4075.0,2900.0,3775.0,3350.0,3325.0,3150.0,3500.0,3450.0,3875.0,3050.0,4000.0,3275.0,4300.0,3050.0,4000.0,3325.0,3500.0,3500.0,4475.0,3425.0,3900.0,3175.0,3975.0,3400.0,4250.0,3400.0,3475.0,3050.0,3725.0,3000.0,3650.0,4250.0,3475.0,3450.0,3750.0,3700.0,4000.0],\"yaxis\":\"y\",\"type\":\"scatter\"},{\"customdata\":[[\"Dream\"],[\"Dream\"],[\"Dream\"],[\"Dream\"],[\"Dream\"],[\"Dream\"],[\"Dream\"],[\"Dream\"],[\"Dream\"],[\"Dream\"],[\"Dream\"],[\"Dream\"],[\"Dream\"],[\"Dream\"],[\"Dream\"],[\"Dream\"],[\"Dream\"],[\"Dream\"],[\"Dream\"],[\"Dream\"],[\"Dream\"],[\"Dream\"],[\"Dream\"],[\"Dream\"],[\"Dream\"],[\"Dream\"],[\"Dream\"],[\"Dream\"],[\"Dream\"],[\"Dream\"],[\"Dream\"],[\"Dream\"],[\"Dream\"],[\"Dream\"],[\"Dream\"],[\"Dream\"],[\"Dream\"],[\"Dream\"],[\"Dream\"],[\"Dream\"],[\"Dream\"],[\"Dream\"],[\"Dream\"],[\"Dream\"],[\"Dream\"],[\"Dream\"],[\"Dream\"],[\"Dream\"],[\"Dream\"],[\"Dream\"],[\"Dream\"],[\"Dream\"],[\"Dream\"],[\"Dream\"],[\"Dream\"],[\"Dream\"],[\"Dream\"],[\"Dream\"],[\"Dream\"],[\"Dream\"],[\"Dream\"],[\"Dream\"],[\"Dream\"],[\"Dream\"],[\"Dream\"],[\"Dream\"],[\"Dream\"],[\"Dream\"]],\"hovertemplate\":\"species=Chinstrap\\u003cbr\\u003eflipper_length_mm=%{x}\\u003cbr\\u003ebody_mass_g=%{y}\\u003cbr\\u003ebill_length_mm=%{marker.size}\\u003cbr\\u003eisland=%{customdata[0]}\\u003cextra\\u003e\\u003c\\u002fextra\\u003e\",\"legendgroup\":\"Chinstrap\",\"marker\":{\"color\":\"#EF553B\",\"size\":[46.5,50.0,51.3,45.4,52.7,45.2,46.1,51.3,46.0,51.3,46.6,51.7,47.0,52.0,45.9,50.5,50.3,58.0,46.4,49.2,42.4,48.5,43.2,50.6,46.7,52.0,50.5,49.5,46.4,52.8,40.9,54.2,42.5,51.0,49.7,47.5,47.6,52.0,46.9,53.5,49.0,46.2,50.9,45.5,50.9,50.8,50.1,49.0,51.5,49.8,48.1,51.4,45.7,50.7,42.5,52.2,45.2,49.3,50.2,45.6,51.9,46.8,45.7,55.8,43.5,49.6,50.8,50.2],\"sizemode\":\"area\",\"sizeref\":0.149,\"symbol\":\"circle\"},\"mode\":\"markers\",\"name\":\"Chinstrap\",\"orientation\":\"v\",\"showlegend\":true,\"x\":[192.0,196.0,193.0,188.0,197.0,198.0,178.0,197.0,195.0,198.0,193.0,194.0,185.0,201.0,190.0,201.0,197.0,181.0,190.0,195.0,181.0,191.0,187.0,193.0,195.0,197.0,200.0,200.0,191.0,205.0,187.0,201.0,187.0,203.0,195.0,199.0,195.0,210.0,192.0,205.0,210.0,187.0,196.0,196.0,196.0,201.0,190.0,212.0,187.0,198.0,199.0,201.0,193.0,203.0,187.0,197.0,191.0,203.0,202.0,194.0,206.0,189.0,195.0,207.0,202.0,193.0,210.0,198.0],\"xaxis\":\"x\",\"y\":[3500.0,3900.0,3650.0,3525.0,3725.0,3950.0,3250.0,3750.0,4150.0,3700.0,3800.0,3775.0,3700.0,4050.0,3575.0,4050.0,3300.0,3700.0,3450.0,4400.0,3600.0,3400.0,2900.0,3800.0,3300.0,4150.0,3400.0,3800.0,3700.0,4550.0,3200.0,4300.0,3350.0,4100.0,3600.0,3900.0,3850.0,4800.0,2700.0,4500.0,3950.0,3650.0,3550.0,3500.0,3675.0,4450.0,3400.0,4300.0,3250.0,3675.0,3325.0,3950.0,3600.0,4050.0,3350.0,3450.0,3250.0,4050.0,3800.0,3525.0,3950.0,3650.0,3650.0,4000.0,3400.0,3775.0,4100.0,3775.0],\"yaxis\":\"y\",\"type\":\"scatter\"},{\"customdata\":[[\"Biscoe\"],[\"Biscoe\"],[\"Biscoe\"],[\"Biscoe\"],[\"Biscoe\"],[\"Biscoe\"],[\"Biscoe\"],[\"Biscoe\"],[\"Biscoe\"],[\"Biscoe\"],[\"Biscoe\"],[\"Biscoe\"],[\"Biscoe\"],[\"Biscoe\"],[\"Biscoe\"],[\"Biscoe\"],[\"Biscoe\"],[\"Biscoe\"],[\"Biscoe\"],[\"Biscoe\"],[\"Biscoe\"],[\"Biscoe\"],[\"Biscoe\"],[\"Biscoe\"],[\"Biscoe\"],[\"Biscoe\"],[\"Biscoe\"],[\"Biscoe\"],[\"Biscoe\"],[\"Biscoe\"],[\"Biscoe\"],[\"Biscoe\"],[\"Biscoe\"],[\"Biscoe\"],[\"Biscoe\"],[\"Biscoe\"],[\"Biscoe\"],[\"Biscoe\"],[\"Biscoe\"],[\"Biscoe\"],[\"Biscoe\"],[\"Biscoe\"],[\"Biscoe\"],[\"Biscoe\"],[\"Biscoe\"],[\"Biscoe\"],[\"Biscoe\"],[\"Biscoe\"],[\"Biscoe\"],[\"Biscoe\"],[\"Biscoe\"],[\"Biscoe\"],[\"Biscoe\"],[\"Biscoe\"],[\"Biscoe\"],[\"Biscoe\"],[\"Biscoe\"],[\"Biscoe\"],[\"Biscoe\"],[\"Biscoe\"],[\"Biscoe\"],[\"Biscoe\"],[\"Biscoe\"],[\"Biscoe\"],[\"Biscoe\"],[\"Biscoe\"],[\"Biscoe\"],[\"Biscoe\"],[\"Biscoe\"],[\"Biscoe\"],[\"Biscoe\"],[\"Biscoe\"],[\"Biscoe\"],[\"Biscoe\"],[\"Biscoe\"],[\"Biscoe\"],[\"Biscoe\"],[\"Biscoe\"],[\"Biscoe\"],[\"Biscoe\"],[\"Biscoe\"],[\"Biscoe\"],[\"Biscoe\"],[\"Biscoe\"],[\"Biscoe\"],[\"Biscoe\"],[\"Biscoe\"],[\"Biscoe\"],[\"Biscoe\"],[\"Biscoe\"],[\"Biscoe\"],[\"Biscoe\"],[\"Biscoe\"],[\"Biscoe\"],[\"Biscoe\"],[\"Biscoe\"],[\"Biscoe\"],[\"Biscoe\"],[\"Biscoe\"],[\"Biscoe\"],[\"Biscoe\"],[\"Biscoe\"],[\"Biscoe\"],[\"Biscoe\"],[\"Biscoe\"],[\"Biscoe\"],[\"Biscoe\"],[\"Biscoe\"],[\"Biscoe\"],[\"Biscoe\"],[\"Biscoe\"],[\"Biscoe\"],[\"Biscoe\"],[\"Biscoe\"],[\"Biscoe\"],[\"Biscoe\"],[\"Biscoe\"],[\"Biscoe\"],[\"Biscoe\"]],\"hovertemplate\":\"species=Gentoo\\u003cbr\\u003eflipper_length_mm=%{x}\\u003cbr\\u003ebody_mass_g=%{y}\\u003cbr\\u003ebill_length_mm=%{marker.size}\\u003cbr\\u003eisland=%{customdata[0]}\\u003cextra\\u003e\\u003c\\u002fextra\\u003e\",\"legendgroup\":\"Gentoo\",\"marker\":{\"color\":\"#00cc96\",\"size\":[46.1,50.0,48.7,50.0,47.6,46.5,45.4,46.7,43.3,46.8,40.9,49.0,45.5,48.4,45.8,49.3,42.0,49.2,46.2,48.7,50.2,45.1,46.5,46.3,42.9,46.1,47.8,48.2,50.0,47.3,42.8,45.1,59.6,49.1,48.4,42.6,44.4,44.0,48.7,42.7,49.6,45.3,49.6,50.5,43.6,45.5,50.5,44.9,45.2,46.6,48.5,45.1,50.1,46.5,45.0,43.8,45.5,43.2,50.4,45.3,46.2,45.7,54.3,45.8,49.8,49.5,43.5,50.7,47.7,46.4,48.2,46.5,46.4,48.6,47.5,51.1,45.2,45.2,49.1,52.5,47.4,50.0,44.9,50.8,43.4,51.3,47.5,52.1,47.5,52.2,45.5,49.5,44.5,50.8,49.4,46.9,48.4,51.1,48.5,55.9,47.2,49.1,46.8,41.7,53.4,43.3,48.1,50.5,49.8,43.5,51.5,46.2,55.1,48.8,47.2,46.8,50.4,45.2,49.9],\"sizemode\":\"area\",\"sizeref\":0.149,\"symbol\":\"circle\"},\"mode\":\"markers\",\"name\":\"Gentoo\",\"orientation\":\"v\",\"showlegend\":true,\"x\":[211.0,230.0,210.0,218.0,215.0,210.0,211.0,219.0,209.0,215.0,214.0,216.0,214.0,213.0,210.0,217.0,210.0,221.0,209.0,222.0,218.0,215.0,213.0,215.0,215.0,215.0,215.0,210.0,220.0,222.0,209.0,207.0,230.0,220.0,220.0,213.0,219.0,208.0,208.0,208.0,225.0,210.0,216.0,222.0,217.0,210.0,225.0,213.0,215.0,210.0,220.0,210.0,225.0,217.0,220.0,208.0,220.0,208.0,224.0,208.0,221.0,214.0,231.0,219.0,230.0,229.0,220.0,223.0,216.0,221.0,221.0,217.0,216.0,230.0,209.0,220.0,215.0,223.0,212.0,221.0,212.0,224.0,212.0,228.0,218.0,218.0,212.0,230.0,218.0,228.0,212.0,224.0,214.0,226.0,216.0,222.0,203.0,225.0,219.0,228.0,215.0,228.0,215.0,210.0,219.0,208.0,209.0,216.0,229.0,213.0,230.0,217.0,230.0,222.0,214.0,215.0,222.0,212.0,213.0],\"xaxis\":\"x\",\"y\":[4500.0,5700.0,4450.0,5700.0,5400.0,4550.0,4800.0,5200.0,4400.0,5150.0,4650.0,5550.0,4650.0,5850.0,4200.0,5850.0,4150.0,6300.0,4800.0,5350.0,5700.0,5000.0,4400.0,5050.0,5000.0,5100.0,5650.0,4600.0,5550.0,5250.0,4700.0,5050.0,6050.0,5150.0,5400.0,4950.0,5250.0,4350.0,5350.0,3950.0,5700.0,4300.0,4750.0,5550.0,4900.0,4200.0,5400.0,5100.0,5300.0,4850.0,5300.0,4400.0,5000.0,4900.0,5050.0,4300.0,5000.0,4450.0,5550.0,4200.0,5300.0,4400.0,5650.0,4700.0,5700.0,5800.0,4700.0,5550.0,4750.0,5000.0,5100.0,5200.0,4700.0,5800.0,4600.0,6000.0,4750.0,5950.0,4625.0,5450.0,4725.0,5350.0,4750.0,5600.0,4600.0,5300.0,4875.0,5550.0,4950.0,5400.0,4750.0,5650.0,4850.0,5200.0,4925.0,4875.0,4625.0,5250.0,4850.0,5600.0,4975.0,5500.0,5500.0,4700.0,5500.0,4575.0,5500.0,5000.0,5950.0,4650.0,5500.0,4375.0,5850.0,6000.0,4925.0,4850.0,5750.0,5200.0,5400.0],\"yaxis\":\"y\",\"type\":\"scatter\"}],                        {\"template\":{\"data\":{\"histogram2dcontour\":[{\"type\":\"histogram2dcontour\",\"colorbar\":{\"outlinewidth\":0,\"ticks\":\"\"},\"colorscale\":[[0.0,\"#0d0887\"],[0.1111111111111111,\"#46039f\"],[0.2222222222222222,\"#7201a8\"],[0.3333333333333333,\"#9c179e\"],[0.4444444444444444,\"#bd3786\"],[0.5555555555555556,\"#d8576b\"],[0.6666666666666666,\"#ed7953\"],[0.7777777777777778,\"#fb9f3a\"],[0.8888888888888888,\"#fdca26\"],[1.0,\"#f0f921\"]]}],\"choropleth\":[{\"type\":\"choropleth\",\"colorbar\":{\"outlinewidth\":0,\"ticks\":\"\"}}],\"histogram2d\":[{\"type\":\"histogram2d\",\"colorbar\":{\"outlinewidth\":0,\"ticks\":\"\"},\"colorscale\":[[0.0,\"#0d0887\"],[0.1111111111111111,\"#46039f\"],[0.2222222222222222,\"#7201a8\"],[0.3333333333333333,\"#9c179e\"],[0.4444444444444444,\"#bd3786\"],[0.5555555555555556,\"#d8576b\"],[0.6666666666666666,\"#ed7953\"],[0.7777777777777778,\"#fb9f3a\"],[0.8888888888888888,\"#fdca26\"],[1.0,\"#f0f921\"]]}],\"heatmap\":[{\"type\":\"heatmap\",\"colorbar\":{\"outlinewidth\":0,\"ticks\":\"\"},\"colorscale\":[[0.0,\"#0d0887\"],[0.1111111111111111,\"#46039f\"],[0.2222222222222222,\"#7201a8\"],[0.3333333333333333,\"#9c179e\"],[0.4444444444444444,\"#bd3786\"],[0.5555555555555556,\"#d8576b\"],[0.6666666666666666,\"#ed7953\"],[0.7777777777777778,\"#fb9f3a\"],[0.8888888888888888,\"#fdca26\"],[1.0,\"#f0f921\"]]}],\"heatmapgl\":[{\"type\":\"heatmapgl\",\"colorbar\":{\"outlinewidth\":0,\"ticks\":\"\"},\"colorscale\":[[0.0,\"#0d0887\"],[0.1111111111111111,\"#46039f\"],[0.2222222222222222,\"#7201a8\"],[0.3333333333333333,\"#9c179e\"],[0.4444444444444444,\"#bd3786\"],[0.5555555555555556,\"#d8576b\"],[0.6666666666666666,\"#ed7953\"],[0.7777777777777778,\"#fb9f3a\"],[0.8888888888888888,\"#fdca26\"],[1.0,\"#f0f921\"]]}],\"contourcarpet\":[{\"type\":\"contourcarpet\",\"colorbar\":{\"outlinewidth\":0,\"ticks\":\"\"}}],\"contour\":[{\"type\":\"contour\",\"colorbar\":{\"outlinewidth\":0,\"ticks\":\"\"},\"colorscale\":[[0.0,\"#0d0887\"],[0.1111111111111111,\"#46039f\"],[0.2222222222222222,\"#7201a8\"],[0.3333333333333333,\"#9c179e\"],[0.4444444444444444,\"#bd3786\"],[0.5555555555555556,\"#d8576b\"],[0.6666666666666666,\"#ed7953\"],[0.7777777777777778,\"#fb9f3a\"],[0.8888888888888888,\"#fdca26\"],[1.0,\"#f0f921\"]]}],\"surface\":[{\"type\":\"surface\",\"colorbar\":{\"outlinewidth\":0,\"ticks\":\"\"},\"colorscale\":[[0.0,\"#0d0887\"],[0.1111111111111111,\"#46039f\"],[0.2222222222222222,\"#7201a8\"],[0.3333333333333333,\"#9c179e\"],[0.4444444444444444,\"#bd3786\"],[0.5555555555555556,\"#d8576b\"],[0.6666666666666666,\"#ed7953\"],[0.7777777777777778,\"#fb9f3a\"],[0.8888888888888888,\"#fdca26\"],[1.0,\"#f0f921\"]]}],\"mesh3d\":[{\"type\":\"mesh3d\",\"colorbar\":{\"outlinewidth\":0,\"ticks\":\"\"}}],\"scatter\":[{\"fillpattern\":{\"fillmode\":\"overlay\",\"size\":10,\"solidity\":0.2},\"type\":\"scatter\"}],\"parcoords\":[{\"type\":\"parcoords\",\"line\":{\"colorbar\":{\"outlinewidth\":0,\"ticks\":\"\"}}}],\"scatterpolargl\":[{\"type\":\"scatterpolargl\",\"marker\":{\"colorbar\":{\"outlinewidth\":0,\"ticks\":\"\"}}}],\"bar\":[{\"error_x\":{\"color\":\"#2a3f5f\"},\"error_y\":{\"color\":\"#2a3f5f\"},\"marker\":{\"line\":{\"color\":\"#E5ECF6\",\"width\":0.5},\"pattern\":{\"fillmode\":\"overlay\",\"size\":10,\"solidity\":0.2}},\"type\":\"bar\"}],\"scattergeo\":[{\"type\":\"scattergeo\",\"marker\":{\"colorbar\":{\"outlinewidth\":0,\"ticks\":\"\"}}}],\"scatterpolar\":[{\"type\":\"scatterpolar\",\"marker\":{\"colorbar\":{\"outlinewidth\":0,\"ticks\":\"\"}}}],\"histogram\":[{\"marker\":{\"pattern\":{\"fillmode\":\"overlay\",\"size\":10,\"solidity\":0.2}},\"type\":\"histogram\"}],\"scattergl\":[{\"type\":\"scattergl\",\"marker\":{\"colorbar\":{\"outlinewidth\":0,\"ticks\":\"\"}}}],\"scatter3d\":[{\"type\":\"scatter3d\",\"line\":{\"colorbar\":{\"outlinewidth\":0,\"ticks\":\"\"}},\"marker\":{\"colorbar\":{\"outlinewidth\":0,\"ticks\":\"\"}}}],\"scattermapbox\":[{\"type\":\"scattermapbox\",\"marker\":{\"colorbar\":{\"outlinewidth\":0,\"ticks\":\"\"}}}],\"scatterternary\":[{\"type\":\"scatterternary\",\"marker\":{\"colorbar\":{\"outlinewidth\":0,\"ticks\":\"\"}}}],\"scattercarpet\":[{\"type\":\"scattercarpet\",\"marker\":{\"colorbar\":{\"outlinewidth\":0,\"ticks\":\"\"}}}],\"carpet\":[{\"aaxis\":{\"endlinecolor\":\"#2a3f5f\",\"gridcolor\":\"white\",\"linecolor\":\"white\",\"minorgridcolor\":\"white\",\"startlinecolor\":\"#2a3f5f\"},\"baxis\":{\"endlinecolor\":\"#2a3f5f\",\"gridcolor\":\"white\",\"linecolor\":\"white\",\"minorgridcolor\":\"white\",\"startlinecolor\":\"#2a3f5f\"},\"type\":\"carpet\"}],\"table\":[{\"cells\":{\"fill\":{\"color\":\"#EBF0F8\"},\"line\":{\"color\":\"white\"}},\"header\":{\"fill\":{\"color\":\"#C8D4E3\"},\"line\":{\"color\":\"white\"}},\"type\":\"table\"}],\"barpolar\":[{\"marker\":{\"line\":{\"color\":\"#E5ECF6\",\"width\":0.5},\"pattern\":{\"fillmode\":\"overlay\",\"size\":10,\"solidity\":0.2}},\"type\":\"barpolar\"}],\"pie\":[{\"automargin\":true,\"type\":\"pie\"}]},\"layout\":{\"autotypenumbers\":\"strict\",\"colorway\":[\"#636efa\",\"#EF553B\",\"#00cc96\",\"#ab63fa\",\"#FFA15A\",\"#19d3f3\",\"#FF6692\",\"#B6E880\",\"#FF97FF\",\"#FECB52\"],\"font\":{\"color\":\"#2a3f5f\"},\"hovermode\":\"closest\",\"hoverlabel\":{\"align\":\"left\"},\"paper_bgcolor\":\"white\",\"plot_bgcolor\":\"#E5ECF6\",\"polar\":{\"bgcolor\":\"#E5ECF6\",\"angularaxis\":{\"gridcolor\":\"white\",\"linecolor\":\"white\",\"ticks\":\"\"},\"radialaxis\":{\"gridcolor\":\"white\",\"linecolor\":\"white\",\"ticks\":\"\"}},\"ternary\":{\"bgcolor\":\"#E5ECF6\",\"aaxis\":{\"gridcolor\":\"white\",\"linecolor\":\"white\",\"ticks\":\"\"},\"baxis\":{\"gridcolor\":\"white\",\"linecolor\":\"white\",\"ticks\":\"\"},\"caxis\":{\"gridcolor\":\"white\",\"linecolor\":\"white\",\"ticks\":\"\"}},\"coloraxis\":{\"colorbar\":{\"outlinewidth\":0,\"ticks\":\"\"}},\"colorscale\":{\"sequential\":[[0.0,\"#0d0887\"],[0.1111111111111111,\"#46039f\"],[0.2222222222222222,\"#7201a8\"],[0.3333333333333333,\"#9c179e\"],[0.4444444444444444,\"#bd3786\"],[0.5555555555555556,\"#d8576b\"],[0.6666666666666666,\"#ed7953\"],[0.7777777777777778,\"#fb9f3a\"],[0.8888888888888888,\"#fdca26\"],[1.0,\"#f0f921\"]],\"sequentialminus\":[[0.0,\"#0d0887\"],[0.1111111111111111,\"#46039f\"],[0.2222222222222222,\"#7201a8\"],[0.3333333333333333,\"#9c179e\"],[0.4444444444444444,\"#bd3786\"],[0.5555555555555556,\"#d8576b\"],[0.6666666666666666,\"#ed7953\"],[0.7777777777777778,\"#fb9f3a\"],[0.8888888888888888,\"#fdca26\"],[1.0,\"#f0f921\"]],\"diverging\":[[0,\"#8e0152\"],[0.1,\"#c51b7d\"],[0.2,\"#de77ae\"],[0.3,\"#f1b6da\"],[0.4,\"#fde0ef\"],[0.5,\"#f7f7f7\"],[0.6,\"#e6f5d0\"],[0.7,\"#b8e186\"],[0.8,\"#7fbc41\"],[0.9,\"#4d9221\"],[1,\"#276419\"]]},\"xaxis\":{\"gridcolor\":\"white\",\"linecolor\":\"white\",\"ticks\":\"\",\"title\":{\"standoff\":15},\"zerolinecolor\":\"white\",\"automargin\":true,\"zerolinewidth\":2},\"yaxis\":{\"gridcolor\":\"white\",\"linecolor\":\"white\",\"ticks\":\"\",\"title\":{\"standoff\":15},\"zerolinecolor\":\"white\",\"automargin\":true,\"zerolinewidth\":2},\"scene\":{\"xaxis\":{\"backgroundcolor\":\"#E5ECF6\",\"gridcolor\":\"white\",\"linecolor\":\"white\",\"showbackground\":true,\"ticks\":\"\",\"zerolinecolor\":\"white\",\"gridwidth\":2},\"yaxis\":{\"backgroundcolor\":\"#E5ECF6\",\"gridcolor\":\"white\",\"linecolor\":\"white\",\"showbackground\":true,\"ticks\":\"\",\"zerolinecolor\":\"white\",\"gridwidth\":2},\"zaxis\":{\"backgroundcolor\":\"#E5ECF6\",\"gridcolor\":\"white\",\"linecolor\":\"white\",\"showbackground\":true,\"ticks\":\"\",\"zerolinecolor\":\"white\",\"gridwidth\":2}},\"shapedefaults\":{\"line\":{\"color\":\"#2a3f5f\"}},\"annotationdefaults\":{\"arrowcolor\":\"#2a3f5f\",\"arrowhead\":0,\"arrowwidth\":1},\"geo\":{\"bgcolor\":\"white\",\"landcolor\":\"#E5ECF6\",\"subunitcolor\":\"white\",\"showland\":true,\"showlakes\":true,\"lakecolor\":\"white\"},\"title\":{\"x\":0.05},\"mapbox\":{\"style\":\"light\"}}},\"xaxis\":{\"anchor\":\"y\",\"domain\":[0.0,1.0],\"title\":{\"text\":\"flipper_length_mm\"}},\"yaxis\":{\"anchor\":\"x\",\"domain\":[0.0,1.0],\"title\":{\"text\":\"body_mass_g\"}},\"legend\":{\"title\":{\"text\":\"species\"},\"tracegroupgap\":0,\"itemsizing\":\"constant\"},\"title\":{\"text\":\"Penguin Flipper length vs. Body Mass\"}},                        {\"responsive\": true}                    ).then(function(){\n",
       "                            \n",
       "var gd = document.getElementById('feae6e3b-1cdd-4855-a6f2-6d35fbf9f779');\n",
       "var x = new MutationObserver(function (mutations, observer) {{\n",
       "        var display = window.getComputedStyle(gd).display;\n",
       "        if (!display || display === 'none') {{\n",
       "            console.log([gd, 'removed!']);\n",
       "            Plotly.purge(gd);\n",
       "            observer.disconnect();\n",
       "        }}\n",
       "}});\n",
       "\n",
       "// Listen for the removal of the full notebook cells\n",
       "var notebookContainer = gd.closest('#notebook-container');\n",
       "if (notebookContainer) {{\n",
       "    x.observe(notebookContainer, {childList: true});\n",
       "}}\n",
       "\n",
       "// Listen for the clearing of the current output cell\n",
       "var outputEl = gd.closest('.output');\n",
       "if (outputEl) {{\n",
       "    x.observe(outputEl, {childList: true});\n",
       "}}\n",
       "\n",
       "                        })                };                });            </script>        </div>"
      ]
     },
     "metadata": {},
     "output_type": "display_data"
    }
   ],
   "execution_count": 71
  }
 ],
 "metadata": {
  "kernelspec": {
   "display_name": "Python 3",
   "language": "python",
   "name": "python3"
  },
  "language_info": {
   "codemirror_mode": {
    "name": "ipython",
    "version": 2
   },
   "file_extension": ".py",
   "mimetype": "text/x-python",
   "name": "python",
   "nbconvert_exporter": "python",
   "pygments_lexer": "ipython2",
   "version": "2.7.6"
  }
 },
 "nbformat": 4,
 "nbformat_minor": 5
}
