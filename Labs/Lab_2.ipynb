{
 "cells": [
  {
   "cell_type": "code",
   "id": "initial_id",
   "metadata": {
    "collapsed": true,
    "ExecuteTime": {
     "end_time": "2025-06-10T10:18:57.695646Z",
     "start_time": "2025-06-10T10:18:57.691806Z"
    }
   },
   "source": [
    "from distributed.utils_comm import retry\n",
    "from holoviews.operation import operation\n",
    "from mpmath import arange\n",
    "\n",
    "\n",
    "def cube(a , b, c=1):\n",
    "    '''Cube function'''\n",
    "    return a + b + c\n",
    "\n",
    "cube(4, 5)"
   ],
   "outputs": [
    {
     "data": {
      "text/plain": [
       "10"
      ]
     },
     "execution_count": 35,
     "metadata": {},
     "output_type": "execute_result"
    }
   ],
   "execution_count": 35
  },
  {
   "metadata": {},
   "cell_type": "markdown",
   "source": "",
   "id": "71d76840ec88a7a6"
  },
  {
   "metadata": {
    "ExecuteTime": {
     "end_time": "2025-06-10T10:18:54.784759Z",
     "start_time": "2025-06-10T10:18:54.781683Z"
    }
   },
   "cell_type": "code",
   "source": [
    "def proccess(*items):\n",
    "    print(type(items))\n",
    "    for i in items:\n",
    "        print(type(i))\n",
    "        \n",
    "proccess(1,2,3,4)"
   ],
   "id": "5db0f5f30841e0ab",
   "outputs": [
    {
     "name": "stdout",
     "output_type": "stream",
     "text": [
      "<class 'tuple'>\n",
      "<class 'int'>\n",
      "<class 'int'>\n",
      "<class 'int'>\n",
      "<class 'int'>\n"
     ]
    }
   ],
   "execution_count": 34
  },
  {
   "metadata": {
    "ExecuteTime": {
     "end_time": "2025-06-10T10:24:37.810808Z",
     "start_time": "2025-06-10T10:24:37.808078Z"
    }
   },
   "cell_type": "code",
   "source": [
    "import numpy as np\n",
    "\n",
    "def proccess(action, *items):\n",
    "    sum = 0\n",
    "    for i in items:\n",
    "        sum += action(i)\n",
    "    return sum\n",
    "\n",
    "def quad(n):\n",
    "    return n**2\n",
    "\n",
    "arr = np.random.randint(1, 10, size = (2,2))\n",
    "print(arr,\"\\n\")\n",
    "\n",
    "quad_sum = proccess(quad,*arr)\n",
    "print(quad_sum)"
   ],
   "id": "9cd08096e4c62b30",
   "outputs": [
    {
     "name": "stdout",
     "output_type": "stream",
     "text": [
      "[[8 4]\n",
      " [4 7]] \n",
      "\n",
      "[80 65]\n"
     ]
    }
   ],
   "execution_count": 45
  },
  {
   "metadata": {
    "ExecuteTime": {
     "end_time": "2025-06-10T10:28:58.180365Z",
     "start_time": "2025-06-10T10:28:58.176777Z"
    }
   },
   "cell_type": "code",
   "source": [
    "# sqr = lambda n: n ** 2\n",
    "# cube = lambda n: n**3\n",
    "\n",
    "n = 1\n",
    "(sqr if n%2 == 0 else cube)(3)"
   ],
   "id": "470182694ded1bd3",
   "outputs": [
    {
     "data": {
      "text/plain": [
       "27"
      ]
     },
     "execution_count": 53,
     "metadata": {},
     "output_type": "execute_result"
    }
   ],
   "execution_count": 53
  },
  {
   "metadata": {},
   "cell_type": "markdown",
   "source": "                                        '''Lab Task Part'''",
   "id": "6b6150326580accc"
  },
  {
   "metadata": {
    "ExecuteTime": {
     "end_time": "2025-06-10T13:35:29.703688Z",
     "start_time": "2025-06-10T13:35:29.700042Z"
    }
   },
   "cell_type": "code",
   "source": [
    "# Ex 1\n",
    "def sqr(n1, n2, n3):\n",
    "    print(n1)\n",
    "    return n1*n2*n3\n",
    "\n",
    "sqr(3,4, n3 = 3)\n",
    "\n",
    "def apply_operations(opers):\n",
    "    operRes = []\n",
    "    for oper in opers:\n",
    "        operRes.append(oper['func'](*oper['args'], **oper['kwargs']))\n",
    "        print(operRes)\n",
    "    \n",
    "  \n",
    "\n",
    "# cube = lambda n: n**3\n",
    "# fourth = lambda n: n**4\n",
    "\n",
    "operations = [\n",
    "    {'func': sqr, 'args': (1, 2), 'kwargs': {'n3': 33}},\n",
    "]\n",
    "\n",
    "apply_operations(operations)\n"
   ],
   "id": "4be6f2e71a7229d2",
   "outputs": [
    {
     "name": "stdout",
     "output_type": "stream",
     "text": [
      "3\n",
      "1\n",
      "[66]\n"
     ]
    }
   ],
   "execution_count": 81
  },
  {
   "metadata": {},
   "cell_type": "markdown",
   "source": "",
   "id": "716eb650f1e92dd5"
  },
  {
   "metadata": {},
   "cell_type": "markdown",
   "source": "",
   "id": "319045732bbba556"
  },
  {
   "metadata": {
    "ExecuteTime": {
     "end_time": "2025-06-10T13:49:18.539581Z",
     "start_time": "2025-06-10T13:49:18.535129Z"
    }
   },
   "cell_type": "code",
   "source": [
    "def compose(*funcs):\n",
    "    def newFunc(n):\n",
    "        for func in reversed(funcs):\n",
    "            print(func(n))\n",
    "            \n",
    "    return newFunc\n",
    "        \n",
    "sqr = lambda n: n**2\n",
    "cube = lambda n: n**3\n",
    "four = lambda n : n**4\n",
    "\n",
    "newFunc = compose(sqr, cube, four)\n",
    "newFunc(3)"
   ],
   "id": "412ca9a72c521125",
   "outputs": [
    {
     "name": "stdout",
     "output_type": "stream",
     "text": [
      "81\n",
      "27\n",
      "9\n"
     ]
    }
   ],
   "execution_count": 104
  },
  {
   "metadata": {},
   "cell_type": "markdown",
   "source": "",
   "id": "96d008cc9826e89d"
  },
  {
   "metadata": {
    "ExecuteTime": {
     "end_time": "2025-06-10T14:01:57.811668Z",
     "start_time": "2025-06-10T14:01:57.808276Z"
    }
   },
   "cell_type": "code",
   "source": [
    "# def repeat_function(func, n:int):\n",
    "#     def repeat(*args):\n",
    "#         for i in range(n):\n",
    "#             func(*args)\n",
    "#     return repeat\n",
    "# \n",
    "# def sum(*args):\n",
    "#     sum = 0\n",
    "#     for arg in args:\n",
    "#         sum += arg\n",
    "#     print(sum)   \n",
    "# \n",
    "# newFunc = repeat_function(sum, 3)\n",
    "# newFunc(8, 6, 7)"
   ],
   "id": "1b030630841d0fc3",
   "outputs": [
    {
     "name": "stdout",
     "output_type": "stream",
     "text": [
      "21\n",
      "21\n",
      "21\n"
     ]
    }
   ],
   "execution_count": 124
  },
  {
   "metadata": {},
   "cell_type": "markdown",
   "source": "",
   "id": "d12315e6a35c16cc"
  },
  {
   "metadata": {
    "ExecuteTime": {
     "end_time": "2025-06-10T14:08:48.265029Z",
     "start_time": "2025-06-10T14:08:48.261643Z"
    }
   },
   "cell_type": "code",
   "source": [
    "# def f(n):\n",
    "#     print(\"Hello World\")\n",
    "#     return n\n",
    "# \n",
    "# @f\n",
    "# def sum(a,b):\n",
    "#     print(a,b)\n",
    "#     return a+b\n",
    "# \n",
    "# sum(4,7)"
   ],
   "id": "fc6ae0e2f29123f4",
   "outputs": [
    {
     "name": "stdout",
     "output_type": "stream",
     "text": [
      "Hello World\n",
      "4 7\n"
     ]
    },
    {
     "data": {
      "text/plain": [
       "11"
      ]
     },
     "execution_count": 126,
     "metadata": {},
     "output_type": "execute_result"
    }
   ],
   "execution_count": 126
  },
  {
   "metadata": {
    "ExecuteTime": {
     "end_time": "2025-06-10T14:31:46.182472Z",
     "start_time": "2025-06-10T14:31:45.695752Z"
    }
   },
   "cell_type": "code",
   "source": [
    "even_sqr = lambda lst: [i**2  for i in lst if i%2==0]\n",
    "\n",
    "sum_even = lambda lst: sum(lst)\n",
    "\n",
    "list = np.random.randint(1,10,size = 5)\n",
    "\n",
    "list = even_sqr(list)\n",
    "print(list)\n",
    "print(sum_even(list))"
   ],
   "id": "78d8c75a1f3621a3",
   "outputs": [
    {
     "name": "stdout",
     "output_type": "stream",
     "text": [
      "[16]\n"
     ]
    },
    {
     "ename": "RecursionError",
     "evalue": "maximum recursion depth exceeded",
     "output_type": "error",
     "traceback": [
      "\u001B[0;31m---------------------------------------------------------------------------\u001B[0m",
      "\u001B[0;31mRecursionError\u001B[0m                            Traceback (most recent call last)",
      "Cell \u001B[0;32mIn[155], line 9\u001B[0m\n\u001B[1;32m      7\u001B[0m \u001B[38;5;28mlist\u001B[39m \u001B[38;5;241m=\u001B[39m even_sqr(\u001B[38;5;28mlist\u001B[39m)\n\u001B[1;32m      8\u001B[0m \u001B[38;5;28mprint\u001B[39m(\u001B[38;5;28mlist\u001B[39m)\n\u001B[0;32m----> 9\u001B[0m \u001B[38;5;28mprint\u001B[39m(sum_even(\u001B[38;5;28mlist\u001B[39m))\n",
      "Cell \u001B[0;32mIn[155], line 3\u001B[0m, in \u001B[0;36m<lambda>\u001B[0;34m(lst)\u001B[0m\n\u001B[1;32m      1\u001B[0m even_sqr \u001B[38;5;241m=\u001B[39m \u001B[38;5;28;01mlambda\u001B[39;00m lst: [i\u001B[38;5;241m*\u001B[39m\u001B[38;5;241m*\u001B[39m\u001B[38;5;241m2\u001B[39m  \u001B[38;5;28;01mfor\u001B[39;00m i \u001B[38;5;129;01min\u001B[39;00m lst \u001B[38;5;28;01mif\u001B[39;00m i\u001B[38;5;241m%\u001B[39m\u001B[38;5;241m2\u001B[39m\u001B[38;5;241m==\u001B[39m\u001B[38;5;241m0\u001B[39m]\n\u001B[0;32m----> 3\u001B[0m sum_even \u001B[38;5;241m=\u001B[39m \u001B[38;5;28;01mlambda\u001B[39;00m lst: \u001B[38;5;28msum\u001B[39m(lst)\n\u001B[1;32m      5\u001B[0m \u001B[38;5;28mlist\u001B[39m \u001B[38;5;241m=\u001B[39m np\u001B[38;5;241m.\u001B[39mrandom\u001B[38;5;241m.\u001B[39mrandint(\u001B[38;5;241m1\u001B[39m,\u001B[38;5;241m10\u001B[39m,size \u001B[38;5;241m=\u001B[39m \u001B[38;5;241m5\u001B[39m)\n\u001B[1;32m      7\u001B[0m \u001B[38;5;28mlist\u001B[39m \u001B[38;5;241m=\u001B[39m even_sqr(\u001B[38;5;28mlist\u001B[39m)\n",
      "Cell \u001B[0;32mIn[134], line 5\u001B[0m, in \u001B[0;36m<lambda>\u001B[0;34m(list)\u001B[0m\n\u001B[1;32m      1\u001B[0m \u001B[38;5;66;03m# list = [i  for i in range(10) if i%]\u001B[39;00m\n\u001B[1;32m      3\u001B[0m even_sqr \u001B[38;5;241m=\u001B[39m \u001B[38;5;28;01mlambda\u001B[39;00m n: [i\u001B[38;5;241m*\u001B[39m\u001B[38;5;241m*\u001B[39m\u001B[38;5;241m2\u001B[39m  \u001B[38;5;28;01mfor\u001B[39;00m i \u001B[38;5;129;01min\u001B[39;00m \u001B[38;5;28mrange\u001B[39m(n) \u001B[38;5;28;01mif\u001B[39;00m i\u001B[38;5;241m%\u001B[39m\u001B[38;5;241m2\u001B[39m\u001B[38;5;241m==\u001B[39m\u001B[38;5;241m0\u001B[39m]\n\u001B[0;32m----> 5\u001B[0m \u001B[38;5;28msum\u001B[39m \u001B[38;5;241m=\u001B[39m \u001B[38;5;28;01mlambda\u001B[39;00m \u001B[38;5;28mlist\u001B[39m: \u001B[38;5;28msum\u001B[39m(\u001B[38;5;28mlist\u001B[39m)\n\u001B[1;32m      7\u001B[0m list_even \u001B[38;5;241m=\u001B[39m even_sqr(\u001B[38;5;241m8\u001B[39m)\n\u001B[1;32m      8\u001B[0m list_even\n",
      "Cell \u001B[0;32mIn[134], line 5\u001B[0m, in \u001B[0;36m<lambda>\u001B[0;34m(list)\u001B[0m\n\u001B[1;32m      1\u001B[0m \u001B[38;5;66;03m# list = [i  for i in range(10) if i%]\u001B[39;00m\n\u001B[1;32m      3\u001B[0m even_sqr \u001B[38;5;241m=\u001B[39m \u001B[38;5;28;01mlambda\u001B[39;00m n: [i\u001B[38;5;241m*\u001B[39m\u001B[38;5;241m*\u001B[39m\u001B[38;5;241m2\u001B[39m  \u001B[38;5;28;01mfor\u001B[39;00m i \u001B[38;5;129;01min\u001B[39;00m \u001B[38;5;28mrange\u001B[39m(n) \u001B[38;5;28;01mif\u001B[39;00m i\u001B[38;5;241m%\u001B[39m\u001B[38;5;241m2\u001B[39m\u001B[38;5;241m==\u001B[39m\u001B[38;5;241m0\u001B[39m]\n\u001B[0;32m----> 5\u001B[0m \u001B[38;5;28msum\u001B[39m \u001B[38;5;241m=\u001B[39m \u001B[38;5;28;01mlambda\u001B[39;00m \u001B[38;5;28mlist\u001B[39m: \u001B[38;5;28msum\u001B[39m(\u001B[38;5;28mlist\u001B[39m)\n\u001B[1;32m      7\u001B[0m list_even \u001B[38;5;241m=\u001B[39m even_sqr(\u001B[38;5;241m8\u001B[39m)\n\u001B[1;32m      8\u001B[0m list_even\n",
      "    \u001B[0;31m[... skipping similar frames: <lambda> at line 5 (2974 times)]\u001B[0m\n",
      "Cell \u001B[0;32mIn[134], line 5\u001B[0m, in \u001B[0;36m<lambda>\u001B[0;34m(list)\u001B[0m\n\u001B[1;32m      1\u001B[0m \u001B[38;5;66;03m# list = [i  for i in range(10) if i%]\u001B[39;00m\n\u001B[1;32m      3\u001B[0m even_sqr \u001B[38;5;241m=\u001B[39m \u001B[38;5;28;01mlambda\u001B[39;00m n: [i\u001B[38;5;241m*\u001B[39m\u001B[38;5;241m*\u001B[39m\u001B[38;5;241m2\u001B[39m  \u001B[38;5;28;01mfor\u001B[39;00m i \u001B[38;5;129;01min\u001B[39;00m \u001B[38;5;28mrange\u001B[39m(n) \u001B[38;5;28;01mif\u001B[39;00m i\u001B[38;5;241m%\u001B[39m\u001B[38;5;241m2\u001B[39m\u001B[38;5;241m==\u001B[39m\u001B[38;5;241m0\u001B[39m]\n\u001B[0;32m----> 5\u001B[0m \u001B[38;5;28msum\u001B[39m \u001B[38;5;241m=\u001B[39m \u001B[38;5;28;01mlambda\u001B[39;00m \u001B[38;5;28mlist\u001B[39m: \u001B[38;5;28msum\u001B[39m(\u001B[38;5;28mlist\u001B[39m)\n\u001B[1;32m      7\u001B[0m list_even \u001B[38;5;241m=\u001B[39m even_sqr(\u001B[38;5;241m8\u001B[39m)\n\u001B[1;32m      8\u001B[0m list_even\n",
      "\u001B[0;31mRecursionError\u001B[0m: maximum recursion depth exceeded"
     ]
    }
   ],
   "execution_count": 155
  },
  {
   "metadata": {
    "ExecuteTime": {
     "end_time": "2025-06-17T09:24:18.598894Z",
     "start_time": "2025-06-17T09:24:18.595455Z"
    }
   },
   "cell_type": "code",
   "source": [
    "import time\n",
    "\n",
    "def time_counter(func):\n",
    "    countFunc = 0\n",
    "    \n",
    "    def wrapper(*args, **kwargs):\n",
    "        nonlocal countFunc\n",
    "        countFunc += 1\n",
    "        print(f\"Count of calls: {countFunc} times\")\n",
    "        \n",
    "        start = time.time()\n",
    "        result = func(*args, **kwargs)\n",
    "        end = time.time()\n",
    "        \n",
    "        totalTime = end - start     \n",
    "        print(f\"Time: {totalTime:.2f} seconds\")\n",
    "        \n",
    "        return result\n",
    "    \n",
    "    return wrapper\n",
    "\n",
    "@time_counter\n",
    "def fibonacci(n):\n",
    "    if n <= 1:\n",
    "        return n\n",
    "    else:\n",
    "        return fibonacci(n-1) + fibonacci(n-2)\n",
    "\n",
    "print(fibonacci(5))"
   ],
   "id": "9051d21d5e220d37",
   "outputs": [
    {
     "name": "stdout",
     "output_type": "stream",
     "text": [
      "Count of calls: 1 times\n",
      "Count of calls: 2 times\n",
      "Count of calls: 3 times\n",
      "Count of calls: 4 times\n",
      "Count of calls: 5 times\n",
      "Time: 0.00 seconds\n",
      "Count of calls: 6 times\n",
      "Time: 0.00 seconds\n",
      "Time: 0.00 seconds\n",
      "Count of calls: 7 times\n",
      "Time: 0.00 seconds\n",
      "Time: 0.00 seconds\n",
      "Count of calls: 8 times\n",
      "Count of calls: 9 times\n",
      "Time: 0.00 seconds\n",
      "Count of calls: 10 times\n",
      "Time: 0.00 seconds\n",
      "Time: 0.00 seconds\n",
      "Time: 0.00 seconds\n",
      "Count of calls: 11 times\n",
      "Count of calls: 12 times\n",
      "Count of calls: 13 times\n",
      "Time: 0.00 seconds\n",
      "Count of calls: 14 times\n",
      "Time: 0.00 seconds\n",
      "Time: 0.00 seconds\n",
      "Count of calls: 15 times\n",
      "Time: 0.00 seconds\n",
      "Time: 0.00 seconds\n",
      "Time: 0.00 seconds\n",
      "5\n"
     ]
    }
   ],
   "execution_count": 17
  },
  {
   "metadata": {
    "ExecuteTime": {
     "end_time": "2025-06-17T09:33:07.231256Z",
     "start_time": "2025-06-17T09:33:07.227944Z"
    }
   },
   "cell_type": "code",
   "source": [
    "import time\n",
    "\n",
    "def memoize(func):\n",
    "    cache = {}\n",
    "\n",
    "    def wrapper(*args):\n",
    "        if args in cache:\n",
    "            print(f\"From cache {args}\")\n",
    "            return cache[args]\n",
    "        else:\n",
    "            start = time.time()\n",
    "            result = func(*args)\n",
    "            end = time.time()\n",
    "            cache[args] = result\n",
    "            print(f\"Time: {end - start:.10f} sec. for {args}\")\n",
    "            return result\n",
    "\n",
    "    return wrapper\n",
    "\n",
    "\n",
    "@memoize\n",
    "def fibonacci(n):\n",
    "    if n <= 1:\n",
    "        return n\n",
    "    return fibonacci(n-1) + fibonacci(n-2)\n",
    "\n",
    "\n",
    "print(fibonacci(10),'\\n')\n",
    "print(fibonacci(10))"
   ],
   "id": "8a3168ec8ffdf0c5",
   "outputs": [
    {
     "name": "stdout",
     "output_type": "stream",
     "text": [
      "Time: 0.0000011921 sec. for (1,)\n",
      "Time: 0.0000000000 sec. for (0,)\n",
      "Time: 0.0000262260 sec. for (2,)\n",
      "From cache (1,)\n",
      "Time: 0.0000312328 sec. for (3,)\n",
      "From cache (2,)\n",
      "Time: 0.0000350475 sec. for (4,)\n",
      "From cache (3,)\n",
      "Time: 0.0000393391 sec. for (5,)\n",
      "From cache (4,)\n",
      "Time: 0.0000438690 sec. for (6,)\n",
      "From cache (5,)\n",
      "Time: 0.0000469685 sec. for (7,)\n",
      "From cache (6,)\n",
      "Time: 0.0000510216 sec. for (8,)\n",
      "From cache (7,)\n",
      "Time: 0.0000557899 sec. for (9,)\n",
      "From cache (8,)\n",
      "Time: 0.0000598431 sec. for (10,)\n",
      "55 \n",
      "\n",
      "From cache (10,)\n",
      "55\n"
     ]
    }
   ],
   "execution_count": 22
  },
  {
   "metadata": {
    "ExecuteTime": {
     "end_time": "2025-06-17T12:47:06.087308Z",
     "start_time": "2025-06-17T12:47:06.081737Z"
    }
   },
   "cell_type": "code",
   "source": [
    "import time\n",
    "import contextlib\n",
    "import inspect\n",
    "\n",
    "def decorator_2(func):\n",
    "    count_call = 0\n",
    "    time_execute = 0\n",
    "    \n",
    "    @contextlib.contextmanager\n",
    "    def timer():\n",
    "        start = time.time()\n",
    "        try:\n",
    "            yield\n",
    "        finally:\n",
    "             print(f\"{time_execute:.10f} sec\")\n",
    "    \n",
    "    def wrapper(*args, **kwargs):\n",
    "        nonlocal count_call, time_execute\n",
    "        count_call+=1\n",
    "        start = time.time()\n",
    "        func(*args, **kwargs)\n",
    "        end = time.time()\n",
    "        time_execute += end - start\n",
    "        print(f'{func.__name__} call {count_call} executed in {time_execute:.10f} sec')\n",
    "        \n",
    "    print(f'Name:\\t{func.__name__}')\n",
    "    print(f'Type:\\t{type(func)}')\n",
    "    print(f'Sign:\\t{func.__code__.co_varnames}')\n",
    "    \n",
    "    \n",
    "    \n",
    "    print('Doc:', end = ' ')\n",
    "    for line in func.__doc__.split('\\n')[1:]:\n",
    "        print(f'\\t{line}')\n",
    "        \n",
    "    code, line_no = inspect.getsourcelines(func)\n",
    "    function_string = ''.join(code)\n",
    "    \n",
    "    print(f'Source: {function_string.split('\\n')[0]} \\n \\t\\t{function_string.split('\\n')[1]}')\n",
    "    for line in function_string.split('\\n')[2:]:\n",
    "        print(f' \\t{line}')\n",
    "        \n",
    "    print(\"Output:\")\n",
    "    return wrapper\n",
    "\n",
    "@decorator_2\n",
    "def funh(bar1, bar2 = ''):\n",
    "    \"\"\"\"\n",
    "    This function does something useful\n",
    "    :param bar1: description\n",
    "    :param bar2: description\n",
    "    \"\"\"\n",
    "    print(\"some\\nmultiline\\noutput\")\n",
    "\n",
    "funh(1, \"hello\")"
   ],
   "id": "2a8ffd12938db896",
   "outputs": [
    {
     "name": "stdout",
     "output_type": "stream",
     "text": [
      "Name:\tfunh\n",
      "Type:\t<class 'function'>\n",
      "Sign:\t('bar1', 'bar2')\n",
      "Doc: \t    This function does something useful\n",
      "\t    :param bar1: description\n",
      "\t    :param bar2: description\n",
      "\t    \n",
      "Source: @decorator_2 \n",
      " \t\tdef funh(bar1, bar2 = ''):\n",
      " \t    \"\"\"\"\n",
      " \t    This function does something useful\n",
      " \t    :param bar1: description\n",
      " \t    :param bar2: description\n",
      " \t    \"\"\"\n",
      " \t    print(\"some\\nmultiline\\noutput\")\n",
      " \t\n",
      "Output:\n",
      "some\n",
      "multiline\n",
      "output\n",
      "funh call 1 executed in 0.0000038147 sec\n"
     ]
    }
   ],
   "execution_count": 88
  }
 ],
 "metadata": {
  "kernelspec": {
   "display_name": "Python 3",
   "language": "python",
   "name": "python3"
  },
  "language_info": {
   "codemirror_mode": {
    "name": "ipython",
    "version": 2
   },
   "file_extension": ".py",
   "mimetype": "text/x-python",
   "name": "python",
   "nbconvert_exporter": "python",
   "pygments_lexer": "ipython2",
   "version": "2.7.6"
  }
 },
 "nbformat": 4,
 "nbformat_minor": 5
}
