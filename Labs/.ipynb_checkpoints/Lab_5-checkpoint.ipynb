{
 "cells": [
  {
   "metadata": {
    "ExecuteTime": {
     "end_time": "2025-07-01T11:54:10.348391Z",
     "start_time": "2025-07-01T11:54:10.344685Z"
    }
   },
   "cell_type": "code",
   "outputs": [
    {
     "name": "stdout",
     "output_type": "stream",
     "text": [
      "1\n"
     ]
    }
   ],
   "execution_count": 26,
   "source": [
    "def my():\n",
    "    global niger\n",
    "    niger=1\n",
    "    return niger\n",
    "\n",
    "my()\n",
    "print(niger)"
   ],
   "id": "e7f41a8c58c96deb"
  },
  {
   "metadata": {
    "collapsed": true,
    "ExecuteTime": {
     "end_time": "2025-07-01T10:30:58.823397Z",
     "start_time": "2025-07-01T10:30:58.819870Z"
    }
   },
   "cell_type": "code",
   "outputs": [
    {
     "data": {
      "text/plain": [
       "64"
      ]
     },
     "execution_count": 10,
     "metadata": {},
     "output_type": "execute_result"
    }
   ],
   "execution_count": 10,
   "source": [
    "import my_lib\n",
    "\n",
    "def callatt(m,a,v):\n",
    "    return eval(f'{m.__name__}.{a.__name__}({v})')\n",
    "\n",
    "r2 = callatt(my_lib, my_lib.cube, 4)\n",
    "r2"
   ],
   "id": "initial_id"
  }
 ],
 "metadata": {
  "kernelspec": {
   "display_name": "Python 3",
   "language": "python",
   "name": "python3"
  },
  "language_info": {
   "codemirror_mode": {
    "name": "ipython",
    "version": 2
   },
   "file_extension": ".py",
   "mimetype": "text/x-python",
   "name": "python",
   "nbconvert_exporter": "python",
   "pygments_lexer": "ipython2",
   "version": "2.7.6"
  }
 },
 "nbformat": 4,
 "nbformat_minor": 5
}
