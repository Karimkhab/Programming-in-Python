{
 "cells": [
  {
   "metadata": {},
   "cell_type": "markdown",
   "source": [
    "# This is a sample Jupyter Notebook\n",
    "\n",
    "Below is an example of a code cell. \n",
    "Put your cursor into the cell and press Shift+Enter to execute it and select the next one, or click 'Run Cell' button.\n",
    "\n",
    "Press Double Shift to search everywhere for classes, files, tool windows, actions, and settings.\n",
    "\n",
    "To learn more about Jupyter Notebooks in PyCharm, see [help](https://www.jetbrains.com/help/pycharm/ipython-notebook-support.html).\n",
    "For an overview of PyCharm, go to Help -> Learn IDE features or refer to [our documentation](https://www.jetbrains.com/help/pycharm/getting-started.html)."
   ],
   "id": "8a77807f92f26ee"
  },
  {
   "metadata": {
    "ExecuteTime": {
     "end_time": "2025-06-03T13:50:00.215584Z",
     "start_time": "2025-06-03T13:50:00.212932Z"
    }
   },
   "cell_type": "code",
   "source": [
    "def multiply_numbers(num1, num2):\n",
    "    '''Function return multiplication of two numbers'''\n",
    "    return num1 * num2\n",
    "if __name__ == \"__main__\":\n",
    "    one = 1\n",
    "    two = 256\n",
    "    funcRes = multiply_numbers(one, two)\n",
    "    simRes = one * two\n",
    "    if id(funcRes) == id(simRes):\n",
    "        print(\"Id is the same\")\n",
    "    else:\n",
    "        print(\"Id is not the same\")"
   ],
   "id": "fbc121e30a2defb3",
   "outputs": [
    {
     "name": "stdout",
     "output_type": "stream",
     "text": [
      "Id is the same\n"
     ]
    }
   ],
   "execution_count": 4
  },
  {
   "metadata": {},
   "cell_type": "code",
   "outputs": [],
   "execution_count": null,
   "source": "",
   "id": "9645e963cd380da"
  },
  {
   "metadata": {},
   "cell_type": "markdown",
   "source": "",
   "id": "e7ef54baf9b60dbb"
  },
  {
   "metadata": {
    "ExecuteTime": {
     "end_time": "2025-06-03T13:49:53.267244Z",
     "start_time": "2025-06-03T13:49:53.263482Z"
    }
   },
   "cell_type": "code",
   "source": [
    "def area_calculator(shape):\n",
    "    def area_calculator_rectangle(wide, height):\n",
    "        return wide * height\n",
    "\n",
    "    def area_calculator_circle(radius):\n",
    "        return 3.14* radius**2\n",
    "\n",
    "    def area_calculator_triangle(base, height):\n",
    "        return (base * height)/2\n",
    "\n",
    "    def area_calculator_square(wide):\n",
    "        return wide ** 2\n",
    "\n",
    "    if shape == \"rectangle\":\n",
    "        return area_calculator_rectangle\n",
    "    elif shape == \"circle\":\n",
    "        return area_calculator_circle\n",
    "    elif shape == \"triangle\":\n",
    "        return area_calculator_triangle\n",
    "    elif shape == \"square\":\n",
    "        return area_calculator_square\n",
    "    else:\n",
    "        print(\"Incorrect shape\")\n",
    "        \n",
    "if __name__ == \"__main__\":\n",
    "    string = \"triangle\"\n",
    "    newFunc = area_calculator(string)\n",
    "    print(newFunc(1,5))"
   ],
   "id": "5c37c1f43d776e8e",
   "outputs": [
    {
     "name": "stdout",
     "output_type": "stream",
     "text": [
      "2.5\n"
     ]
    }
   ],
   "execution_count": 3
  },
  {
   "metadata": {
    "ExecuteTime": {
     "end_time": "2025-06-03T13:54:28.355438Z",
     "start_time": "2025-06-03T13:54:28.352158Z"
    }
   },
   "cell_type": "code",
   "source": [
    "def add_to_list(list):\n",
    "    list.append(10)\n",
    "    print(list)\n",
    "    return list\n",
    "\n",
    "if __name__ == \"__main__\":\n",
    "    my_list = [1,2,3,4,5]\n",
    "    add_to_list(my_list)\n",
    "    print(my_list)"
   ],
   "id": "de1e863b821b9444",
   "outputs": [
    {
     "name": "stdout",
     "output_type": "stream",
     "text": [
      "[1, 2, 3, 4, 5, 10]\n",
      "[1, 2, 3, 4, 5, 10]\n"
     ]
    }
   ],
   "execution_count": 8
  }
 ],
 "metadata": {
  "kernelspec": {
   "display_name": "Python 3",
   "language": "python",
   "name": "python3"
  },
  "language_info": {
   "codemirror_mode": {
    "name": "ipython",
    "version": 2
   },
   "file_extension": ".py",
   "mimetype": "text/x-python",
   "name": "python",
   "nbconvert_exporter": "python",
   "pygments_lexer": "ipython2",
   "version": "2.7.6"
  }
 },
 "nbformat": 4,
 "nbformat_minor": 5
}
