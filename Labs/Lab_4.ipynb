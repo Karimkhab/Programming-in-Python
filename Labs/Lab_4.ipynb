{
 "cells": [
  {
   "cell_type": "code",
   "id": "initial_id",
   "metadata": {
    "collapsed": true,
    "ExecuteTime": {
     "end_time": "2025-06-19T11:36:45.197729Z",
     "start_time": "2025-06-19T11:36:45.193283Z"
    }
   },
   "source": [
    "class Question:\n",
    "    def __init__(self, question, answer_list, correct_answer):\n",
    "        self.question = question\n",
    "        self.answer_list = answer_list\n",
    "        self.correct_answer = correct_answer\n",
    "\n",
    "    def print_question(self):\n",
    "        print(f'Question: {self.question}')\n",
    "        for i, answer in enumerate(self.answer_list):\n",
    "            print(f'\\t{i}: {answer}')\n",
    "\n",
    "\n",
    "class Quiz:\n",
    "    def __init__(self):\n",
    "        self.score = 0\n",
    "        self.questions = []\n",
    "        pass\n",
    "\n",
    "    def add_question(self, question, answer_list, correct_answer):\n",
    "        question = Question(question, answer_list, correct_answer)\n",
    "        self.questions.append(question)\n",
    "\n",
    "    def take_quiz(self):\n",
    "        for question in self.questions:\n",
    "            question.print_question()\n",
    "            answer = int(input('Enter your answer: '))\n",
    "            if answer == question.correct_answer:\n",
    "                self.score += 1\n",
    "\n",
    "    def grade_quiz(self):\n",
    "        print(f'Grade of quiz: {self.score / len(self.questions) * 100}%')"
   ],
   "outputs": [],
   "execution_count": 8
  },
  {
   "metadata": {
    "ExecuteTime": {
     "end_time": "2025-06-19T11:36:52.724885Z",
     "start_time": "2025-06-19T11:36:46.751187Z"
    }
   },
   "cell_type": "code",
   "source": [
    "quiz = Quiz()\n",
    "quiz.add_question(\"What is the best city in the world?\", [\"A. NYC\", \"B. Innopolis\", \"C. Berlin\",\n",
    "                                                          \"D. Madrid\"], 1)\n",
    "quiz.add_question(\"Which planet is known as the Red Planet?\", [\"A. Mars\", \"B. Venus\", \"C.Jupiter\", \"D. Saturn\"], 0)\n",
    "quiz.add_question(\"Who painted the Mona Lisa?\",\n",
    "                  [\"A. Leonardo da Vinci\", \"B. Innopolis art club\", \"C. Pablo Picasso\", \"D. Michelangelo\"], 0)\n",
    "quiz.take_quiz()\n",
    "quiz.grade_quiz()"
   ],
   "id": "268d8defeeb072e",
   "outputs": [
    {
     "name": "stdout",
     "output_type": "stream",
     "text": [
      "Question: What is the best city in the world?\n",
      "\t0: A. NYC\n",
      "\t1: B. Innopolis\n",
      "\t2: C. Berlin\n",
      "\t3: D. Madrid\n",
      "Question: Which planet is known as the Red Planet?\n",
      "\t0: A. Mars\n",
      "\t1: B. Venus\n",
      "\t2: C.Jupiter\n",
      "\t3: D. Saturn\n",
      "Question: Who painted the Mona Lisa?\n",
      "\t0: A. Leonardo da Vinci\n",
      "\t1: B. Innopolis art club\n",
      "\t2: C. Pablo Picasso\n",
      "\t3: D. Michelangelo\n",
      "Grade of quiz: 100.0%\n"
     ]
    }
   ],
   "execution_count": 9
  },
  {
   "metadata": {
    "ExecuteTime": {
     "end_time": "2025-06-19T12:18:49.931087Z",
     "start_time": "2025-06-19T12:18:49.927938Z"
    }
   },
   "cell_type": "code",
   "source": [
    "class add_prefix:\n",
    "    def __init__(self, prefix: str):\n",
    "        self.prefix = prefix\n",
    "        \n",
    "    def __call__(self, object):\n",
    "        for attr_name in dir(object):\n",
    "            attr = getattr(object, attr_name)\n",
    "            if callable(attr):\n",
    "                setattr(object, self.prefix + attr_name, attr)\n",
    "        return object\n",
    "    \n",
    "@add_prefix(\"pre_\")\n",
    "class MyClass:\n",
    "    def hello(self):\n",
    "        print(\"Hello, world!\")\n",
    "    def greet(self, name):\n",
    "        print(f\"Hello, {name}\")"
   ],
   "id": "8dcbc8092999d409",
   "outputs": [],
   "execution_count": 27
  },
  {
   "metadata": {
    "ExecuteTime": {
     "end_time": "2025-06-19T12:18:55.155474Z",
     "start_time": "2025-06-19T12:18:55.152465Z"
    }
   },
   "cell_type": "code",
   "source": [
    "obj = MyClass()\n",
    "obj.pre_hello()\n",
    "obj.pre_greet(\"Alice\")"
   ],
   "id": "5d72729613879736",
   "outputs": [
    {
     "name": "stdout",
     "output_type": "stream",
     "text": [
      "Hello, world!\n",
      "Hello, Alice\n"
     ]
    }
   ],
   "execution_count": 28
  },
  {
   "metadata": {
    "ExecuteTime": {
     "end_time": "2025-06-19T12:43:58.927712Z",
     "start_time": "2025-06-19T12:43:58.911069Z"
    }
   },
   "cell_type": "code",
   "source": [
    "class ValidateInputs:\n",
    "    def __call__(self, function):\n",
    "        def decorator(*args):\n",
    "            for arg in args:\n",
    "                if not int(arg):\n",
    "                    print(f\"{arg} is not an Integer and not Positive\")\n",
    "                    return False\n",
    "        return decorator\n",
    "    \n",
    "@ValidateInputs\n",
    "def multiplication(*args):\n",
    "    res = args[0]\n",
    "    for arg in args[1:]:\n",
    "        res*=arg\n",
    "    return res"
   ],
   "id": "167df68d1323ea21",
   "outputs": [
    {
     "ename": "TypeError",
     "evalue": "ValidateInputs() takes no arguments",
     "output_type": "error",
     "traceback": [
      "\u001B[0;31m---------------------------------------------------------------------------\u001B[0m",
      "\u001B[0;31mTypeError\u001B[0m                                 Traceback (most recent call last)",
      "Cell \u001B[0;32mIn[29], line 10\u001B[0m\n\u001B[1;32m      7\u001B[0m                     \u001B[38;5;28;01mreturn\u001B[39;00m \u001B[38;5;28;01mFalse\u001B[39;00m\n\u001B[1;32m      8\u001B[0m         \u001B[38;5;28;01mreturn\u001B[39;00m decorator\n\u001B[0;32m---> 10\u001B[0m \u001B[38;5;129m@ValidateInputs\u001B[39m\n\u001B[1;32m     11\u001B[0m \u001B[38;5;28;01mdef\u001B[39;00m \u001B[38;5;21mmultiplication\u001B[39m(\u001B[38;5;241m*\u001B[39margs):\n\u001B[1;32m     12\u001B[0m     res \u001B[38;5;241m=\u001B[39m args[\u001B[38;5;241m0\u001B[39m]\n\u001B[1;32m     13\u001B[0m     \u001B[38;5;28;01mfor\u001B[39;00m arg \u001B[38;5;129;01min\u001B[39;00m args[\u001B[38;5;241m1\u001B[39m:]:\n",
      "\u001B[0;31mTypeError\u001B[0m: ValidateInputs() takes no arguments"
     ]
    }
   ],
   "execution_count": 29
  },
  {
   "metadata": {},
   "cell_type": "code",
   "outputs": [],
   "execution_count": null,
   "source": "",
   "id": "dac1d656bfa83c7f"
  }
 ],
 "metadata": {
  "kernelspec": {
   "display_name": "Python 3",
   "language": "python",
   "name": "python3"
  },
  "language_info": {
   "codemirror_mode": {
    "name": "ipython",
    "version": 2
   },
   "file_extension": ".py",
   "mimetype": "text/x-python",
   "name": "python",
   "nbconvert_exporter": "python",
   "pygments_lexer": "ipython2",
   "version": "2.7.6"
  }
 },
 "nbformat": 4,
 "nbformat_minor": 5
}
