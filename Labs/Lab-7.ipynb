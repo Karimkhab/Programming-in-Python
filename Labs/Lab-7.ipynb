{
 "cells": [
  {
   "cell_type": "code",
   "id": "initial_id",
   "metadata": {
    "collapsed": true,
    "ExecuteTime": {
     "end_time": "2025-07-10T10:42:01.820557Z",
     "start_time": "2025-07-10T10:42:01.635689Z"
    }
   },
   "source": [
    "from bs4 import BeautifulSoup\n",
    "import requests"
   ],
   "outputs": [],
   "execution_count": 1
  },
  {
   "metadata": {
    "ExecuteTime": {
     "end_time": "2025-07-10T10:54:11.495280Z",
     "start_time": "2025-07-10T10:54:11.492513Z"
    }
   },
   "cell_type": "code",
   "source": [
    "def book_scraper(url):\n",
    "    response = requests.get(url)\n",
    "    response.raise_for_status()\n",
    "    \n",
    "    soup = BeautifulSoup(response.text, 'html.parser')\n",
    "    books = soup.find_all('article', class_='product_pod')\n",
    "    \n",
    "    results = []\n",
    "    for book in books:\n",
    "        title = book.h3.a['title']\n",
    "        results.append(title)\n",
    "        \n",
    "    return results"
   ],
   "id": "ddb92c48ffe9dc47",
   "outputs": [],
   "execution_count": 9
  },
  {
   "metadata": {
    "ExecuteTime": {
     "end_time": "2025-07-10T10:54:13.911676Z",
     "start_time": "2025-07-10T10:54:13.283740Z"
    }
   },
   "cell_type": "code",
   "source": "print(book_scraper('https://books.toscrape.com/'))",
   "id": "b9f605fc3dc8dd76",
   "outputs": [
    {
     "name": "stdout",
     "output_type": "stream",
     "text": [
      "['A Light in the Attic', 'Tipping the Velvet', 'Soumission', 'Sharp Objects', 'Sapiens: A Brief History of Humankind', 'The Requiem Red', 'The Dirty Little Secrets of Getting Your Dream Job', 'The Coming Woman: A Novel Based on the Life of the Infamous Feminist, Victoria Woodhull', 'The Boys in the Boat: Nine Americans and Their Epic Quest for Gold at the 1936 Berlin Olympics', 'The Black Maria', 'Starving Hearts (Triangular Trade Trilogy, #1)', \"Shakespeare's Sonnets\", 'Set Me Free', \"Scott Pilgrim's Precious Little Life (Scott Pilgrim #1)\", 'Rip it Up and Start Again', 'Our Band Could Be Your Life: Scenes from the American Indie Underground, 1981-1991', 'Olio', 'Mesaerion: The Best Science Fiction Stories 1800-1849', 'Libertarianism for Beginners', \"It's Only the Himalayas\"]\n"
     ]
    }
   ],
   "execution_count": 10
  },
  {
   "metadata": {},
   "cell_type": "markdown",
   "source": "",
   "id": "f7a0b185335008a2"
  },
  {
   "metadata": {},
   "cell_type": "markdown",
   "source": "Exercise 1",
   "id": "b7fa7ac6d2cba7cf"
  },
  {
   "metadata": {
    "ExecuteTime": {
     "end_time": "2025-07-10T11:39:13.187236Z",
     "start_time": "2025-07-10T11:39:13.182810Z"
    }
   },
   "cell_type": "code",
   "source": [
    "import requests\n",
    "from bs4 import BeautifulSoup"
   ],
   "id": "225952319a3d887c",
   "outputs": [],
   "execution_count": 12
  },
  {
   "metadata": {
    "ExecuteTime": {
     "end_time": "2025-07-10T12:03:08.344368Z",
     "start_time": "2025-07-10T12:03:08.341091Z"
    }
   },
   "cell_type": "code",
   "source": [
    "def scraper(url):\n",
    "    response = requests.get(url)\n",
    "    response.raise_for_status()\n",
    "    \n",
    "    soup = BeautifulSoup(response.text, 'html.parser')\n",
    "    books = soup.find_all('article', class_='product_pod')\n",
    "    \n",
    "    results = []\n",
    "    for book in books:\n",
    "        title = book.h3.a['title']\n",
    "        price = book.find('p', class_='price_color').text[1:]\n",
    "        \n",
    "        results.append({'Title' : title, 'Price' : price})\n",
    "    return results"
   ],
   "id": "c836a47e7d19830f",
   "outputs": [],
   "execution_count": 40
  },
  {
   "metadata": {
    "ExecuteTime": {
     "end_time": "2025-07-10T12:03:10.406345Z",
     "start_time": "2025-07-10T12:03:09.361130Z"
    }
   },
   "cell_type": "code",
   "source": "print(scraper('https://books.toscrape.com/'))",
   "id": "b12cbd297c1e6ef1",
   "outputs": [
    {
     "name": "stdout",
     "output_type": "stream",
     "text": [
      "[{'Title': 'A Light in the Attic', 'Price': '£51.77'}, {'Title': 'Tipping the Velvet', 'Price': '£53.74'}, {'Title': 'Soumission', 'Price': '£50.10'}, {'Title': 'Sharp Objects', 'Price': '£47.82'}, {'Title': 'Sapiens: A Brief History of Humankind', 'Price': '£54.23'}, {'Title': 'The Requiem Red', 'Price': '£22.65'}, {'Title': 'The Dirty Little Secrets of Getting Your Dream Job', 'Price': '£33.34'}, {'Title': 'The Coming Woman: A Novel Based on the Life of the Infamous Feminist, Victoria Woodhull', 'Price': '£17.93'}, {'Title': 'The Boys in the Boat: Nine Americans and Their Epic Quest for Gold at the 1936 Berlin Olympics', 'Price': '£22.60'}, {'Title': 'The Black Maria', 'Price': '£52.15'}, {'Title': 'Starving Hearts (Triangular Trade Trilogy, #1)', 'Price': '£13.99'}, {'Title': \"Shakespeare's Sonnets\", 'Price': '£20.66'}, {'Title': 'Set Me Free', 'Price': '£17.46'}, {'Title': \"Scott Pilgrim's Precious Little Life (Scott Pilgrim #1)\", 'Price': '£52.29'}, {'Title': 'Rip it Up and Start Again', 'Price': '£35.02'}, {'Title': 'Our Band Could Be Your Life: Scenes from the American Indie Underground, 1981-1991', 'Price': '£57.25'}, {'Title': 'Olio', 'Price': '£23.88'}, {'Title': 'Mesaerion: The Best Science Fiction Stories 1800-1849', 'Price': '£37.59'}, {'Title': 'Libertarianism for Beginners', 'Price': '£51.33'}, {'Title': \"It's Only the Himalayas\", 'Price': '£45.17'}]\n"
     ]
    }
   ],
   "execution_count": 41
  },
  {
   "metadata": {},
   "cell_type": "markdown",
   "source": "",
   "id": "7eac3cde23892dd1"
  },
  {
   "metadata": {},
   "cell_type": "markdown",
   "source": "Exercise 2",
   "id": "49a7f475d46f9ca3"
  },
  {
   "metadata": {
    "ExecuteTime": {
     "end_time": "2025-07-10T12:12:13.856987Z",
     "start_time": "2025-07-10T12:12:13.855002Z"
    }
   },
   "cell_type": "code",
   "source": "from urllib.parse import urljoin",
   "id": "4f4938e56c194985",
   "outputs": [],
   "execution_count": 49
  },
  {
   "metadata": {
    "ExecuteTime": {
     "end_time": "2025-07-10T12:12:14.958251Z",
     "start_time": "2025-07-10T12:12:14.955508Z"
    }
   },
   "cell_type": "code",
   "source": [
    "def webscraper(url):\n",
    "    \n",
    "    response = requests.get(url)\n",
    "    response.raise_for_status()\n",
    "    \n",
    "    soup = BeautifulSoup(response.text, 'html.parser')\n",
    "    links = soup.find_all('a', href=True)\n",
    "    \n",
    "    for link in links:\n",
    "        print(urljoin(url, link['href']))"
   ],
   "id": "258eab7dd8c21fbf",
   "outputs": [],
   "execution_count": 50
  },
  {
   "metadata": {
    "ExecuteTime": {
     "end_time": "2025-07-10T12:12:31.423723Z",
     "start_time": "2025-07-10T12:12:30.792601Z"
    }
   },
   "cell_type": "code",
   "source": "webscraper('https://books.toscrape.com/')\n",
   "id": "60a6e2e8995b19a4",
   "outputs": [
    {
     "name": "stdout",
     "output_type": "stream",
     "text": [
      "https://books.toscrape.com/index.html\n",
      "https://books.toscrape.com/index.html\n",
      "https://books.toscrape.com/catalogue/category/books_1/index.html\n",
      "https://books.toscrape.com/catalogue/category/books/travel_2/index.html\n",
      "https://books.toscrape.com/catalogue/category/books/mystery_3/index.html\n",
      "https://books.toscrape.com/catalogue/category/books/historical-fiction_4/index.html\n",
      "https://books.toscrape.com/catalogue/category/books/sequential-art_5/index.html\n",
      "https://books.toscrape.com/catalogue/category/books/classics_6/index.html\n",
      "https://books.toscrape.com/catalogue/category/books/philosophy_7/index.html\n",
      "https://books.toscrape.com/catalogue/category/books/romance_8/index.html\n",
      "https://books.toscrape.com/catalogue/category/books/womens-fiction_9/index.html\n",
      "https://books.toscrape.com/catalogue/category/books/fiction_10/index.html\n",
      "https://books.toscrape.com/catalogue/category/books/childrens_11/index.html\n",
      "https://books.toscrape.com/catalogue/category/books/religion_12/index.html\n",
      "https://books.toscrape.com/catalogue/category/books/nonfiction_13/index.html\n",
      "https://books.toscrape.com/catalogue/category/books/music_14/index.html\n",
      "https://books.toscrape.com/catalogue/category/books/default_15/index.html\n",
      "https://books.toscrape.com/catalogue/category/books/science-fiction_16/index.html\n",
      "https://books.toscrape.com/catalogue/category/books/sports-and-games_17/index.html\n",
      "https://books.toscrape.com/catalogue/category/books/add-a-comment_18/index.html\n",
      "https://books.toscrape.com/catalogue/category/books/fantasy_19/index.html\n",
      "https://books.toscrape.com/catalogue/category/books/new-adult_20/index.html\n",
      "https://books.toscrape.com/catalogue/category/books/young-adult_21/index.html\n",
      "https://books.toscrape.com/catalogue/category/books/science_22/index.html\n",
      "https://books.toscrape.com/catalogue/category/books/poetry_23/index.html\n",
      "https://books.toscrape.com/catalogue/category/books/paranormal_24/index.html\n",
      "https://books.toscrape.com/catalogue/category/books/art_25/index.html\n",
      "https://books.toscrape.com/catalogue/category/books/psychology_26/index.html\n",
      "https://books.toscrape.com/catalogue/category/books/autobiography_27/index.html\n",
      "https://books.toscrape.com/catalogue/category/books/parenting_28/index.html\n",
      "https://books.toscrape.com/catalogue/category/books/adult-fiction_29/index.html\n",
      "https://books.toscrape.com/catalogue/category/books/humor_30/index.html\n",
      "https://books.toscrape.com/catalogue/category/books/horror_31/index.html\n",
      "https://books.toscrape.com/catalogue/category/books/history_32/index.html\n",
      "https://books.toscrape.com/catalogue/category/books/food-and-drink_33/index.html\n",
      "https://books.toscrape.com/catalogue/category/books/christian-fiction_34/index.html\n",
      "https://books.toscrape.com/catalogue/category/books/business_35/index.html\n",
      "https://books.toscrape.com/catalogue/category/books/biography_36/index.html\n",
      "https://books.toscrape.com/catalogue/category/books/thriller_37/index.html\n",
      "https://books.toscrape.com/catalogue/category/books/contemporary_38/index.html\n",
      "https://books.toscrape.com/catalogue/category/books/spirituality_39/index.html\n",
      "https://books.toscrape.com/catalogue/category/books/academic_40/index.html\n",
      "https://books.toscrape.com/catalogue/category/books/self-help_41/index.html\n",
      "https://books.toscrape.com/catalogue/category/books/historical_42/index.html\n",
      "https://books.toscrape.com/catalogue/category/books/christian_43/index.html\n",
      "https://books.toscrape.com/catalogue/category/books/suspense_44/index.html\n",
      "https://books.toscrape.com/catalogue/category/books/short-stories_45/index.html\n",
      "https://books.toscrape.com/catalogue/category/books/novels_46/index.html\n",
      "https://books.toscrape.com/catalogue/category/books/health_47/index.html\n",
      "https://books.toscrape.com/catalogue/category/books/politics_48/index.html\n",
      "https://books.toscrape.com/catalogue/category/books/cultural_49/index.html\n",
      "https://books.toscrape.com/catalogue/category/books/erotica_50/index.html\n",
      "https://books.toscrape.com/catalogue/category/books/crime_51/index.html\n",
      "https://books.toscrape.com/catalogue/a-light-in-the-attic_1000/index.html\n",
      "https://books.toscrape.com/catalogue/a-light-in-the-attic_1000/index.html\n",
      "https://books.toscrape.com/catalogue/tipping-the-velvet_999/index.html\n",
      "https://books.toscrape.com/catalogue/tipping-the-velvet_999/index.html\n",
      "https://books.toscrape.com/catalogue/soumission_998/index.html\n",
      "https://books.toscrape.com/catalogue/soumission_998/index.html\n",
      "https://books.toscrape.com/catalogue/sharp-objects_997/index.html\n",
      "https://books.toscrape.com/catalogue/sharp-objects_997/index.html\n",
      "https://books.toscrape.com/catalogue/sapiens-a-brief-history-of-humankind_996/index.html\n",
      "https://books.toscrape.com/catalogue/sapiens-a-brief-history-of-humankind_996/index.html\n",
      "https://books.toscrape.com/catalogue/the-requiem-red_995/index.html\n",
      "https://books.toscrape.com/catalogue/the-requiem-red_995/index.html\n",
      "https://books.toscrape.com/catalogue/the-dirty-little-secrets-of-getting-your-dream-job_994/index.html\n",
      "https://books.toscrape.com/catalogue/the-dirty-little-secrets-of-getting-your-dream-job_994/index.html\n",
      "https://books.toscrape.com/catalogue/the-coming-woman-a-novel-based-on-the-life-of-the-infamous-feminist-victoria-woodhull_993/index.html\n",
      "https://books.toscrape.com/catalogue/the-coming-woman-a-novel-based-on-the-life-of-the-infamous-feminist-victoria-woodhull_993/index.html\n",
      "https://books.toscrape.com/catalogue/the-boys-in-the-boat-nine-americans-and-their-epic-quest-for-gold-at-the-1936-berlin-olympics_992/index.html\n",
      "https://books.toscrape.com/catalogue/the-boys-in-the-boat-nine-americans-and-their-epic-quest-for-gold-at-the-1936-berlin-olympics_992/index.html\n",
      "https://books.toscrape.com/catalogue/the-black-maria_991/index.html\n",
      "https://books.toscrape.com/catalogue/the-black-maria_991/index.html\n",
      "https://books.toscrape.com/catalogue/starving-hearts-triangular-trade-trilogy-1_990/index.html\n",
      "https://books.toscrape.com/catalogue/starving-hearts-triangular-trade-trilogy-1_990/index.html\n",
      "https://books.toscrape.com/catalogue/shakespeares-sonnets_989/index.html\n",
      "https://books.toscrape.com/catalogue/shakespeares-sonnets_989/index.html\n",
      "https://books.toscrape.com/catalogue/set-me-free_988/index.html\n",
      "https://books.toscrape.com/catalogue/set-me-free_988/index.html\n",
      "https://books.toscrape.com/catalogue/scott-pilgrims-precious-little-life-scott-pilgrim-1_987/index.html\n",
      "https://books.toscrape.com/catalogue/scott-pilgrims-precious-little-life-scott-pilgrim-1_987/index.html\n",
      "https://books.toscrape.com/catalogue/rip-it-up-and-start-again_986/index.html\n",
      "https://books.toscrape.com/catalogue/rip-it-up-and-start-again_986/index.html\n",
      "https://books.toscrape.com/catalogue/our-band-could-be-your-life-scenes-from-the-american-indie-underground-1981-1991_985/index.html\n",
      "https://books.toscrape.com/catalogue/our-band-could-be-your-life-scenes-from-the-american-indie-underground-1981-1991_985/index.html\n",
      "https://books.toscrape.com/catalogue/olio_984/index.html\n",
      "https://books.toscrape.com/catalogue/olio_984/index.html\n",
      "https://books.toscrape.com/catalogue/mesaerion-the-best-science-fiction-stories-1800-1849_983/index.html\n",
      "https://books.toscrape.com/catalogue/mesaerion-the-best-science-fiction-stories-1800-1849_983/index.html\n",
      "https://books.toscrape.com/catalogue/libertarianism-for-beginners_982/index.html\n",
      "https://books.toscrape.com/catalogue/libertarianism-for-beginners_982/index.html\n",
      "https://books.toscrape.com/catalogue/its-only-the-himalayas_981/index.html\n",
      "https://books.toscrape.com/catalogue/its-only-the-himalayas_981/index.html\n",
      "https://books.toscrape.com/catalogue/page-2.html\n"
     ]
    }
   ],
   "execution_count": 52
  },
  {
   "metadata": {},
   "cell_type": "markdown",
   "source": "",
   "id": "cb412f334018b21f"
  },
  {
   "metadata": {},
   "cell_type": "markdown",
   "source": "Exercise 3",
   "id": "47e005b28d4a6809"
  },
  {
   "metadata": {
    "ExecuteTime": {
     "end_time": "2025-07-10T12:45:22.227009Z",
     "start_time": "2025-07-10T12:45:22.223772Z"
    }
   },
   "cell_type": "code",
   "source": [
    "def population_for_each_country(url, year):\n",
    "    response = requests.get(url)\n",
    "    response.raise_for_status()\n",
    "    \n",
    "    soup = BeautifulSoup(response.text, 'html.parser')\n",
    "    populations = soup.find_all('td', class_ = 'px-2 border-e border-zinc-200 text-end py-1.5 border-b')\n",
    "    \n",
    "    results = []\n",
    "    for population in populations:\n",
    "        date = population.find('td', class_='px-2 border-e border-zinc-200 text-end py-1.5 border-b').text\n",
    "        print(date)\n",
    "        # if date == str(year):\n",
    "        #     population = population.find('td', class_='px-2 border-e border-zinc-200 text-end py-1.5 border-b').text\n",
    "        #     results.append(population)"
   ],
   "id": "bb18408531d3e633",
   "outputs": [],
   "execution_count": 117
  },
  {
   "metadata": {
    "ExecuteTime": {
     "end_time": "2025-07-10T12:45:35.667735Z",
     "start_time": "2025-07-10T12:45:35.665181Z"
    }
   },
   "cell_type": "code",
   "source": [
    "def world_population_scraper(url, year):\n",
    "    response = requests.get(url)\n",
    "    response.raise_for_status()\n",
    "    \n",
    "    soup = BeautifulSoup(response.text, 'html.parser')\n",
    "    countries = soup.find_all('a', href = True, class_ = 'transition-all duration-200 text-lime-600 hover:text-lime-500')\n",
    "    \n",
    "    results = []\n",
    "    for country in countries:\n",
    "        url_country = urljoin(url, country['href'])\n",
    "        population_for_each_country(url_country, year)\n",
    "        \n",
    "    #     results.append({'Name' : urljoin(url, country['href']), 'Population' : population})\n",
    "    # return results"
   ],
   "id": "da85197578ec7e3b",
   "outputs": [],
   "execution_count": 119
  },
  {
   "metadata": {
    "ExecuteTime": {
     "end_time": "2025-07-10T12:45:37.481900Z",
     "start_time": "2025-07-10T12:45:36.991723Z"
    }
   },
   "cell_type": "code",
   "source": "world_population_scraper('https://www.worldometers.info/world-population/population-by-country/', 2010)",
   "id": "fb0554c032cdbcf5",
   "outputs": [
    {
     "ename": "AttributeError",
     "evalue": "'NoneType' object has no attribute 'text'",
     "output_type": "error",
     "traceback": [
      "\u001B[0;31m---------------------------------------------------------------------------\u001B[0m",
      "\u001B[0;31mAttributeError\u001B[0m                            Traceback (most recent call last)",
      "Cell \u001B[0;32mIn[120], line 1\u001B[0m\n\u001B[0;32m----> 1\u001B[0m world_population_scraper(\u001B[38;5;124m'\u001B[39m\u001B[38;5;124mhttps://www.worldometers.info/world-population/population-by-country/\u001B[39m\u001B[38;5;124m'\u001B[39m, \u001B[38;5;241m2010\u001B[39m)\n",
      "Cell \u001B[0;32mIn[119], line 11\u001B[0m, in \u001B[0;36mworld_population_scraper\u001B[0;34m(url, year)\u001B[0m\n\u001B[1;32m      9\u001B[0m \u001B[38;5;28;01mfor\u001B[39;00m country \u001B[38;5;129;01min\u001B[39;00m countries:\n\u001B[1;32m     10\u001B[0m     url_country \u001B[38;5;241m=\u001B[39m urljoin(url, country[\u001B[38;5;124m'\u001B[39m\u001B[38;5;124mhref\u001B[39m\u001B[38;5;124m'\u001B[39m])\n\u001B[0;32m---> 11\u001B[0m     population_for_each_country(url_country, year)\n",
      "Cell \u001B[0;32mIn[117], line 10\u001B[0m, in \u001B[0;36mpopulation_for_each_country\u001B[0;34m(url, year)\u001B[0m\n\u001B[1;32m      8\u001B[0m results \u001B[38;5;241m=\u001B[39m []\n\u001B[1;32m      9\u001B[0m \u001B[38;5;28;01mfor\u001B[39;00m population \u001B[38;5;129;01min\u001B[39;00m populations:\n\u001B[0;32m---> 10\u001B[0m     date \u001B[38;5;241m=\u001B[39m population\u001B[38;5;241m.\u001B[39mfind(\u001B[38;5;124m'\u001B[39m\u001B[38;5;124mtd\u001B[39m\u001B[38;5;124m'\u001B[39m, class_\u001B[38;5;241m=\u001B[39m\u001B[38;5;124m'\u001B[39m\u001B[38;5;124mpx-2 border-e border-zinc-200 text-end py-1.5 border-b\u001B[39m\u001B[38;5;124m'\u001B[39m)\u001B[38;5;241m.\u001B[39mtext\n\u001B[1;32m     11\u001B[0m     \u001B[38;5;28mprint\u001B[39m(date)\n",
      "\u001B[0;31mAttributeError\u001B[0m: 'NoneType' object has no attribute 'text'"
     ]
    }
   ],
   "execution_count": 120
  }
 ],
 "metadata": {
  "kernelspec": {
   "display_name": "Python 3",
   "language": "python",
   "name": "python3"
  },
  "language_info": {
   "codemirror_mode": {
    "name": "ipython",
    "version": 2
   },
   "file_extension": ".py",
   "mimetype": "text/x-python",
   "name": "python",
   "nbconvert_exporter": "python",
   "pygments_lexer": "ipython2",
   "version": "2.7.6"
  }
 },
 "nbformat": 4,
 "nbformat_minor": 5
}
