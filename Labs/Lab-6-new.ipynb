{
 "cells": [
  {
   "metadata": {},
   "cell_type": "markdown",
   "source": "Exercise 1",
   "id": "f8534e0aec43707"
  },
  {
   "cell_type": "code",
   "id": "initial_id",
   "metadata": {
    "collapsed": true,
    "ExecuteTime": {
     "end_time": "2025-07-08T11:54:18.254053Z",
     "start_time": "2025-07-08T11:54:18.189454Z"
    }
   },
   "source": [
    "import numpy as np\n",
    "import random\n",
    "\n",
    "from dask.array import average\n",
    "from streamlit import columns\n",
    "\n",
    "arr = np.array(random.sample(range(1, 100), 25)).reshape(5, 5)\n",
    "arr"
   ],
   "outputs": [
    {
     "data": {
      "text/plain": [
       "array([[40, 88, 33, 71, 61],\n",
       "       [76,  1, 62, 79, 41],\n",
       "       [64, 32,  8, 94, 49],\n",
       "       [42, 31, 25, 24, 59],\n",
       "       [44, 28, 18, 26, 13]])"
      ]
     },
     "execution_count": 1,
     "metadata": {},
     "output_type": "execute_result"
    }
   ],
   "execution_count": 1
  },
  {
   "metadata": {
    "ExecuteTime": {
     "end_time": "2025-07-08T11:54:21.106836Z",
     "start_time": "2025-07-08T11:54:21.104026Z"
    }
   },
   "cell_type": "code",
   "source": [
    "arr.sort(axis=1)\n",
    "arr"
   ],
   "id": "ff0bae6cb3743572",
   "outputs": [
    {
     "data": {
      "text/plain": [
       "array([[33, 40, 61, 71, 88],\n",
       "       [ 1, 41, 62, 76, 79],\n",
       "       [ 8, 32, 49, 64, 94],\n",
       "       [24, 25, 31, 42, 59],\n",
       "       [13, 18, 26, 28, 44]])"
      ]
     },
     "execution_count": 2,
     "metadata": {},
     "output_type": "execute_result"
    }
   ],
   "execution_count": 2
  },
  {
   "metadata": {
    "ExecuteTime": {
     "end_time": "2025-07-08T11:54:22.810996Z",
     "start_time": "2025-07-08T11:54:22.808241Z"
    }
   },
   "cell_type": "code",
   "source": [
    "meanVal = arr.mean()\n",
    "# arr.sum()/arr.size\n",
    "meanVal"
   ],
   "id": "dd7bc334d2146b54",
   "outputs": [
    {
     "data": {
      "text/plain": [
       "44.36"
      ]
     },
     "execution_count": 3,
     "metadata": {},
     "output_type": "execute_result"
    }
   ],
   "execution_count": 3
  },
  {
   "metadata": {
    "ExecuteTime": {
     "end_time": "2025-07-08T11:54:24.019174Z",
     "start_time": "2025-07-08T11:54:24.015536Z"
    }
   },
   "cell_type": "code",
   "source": [
    "arr[arr>meanVal] = 0\n",
    "arr"
   ],
   "id": "eaf8e98876829164",
   "outputs": [
    {
     "data": {
      "text/plain": [
       "array([[33, 40,  0,  0,  0],\n",
       "       [ 1, 41,  0,  0,  0],\n",
       "       [ 8, 32,  0,  0,  0],\n",
       "       [24, 25, 31, 42,  0],\n",
       "       [13, 18, 26, 28, 44]])"
      ]
     },
     "execution_count": 4,
     "metadata": {},
     "output_type": "execute_result"
    }
   ],
   "execution_count": 4
  },
  {
   "metadata": {
    "ExecuteTime": {
     "end_time": "2025-07-08T11:54:25.728637Z",
     "start_time": "2025-07-08T11:54:25.725263Z"
    }
   },
   "cell_type": "code",
   "source": "arr @ arr.T",
   "id": "e8e3fb0f816fd49",
   "outputs": [
    {
     "data": {
      "text/plain": [
       "array([[2689, 1673, 1544, 1792, 1149],\n",
       "       [1673, 1682, 1320, 1049,  751],\n",
       "       [1544, 1320, 1088,  992,  680],\n",
       "       [1792, 1049,  992, 3926, 2744],\n",
       "       [1149,  751,  680, 2744, 3889]])"
      ]
     },
     "execution_count": 5,
     "metadata": {},
     "output_type": "execute_result"
    }
   ],
   "execution_count": 5
  },
  {
   "metadata": {},
   "cell_type": "markdown",
   "source": "",
   "id": "347168514151c6ae"
  },
  {
   "metadata": {},
   "cell_type": "markdown",
   "source": "Exercise 2",
   "id": "3a4503436fcd4aec"
  },
  {
   "metadata": {
    "ExecuteTime": {
     "end_time": "2025-07-08T12:02:20.532794Z",
     "start_time": "2025-07-08T12:02:20.527254Z"
    }
   },
   "cell_type": "code",
   "source": [
    "import pandas as pd\n",
    "\n",
    "file = pd.read_csv(\"data.csv\")\n",
    "df = pd.DataFrame(file)\n",
    "df"
   ],
   "id": "29e13d4f495e706e",
   "outputs": [
    {
     "data": {
      "text/plain": [
       "  Category  Quantity  Revenue\n",
       "0        A        10      100\n",
       "1        A         5       50\n",
       "2        B         8      120\n",
       "3        B        12      180\n",
       "4        C         3       30\n",
       "5        C         7       70\n",
       "6        C        10      100\n",
       "7        D        15      225"
      ],
      "text/html": [
       "<div>\n",
       "<style scoped>\n",
       "    .dataframe tbody tr th:only-of-type {\n",
       "        vertical-align: middle;\n",
       "    }\n",
       "\n",
       "    .dataframe tbody tr th {\n",
       "        vertical-align: top;\n",
       "    }\n",
       "\n",
       "    .dataframe thead th {\n",
       "        text-align: right;\n",
       "    }\n",
       "</style>\n",
       "<table border=\"1\" class=\"dataframe\">\n",
       "  <thead>\n",
       "    <tr style=\"text-align: right;\">\n",
       "      <th></th>\n",
       "      <th>Category</th>\n",
       "      <th>Quantity</th>\n",
       "      <th>Revenue</th>\n",
       "    </tr>\n",
       "  </thead>\n",
       "  <tbody>\n",
       "    <tr>\n",
       "      <th>0</th>\n",
       "      <td>A</td>\n",
       "      <td>10</td>\n",
       "      <td>100</td>\n",
       "    </tr>\n",
       "    <tr>\n",
       "      <th>1</th>\n",
       "      <td>A</td>\n",
       "      <td>5</td>\n",
       "      <td>50</td>\n",
       "    </tr>\n",
       "    <tr>\n",
       "      <th>2</th>\n",
       "      <td>B</td>\n",
       "      <td>8</td>\n",
       "      <td>120</td>\n",
       "    </tr>\n",
       "    <tr>\n",
       "      <th>3</th>\n",
       "      <td>B</td>\n",
       "      <td>12</td>\n",
       "      <td>180</td>\n",
       "    </tr>\n",
       "    <tr>\n",
       "      <th>4</th>\n",
       "      <td>C</td>\n",
       "      <td>3</td>\n",
       "      <td>30</td>\n",
       "    </tr>\n",
       "    <tr>\n",
       "      <th>5</th>\n",
       "      <td>C</td>\n",
       "      <td>7</td>\n",
       "      <td>70</td>\n",
       "    </tr>\n",
       "    <tr>\n",
       "      <th>6</th>\n",
       "      <td>C</td>\n",
       "      <td>10</td>\n",
       "      <td>100</td>\n",
       "    </tr>\n",
       "    <tr>\n",
       "      <th>7</th>\n",
       "      <td>D</td>\n",
       "      <td>15</td>\n",
       "      <td>225</td>\n",
       "    </tr>\n",
       "  </tbody>\n",
       "</table>\n",
       "</div>"
      ]
     },
     "execution_count": 16,
     "metadata": {},
     "output_type": "execute_result"
    }
   ],
   "execution_count": 16
  },
  {
   "metadata": {
    "ExecuteTime": {
     "end_time": "2025-07-08T12:19:45.187327Z",
     "start_time": "2025-07-08T12:19:45.176080Z"
    }
   },
   "cell_type": "code",
   "source": [
    "group_by_category = df.groupby('Category').sum()\n",
    "group_by_category"
   ],
   "id": "7f501900ba908dcf",
   "outputs": [
    {
     "data": {
      "text/plain": [
       "          Quantity  Revenue\n",
       "Category                   \n",
       "A               15      150\n",
       "B               20      300\n",
       "C               20      200\n",
       "D               15      225"
      ],
      "text/html": [
       "<div>\n",
       "<style scoped>\n",
       "    .dataframe tbody tr th:only-of-type {\n",
       "        vertical-align: middle;\n",
       "    }\n",
       "\n",
       "    .dataframe tbody tr th {\n",
       "        vertical-align: top;\n",
       "    }\n",
       "\n",
       "    .dataframe thead th {\n",
       "        text-align: right;\n",
       "    }\n",
       "</style>\n",
       "<table border=\"1\" class=\"dataframe\">\n",
       "  <thead>\n",
       "    <tr style=\"text-align: right;\">\n",
       "      <th></th>\n",
       "      <th>Quantity</th>\n",
       "      <th>Revenue</th>\n",
       "    </tr>\n",
       "    <tr>\n",
       "      <th>Category</th>\n",
       "      <th></th>\n",
       "      <th></th>\n",
       "    </tr>\n",
       "  </thead>\n",
       "  <tbody>\n",
       "    <tr>\n",
       "      <th>A</th>\n",
       "      <td>15</td>\n",
       "      <td>150</td>\n",
       "    </tr>\n",
       "    <tr>\n",
       "      <th>B</th>\n",
       "      <td>20</td>\n",
       "      <td>300</td>\n",
       "    </tr>\n",
       "    <tr>\n",
       "      <th>C</th>\n",
       "      <td>20</td>\n",
       "      <td>200</td>\n",
       "    </tr>\n",
       "    <tr>\n",
       "      <th>D</th>\n",
       "      <td>15</td>\n",
       "      <td>225</td>\n",
       "    </tr>\n",
       "  </tbody>\n",
       "</table>\n",
       "</div>"
      ]
     },
     "execution_count": 52,
     "metadata": {},
     "output_type": "execute_result"
    }
   ],
   "execution_count": 52
  },
  {
   "metadata": {
    "ExecuteTime": {
     "end_time": "2025-07-08T12:33:16.823401Z",
     "start_time": "2025-07-08T12:33:16.820264Z"
    }
   },
   "cell_type": "code",
   "source": [
    "averagePrice = group_by_category['Revenue'].div(group_by_category['Quantity'])\n",
    "averagePrice"
   ],
   "id": "7a60e25391b2fe22",
   "outputs": [
    {
     "data": {
      "text/plain": [
       "Category\n",
       "A    10.0\n",
       "B    15.0\n",
       "C    10.0\n",
       "D    15.0\n",
       "dtype: float64"
      ]
     },
     "execution_count": 76,
     "metadata": {},
     "output_type": "execute_result"
    }
   ],
   "execution_count": 76
  },
  {
   "metadata": {
    "ExecuteTime": {
     "end_time": "2025-07-08T12:26:21.331610Z",
     "start_time": "2025-07-08T12:26:21.328105Z"
    }
   },
   "cell_type": "code",
   "source": [
    "maxAv = averagePrice[averagePrice.index].max()\n",
    "for cat in averagePrice.index:\n",
    "    if averagePrice[cat]==maxAv:\n",
    "        print(cat, averagePrice[cat])"
   ],
   "id": "f9543adf44e79fed",
   "outputs": [
    {
     "name": "stdout",
     "output_type": "stream",
     "text": [
      "B 15.0\n",
      "D 15.0\n"
     ]
    }
   ],
   "execution_count": 67
  },
  {
   "metadata": {},
   "cell_type": "markdown",
   "source": "",
   "id": "2fcdd8360d5e5807"
  },
  {
   "metadata": {},
   "cell_type": "markdown",
   "source": "Exercise 3",
   "id": "2a58eee965239733"
  },
  {
   "metadata": {
    "ExecuteTime": {
     "end_time": "2025-07-08T12:31:05.704914Z",
     "start_time": "2025-07-08T12:31:05.695679Z"
    }
   },
   "cell_type": "code",
   "source": [
    "arr = np.array(random.randint())\n",
    "arr"
   ],
   "id": "e04bc13c3e78a79f",
   "outputs": [
    {
     "ename": "TypeError",
     "evalue": "Random.randint() missing 2 required positional arguments: 'a' and 'b'",
     "output_type": "error",
     "traceback": [
      "\u001B[0;31m---------------------------------------------------------------------------\u001B[0m",
      "\u001B[0;31mTypeError\u001B[0m                                 Traceback (most recent call last)",
      "Cell \u001B[0;32mIn[74], line 1\u001B[0m\n\u001B[0;32m----> 1\u001B[0m arr \u001B[38;5;241m=\u001B[39m np\u001B[38;5;241m.\u001B[39marray(random\u001B[38;5;241m.\u001B[39mrandint())\n\u001B[1;32m      2\u001B[0m arr\n",
      "\u001B[0;31mTypeError\u001B[0m: Random.randint() missing 2 required positional arguments: 'a' and 'b'"
     ]
    }
   ],
   "execution_count": 74
  },
  {
   "metadata": {},
   "cell_type": "markdown",
   "source": "",
   "id": "892b9cad0a5d7d9f"
  },
  {
   "metadata": {},
   "cell_type": "markdown",
   "source": "Exercise 4",
   "id": "4c24fddd4a54c3da"
  },
  {
   "metadata": {
    "ExecuteTime": {
     "end_time": "2025-07-10T11:24:46.605384Z",
     "start_time": "2025-07-10T11:24:46.603345Z"
    }
   },
   "cell_type": "code",
   "source": "import pandas as pd",
   "id": "8dffcdf5c54056a9",
   "outputs": [],
   "execution_count": 2
  },
  {
   "metadata": {
    "ExecuteTime": {
     "end_time": "2025-07-10T11:37:02.718506Z",
     "start_time": "2025-07-10T11:37:02.710355Z"
    }
   },
   "cell_type": "code",
   "source": [
    "df = pd.read_csv(\"sales_data.csv\", parse_dates = ['Date'])\n",
    "df"
   ],
   "id": "3e1afb7f22e3b1a8",
   "outputs": [
    {
     "data": {
      "text/plain": [
       "         Date      Product  Quantity  Revenue\n",
       "0  2022-01-01        Shoes      10.0     1000\n",
       "1  2022-01-01         Bags       5.0      500\n",
       "2  2022-01-01  Electronics       NaN      300\n",
       "3  2022-02-01        Shoes       8.0      800\n",
       "4  2022-02-01         Bags       3.0      300\n",
       "..        ...          ...       ...      ...\n",
       "67 2023-09-06         Bags       8.0      800\n",
       "68 2023-09-07  Electronics       3.0      450\n",
       "69 2023-09-08        Shoes      12.0     1200\n",
       "70 2023-09-09         Bags       NaN      600\n",
       "71 2023-05-01  Electronics       2.0      300\n",
       "\n",
       "[72 rows x 4 columns]"
      ],
      "text/html": [
       "<div>\n",
       "<style scoped>\n",
       "    .dataframe tbody tr th:only-of-type {\n",
       "        vertical-align: middle;\n",
       "    }\n",
       "\n",
       "    .dataframe tbody tr th {\n",
       "        vertical-align: top;\n",
       "    }\n",
       "\n",
       "    .dataframe thead th {\n",
       "        text-align: right;\n",
       "    }\n",
       "</style>\n",
       "<table border=\"1\" class=\"dataframe\">\n",
       "  <thead>\n",
       "    <tr style=\"text-align: right;\">\n",
       "      <th></th>\n",
       "      <th>Date</th>\n",
       "      <th>Product</th>\n",
       "      <th>Quantity</th>\n",
       "      <th>Revenue</th>\n",
       "    </tr>\n",
       "  </thead>\n",
       "  <tbody>\n",
       "    <tr>\n",
       "      <th>0</th>\n",
       "      <td>2022-01-01</td>\n",
       "      <td>Shoes</td>\n",
       "      <td>10.0</td>\n",
       "      <td>1000</td>\n",
       "    </tr>\n",
       "    <tr>\n",
       "      <th>1</th>\n",
       "      <td>2022-01-01</td>\n",
       "      <td>Bags</td>\n",
       "      <td>5.0</td>\n",
       "      <td>500</td>\n",
       "    </tr>\n",
       "    <tr>\n",
       "      <th>2</th>\n",
       "      <td>2022-01-01</td>\n",
       "      <td>Electronics</td>\n",
       "      <td>NaN</td>\n",
       "      <td>300</td>\n",
       "    </tr>\n",
       "    <tr>\n",
       "      <th>3</th>\n",
       "      <td>2022-02-01</td>\n",
       "      <td>Shoes</td>\n",
       "      <td>8.0</td>\n",
       "      <td>800</td>\n",
       "    </tr>\n",
       "    <tr>\n",
       "      <th>4</th>\n",
       "      <td>2022-02-01</td>\n",
       "      <td>Bags</td>\n",
       "      <td>3.0</td>\n",
       "      <td>300</td>\n",
       "    </tr>\n",
       "    <tr>\n",
       "      <th>...</th>\n",
       "      <td>...</td>\n",
       "      <td>...</td>\n",
       "      <td>...</td>\n",
       "      <td>...</td>\n",
       "    </tr>\n",
       "    <tr>\n",
       "      <th>67</th>\n",
       "      <td>2023-09-06</td>\n",
       "      <td>Bags</td>\n",
       "      <td>8.0</td>\n",
       "      <td>800</td>\n",
       "    </tr>\n",
       "    <tr>\n",
       "      <th>68</th>\n",
       "      <td>2023-09-07</td>\n",
       "      <td>Electronics</td>\n",
       "      <td>3.0</td>\n",
       "      <td>450</td>\n",
       "    </tr>\n",
       "    <tr>\n",
       "      <th>69</th>\n",
       "      <td>2023-09-08</td>\n",
       "      <td>Shoes</td>\n",
       "      <td>12.0</td>\n",
       "      <td>1200</td>\n",
       "    </tr>\n",
       "    <tr>\n",
       "      <th>70</th>\n",
       "      <td>2023-09-09</td>\n",
       "      <td>Bags</td>\n",
       "      <td>NaN</td>\n",
       "      <td>600</td>\n",
       "    </tr>\n",
       "    <tr>\n",
       "      <th>71</th>\n",
       "      <td>2023-05-01</td>\n",
       "      <td>Electronics</td>\n",
       "      <td>2.0</td>\n",
       "      <td>300</td>\n",
       "    </tr>\n",
       "  </tbody>\n",
       "</table>\n",
       "<p>72 rows × 4 columns</p>\n",
       "</div>"
      ]
     },
     "execution_count": 33,
     "metadata": {},
     "output_type": "execute_result"
    }
   ],
   "execution_count": 33
  },
  {
   "metadata": {
    "ExecuteTime": {
     "end_time": "2025-07-10T11:37:07.644788Z",
     "start_time": "2025-07-10T11:37:07.636102Z"
    }
   },
   "cell_type": "code",
   "source": [
    "df['Year'] = df['Date'].dt.year\n",
    "df"
   ],
   "id": "32897cf1a80c8a2f",
   "outputs": [
    {
     "data": {
      "text/plain": [
       "         Date      Product  Quantity  Revenue  Year\n",
       "0  2022-01-01        Shoes      10.0     1000  2022\n",
       "1  2022-01-01         Bags       5.0      500  2022\n",
       "2  2022-01-01  Electronics       NaN      300  2022\n",
       "3  2022-02-01        Shoes       8.0      800  2022\n",
       "4  2022-02-01         Bags       3.0      300  2022\n",
       "..        ...          ...       ...      ...   ...\n",
       "67 2023-09-06         Bags       8.0      800  2023\n",
       "68 2023-09-07  Electronics       3.0      450  2023\n",
       "69 2023-09-08        Shoes      12.0     1200  2023\n",
       "70 2023-09-09         Bags       NaN      600  2023\n",
       "71 2023-05-01  Electronics       2.0      300  2023\n",
       "\n",
       "[72 rows x 5 columns]"
      ],
      "text/html": [
       "<div>\n",
       "<style scoped>\n",
       "    .dataframe tbody tr th:only-of-type {\n",
       "        vertical-align: middle;\n",
       "    }\n",
       "\n",
       "    .dataframe tbody tr th {\n",
       "        vertical-align: top;\n",
       "    }\n",
       "\n",
       "    .dataframe thead th {\n",
       "        text-align: right;\n",
       "    }\n",
       "</style>\n",
       "<table border=\"1\" class=\"dataframe\">\n",
       "  <thead>\n",
       "    <tr style=\"text-align: right;\">\n",
       "      <th></th>\n",
       "      <th>Date</th>\n",
       "      <th>Product</th>\n",
       "      <th>Quantity</th>\n",
       "      <th>Revenue</th>\n",
       "      <th>Year</th>\n",
       "    </tr>\n",
       "  </thead>\n",
       "  <tbody>\n",
       "    <tr>\n",
       "      <th>0</th>\n",
       "      <td>2022-01-01</td>\n",
       "      <td>Shoes</td>\n",
       "      <td>10.0</td>\n",
       "      <td>1000</td>\n",
       "      <td>2022</td>\n",
       "    </tr>\n",
       "    <tr>\n",
       "      <th>1</th>\n",
       "      <td>2022-01-01</td>\n",
       "      <td>Bags</td>\n",
       "      <td>5.0</td>\n",
       "      <td>500</td>\n",
       "      <td>2022</td>\n",
       "    </tr>\n",
       "    <tr>\n",
       "      <th>2</th>\n",
       "      <td>2022-01-01</td>\n",
       "      <td>Electronics</td>\n",
       "      <td>NaN</td>\n",
       "      <td>300</td>\n",
       "      <td>2022</td>\n",
       "    </tr>\n",
       "    <tr>\n",
       "      <th>3</th>\n",
       "      <td>2022-02-01</td>\n",
       "      <td>Shoes</td>\n",
       "      <td>8.0</td>\n",
       "      <td>800</td>\n",
       "      <td>2022</td>\n",
       "    </tr>\n",
       "    <tr>\n",
       "      <th>4</th>\n",
       "      <td>2022-02-01</td>\n",
       "      <td>Bags</td>\n",
       "      <td>3.0</td>\n",
       "      <td>300</td>\n",
       "      <td>2022</td>\n",
       "    </tr>\n",
       "    <tr>\n",
       "      <th>...</th>\n",
       "      <td>...</td>\n",
       "      <td>...</td>\n",
       "      <td>...</td>\n",
       "      <td>...</td>\n",
       "      <td>...</td>\n",
       "    </tr>\n",
       "    <tr>\n",
       "      <th>67</th>\n",
       "      <td>2023-09-06</td>\n",
       "      <td>Bags</td>\n",
       "      <td>8.0</td>\n",
       "      <td>800</td>\n",
       "      <td>2023</td>\n",
       "    </tr>\n",
       "    <tr>\n",
       "      <th>68</th>\n",
       "      <td>2023-09-07</td>\n",
       "      <td>Electronics</td>\n",
       "      <td>3.0</td>\n",
       "      <td>450</td>\n",
       "      <td>2023</td>\n",
       "    </tr>\n",
       "    <tr>\n",
       "      <th>69</th>\n",
       "      <td>2023-09-08</td>\n",
       "      <td>Shoes</td>\n",
       "      <td>12.0</td>\n",
       "      <td>1200</td>\n",
       "      <td>2023</td>\n",
       "    </tr>\n",
       "    <tr>\n",
       "      <th>70</th>\n",
       "      <td>2023-09-09</td>\n",
       "      <td>Bags</td>\n",
       "      <td>NaN</td>\n",
       "      <td>600</td>\n",
       "      <td>2023</td>\n",
       "    </tr>\n",
       "    <tr>\n",
       "      <th>71</th>\n",
       "      <td>2023-05-01</td>\n",
       "      <td>Electronics</td>\n",
       "      <td>2.0</td>\n",
       "      <td>300</td>\n",
       "      <td>2023</td>\n",
       "    </tr>\n",
       "  </tbody>\n",
       "</table>\n",
       "<p>72 rows × 5 columns</p>\n",
       "</div>"
      ]
     },
     "execution_count": 34,
     "metadata": {},
     "output_type": "execute_result"
    }
   ],
   "execution_count": 34
  },
  {
   "metadata": {
    "ExecuteTime": {
     "end_time": "2025-07-10T11:37:53.320284Z",
     "start_time": "2025-07-10T11:37:53.317285Z"
    }
   },
   "cell_type": "code",
   "source": [
    "miss = df.isna().sum()\n",
    "miss"
   ],
   "id": "96464ff18a055cf8",
   "outputs": [
    {
     "data": {
      "text/plain": [
       "Date         0\n",
       "Product      0\n",
       "Quantity    10\n",
       "Revenue      0\n",
       "Year         0\n",
       "dtype: int64"
      ]
     },
     "execution_count": 38,
     "metadata": {},
     "output_type": "execute_result"
    }
   ],
   "execution_count": 38
  },
  {
   "metadata": {},
   "cell_type": "code",
   "outputs": [],
   "execution_count": null,
   "source": [
    "df['Quantity'].fillna(df['Quantity'].median())\n",
    "df.groupby('Category').sum()"
   ],
   "id": "b0711273f149dfec"
  }
 ],
 "metadata": {
  "kernelspec": {
   "display_name": "Python 3",
   "language": "python",
   "name": "python3"
  },
  "language_info": {
   "codemirror_mode": {
    "name": "ipython",
    "version": 2
   },
   "file_extension": ".py",
   "mimetype": "text/x-python",
   "name": "python",
   "nbconvert_exporter": "python",
   "pygments_lexer": "ipython2",
   "version": "2.7.6"
  }
 },
 "nbformat": 4,
 "nbformat_minor": 5
}
