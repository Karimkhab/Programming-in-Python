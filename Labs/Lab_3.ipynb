{
 "cells": [
  {
   "cell_type": "code",
   "id": "initial_id",
   "metadata": {
    "collapsed": true,
    "ExecuteTime": {
     "end_time": "2025-06-17T09:54:49.609283Z",
     "start_time": "2025-06-17T09:54:49.607582Z"
    }
   },
   "source": "print(\"kmmee\\tmckcme\")",
   "outputs": [
    {
     "name": "stdout",
     "output_type": "stream",
     "text": [
      "kmmee\tmckcme\n"
     ]
    }
   ],
   "execution_count": 5
  },
  {
   "metadata": {
    "ExecuteTime": {
     "end_time": "2025-06-17T10:13:08.020718Z",
     "start_time": "2025-06-17T10:13:08.017577Z"
    }
   },
   "cell_type": "code",
   "source": [
    "a = [99,'bear']\n",
    "a[0]\n",
    "# a[1]"
   ],
   "id": "c270d6e224dc526f",
   "outputs": [
    {
     "data": {
      "text/plain": [
       "99"
      ]
     },
     "execution_count": 7,
     "metadata": {},
     "output_type": "execute_result"
    }
   ],
   "execution_count": 7
  },
  {
   "metadata": {},
   "cell_type": "code",
   "outputs": [],
   "execution_count": null,
   "source": "",
   "id": "1800d7b58ef4a253"
  }
 ],
 "metadata": {
  "kernelspec": {
   "display_name": "Python 3",
   "language": "python",
   "name": "python3"
  },
  "language_info": {
   "codemirror_mode": {
    "name": "ipython",
    "version": 2
   },
   "file_extension": ".py",
   "mimetype": "text/x-python",
   "name": "python",
   "nbconvert_exporter": "python",
   "pygments_lexer": "ipython2",
   "version": "2.7.6"
  }
 },
 "nbformat": 4,
 "nbformat_minor": 5
}
