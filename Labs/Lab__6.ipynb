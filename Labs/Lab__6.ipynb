{
 "cells": [
  {
   "metadata": {
    "ExecuteTime": {
     "end_time": "2025-07-08T10:04:50.639524Z",
     "start_time": "2025-07-08T10:04:50.636024Z"
    }
   },
   "cell_type": "code",
   "source": [
    "import numpy as np\n",
    "import random\n",
    "\n",
    "arr = np.arange(1,10).reshape(3,3)\n",
    "# arr = np.array(random.sample(arr,3))\n",
    "# arr.shape\n",
    "# arr.ndim\n",
    "# type(arr)\n",
    "arr\n",
    "arr.dtype"
   ],
   "id": "81a1ee333e28aa48",
   "outputs": [
    {
     "data": {
      "text/plain": [
       "dtype('int64')"
      ]
     },
     "execution_count": 23,
     "metadata": {},
     "output_type": "execute_result"
    }
   ],
   "execution_count": 23
  },
  {
   "metadata": {
    "ExecuteTime": {
     "end_time": "2025-07-08T10:09:56.189569Z",
     "start_time": "2025-07-08T10:09:56.185833Z"
    }
   },
   "cell_type": "code",
   "source": "np.zeros((3,4))",
   "id": "c6cd0d8dbb6e81e0",
   "outputs": [
    {
     "data": {
      "text/plain": [
       "array([[0., 0., 0., 0.],\n",
       "       [0., 0., 0., 0.],\n",
       "       [0., 0., 0., 0.]])"
      ]
     },
     "execution_count": 43,
     "metadata": {},
     "output_type": "execute_result"
    }
   ],
   "execution_count": 43
  },
  {
   "metadata": {
    "ExecuteTime": {
     "end_time": "2025-07-08T10:08:58.920876Z",
     "start_time": "2025-07-08T10:08:58.917083Z"
    }
   },
   "cell_type": "code",
   "source": "np.ones((2,3))",
   "id": "a565e51c3984a997",
   "outputs": [
    {
     "data": {
      "text/plain": [
       "array([[1., 1., 1.],\n",
       "       [1., 1., 1.]])"
      ]
     },
     "execution_count": 38,
     "metadata": {},
     "output_type": "execute_result"
    }
   ],
   "execution_count": 38
  },
  {
   "metadata": {
    "ExecuteTime": {
     "end_time": "2025-07-08T10:09:58.407531Z",
     "start_time": "2025-07-08T10:09:58.402938Z"
    }
   },
   "cell_type": "code",
   "source": [
    "arr1 = np.arange(10, 30 ,5).reshape(4,1)\n",
    "arr1"
   ],
   "id": "96438765938334ed",
   "outputs": [
    {
     "data": {
      "text/plain": [
       "array([[10],\n",
       "       [15],\n",
       "       [20],\n",
       "       [25]])"
      ]
     },
     "execution_count": 44,
     "metadata": {},
     "output_type": "execute_result"
    }
   ],
   "execution_count": 44
  },
  {
   "metadata": {
    "ExecuteTime": {
     "end_time": "2025-07-08T10:26:28.694892Z",
     "start_time": "2025-07-08T10:26:28.691081Z"
    }
   },
   "cell_type": "code",
   "source": [
    "arr = np.array([[1,2,3],\n",
    "                [5,6,7]])\n",
    "\n",
    "arr1 = np.array([[3,7,2]])\n",
    "arr * arr1"
   ],
   "id": "bb9c41f05101028d",
   "outputs": [
    {
     "data": {
      "text/plain": [
       "array([[ 3, 14,  6],\n",
       "       [15, 42, 14]])"
      ]
     },
     "execution_count": 51,
     "metadata": {},
     "output_type": "execute_result"
    }
   ],
   "execution_count": 51
  },
  {
   "metadata": {
    "ExecuteTime": {
     "end_time": "2025-07-08T10:52:37.019348Z",
     "start_time": "2025-07-08T10:52:37.015466Z"
    }
   },
   "cell_type": "code",
   "source": [
    "a = np.array([[3.,7.,3.,4.],\n",
    "              [1., 4., 2., 2.],\n",
    "              [7., 2., 4., 9.,]])\n",
    "a"
   ],
   "id": "b7b47ddc28d3345c",
   "outputs": [
    {
     "data": {
      "text/plain": [
       "array([[3., 7., 3., 4.],\n",
       "       [1., 4., 2., 2.],\n",
       "       [7., 2., 4., 9.]])"
      ]
     },
     "execution_count": 59,
     "metadata": {},
     "output_type": "execute_result"
    }
   ],
   "execution_count": 59
  },
  {
   "metadata": {
    "ExecuteTime": {
     "end_time": "2025-07-08T10:54:18.115160Z",
     "start_time": "2025-07-08T10:54:18.110365Z"
    }
   },
   "cell_type": "code",
   "source": "a.resize((2,10), refcheck=False)",
   "id": "1eb8b3feba5b1722",
   "outputs": [
    {
     "data": {
      "text/plain": [
       "array([[3., 7., 3., 4., 1., 4., 2., 2., 7., 2.],\n",
       "       [4., 9., 0., 0., 0., 0., 0., 0., 0., 0.]])"
      ]
     },
     "execution_count": 65,
     "metadata": {},
     "output_type": "execute_result"
    }
   ],
   "execution_count": 65
  },
  {
   "metadata": {
    "ExecuteTime": {
     "end_time": "2025-07-08T11:01:16.356318Z",
     "start_time": "2025-07-08T11:01:16.351745Z"
    }
   },
   "cell_type": "code",
   "source": [
    "import pandas as pd\n",
    "\n",
    "s = pd.Series([1,3,5, np.nan, 6, 8])\n",
    "s"
   ],
   "id": "ba602819e307fd1c",
   "outputs": [
    {
     "data": {
      "text/plain": [
       "0     1\n",
       "1     3\n",
       "2     5\n",
       "3   NaN\n",
       "4     6\n",
       "5     8\n",
       "dtype: float64"
      ]
     },
     "execution_count": 68,
     "metadata": {},
     "output_type": "execute_result"
    }
   ],
   "execution_count": 68
  },
  {
   "metadata": {
    "ExecuteTime": {
     "end_time": "2025-07-08T11:01:54.154628Z",
     "start_time": "2025-07-08T11:01:54.142517Z"
    }
   },
   "cell_type": "code",
   "source": [
    "dates = pd.date_range('20130101', periods=6)\n",
    "dates"
   ],
   "id": "8329470c477a1677",
   "outputs": [
    {
     "data": {
      "text/plain": [
       "DatetimeIndex(['2013-01-01', '2013-01-02', '2013-01-03', '2013-01-04',\n",
       "               '2013-01-05', '2013-01-06'],\n",
       "              dtype='datetime64[ns]', freq='D')"
      ]
     },
     "execution_count": 69,
     "metadata": {},
     "output_type": "execute_result"
    }
   ],
   "execution_count": 69
  },
  {
   "metadata": {
    "ExecuteTime": {
     "end_time": "2025-07-08T11:03:47.359839Z",
     "start_time": "2025-07-08T11:03:47.348770Z"
    }
   },
   "cell_type": "code",
   "source": [
    "df = pd.DataFrame(np.random.randint(6,4), index=dates, columns = list('ABCD'))\n",
    "df"
   ],
   "id": "7a1c6f2e7986e2fe",
   "outputs": [
    {
     "ename": "ValueError",
     "evalue": "low >= high",
     "output_type": "error",
     "traceback": [
      "\u001B[0;31m---------------------------------------------------------------------------\u001B[0m",
      "\u001B[0;31mValueError\u001B[0m                                Traceback (most recent call last)",
      "Cell \u001B[0;32mIn[71], line 1\u001B[0m\n\u001B[0;32m----> 1\u001B[0m df \u001B[38;5;241m=\u001B[39m pd\u001B[38;5;241m.\u001B[39mDataFrame(np\u001B[38;5;241m.\u001B[39mrandom\u001B[38;5;241m.\u001B[39mrandint(\u001B[38;5;241m6\u001B[39m,\u001B[38;5;241m4\u001B[39m), index\u001B[38;5;241m=\u001B[39mdates, columns \u001B[38;5;241m=\u001B[39m \u001B[38;5;28mlist\u001B[39m(\u001B[38;5;124m'\u001B[39m\u001B[38;5;124mABCD\u001B[39m\u001B[38;5;124m'\u001B[39m))\n\u001B[1;32m      2\u001B[0m df\n",
      "File \u001B[0;32mnumpy/random/mtrand.pyx:782\u001B[0m, in \u001B[0;36mnumpy.random.mtrand.RandomState.randint\u001B[0;34m()\u001B[0m\n",
      "File \u001B[0;32mnumpy/random/_bounded_integers.pyx:1334\u001B[0m, in \u001B[0;36mnumpy.random._bounded_integers._rand_int64\u001B[0;34m()\u001B[0m\n",
      "\u001B[0;31mValueError\u001B[0m: low >= high"
     ]
    }
   ],
   "execution_count": 71
  }
 ],
 "metadata": {
  "kernelspec": {
   "display_name": "Python 3",
   "language": "python",
   "name": "python3"
  },
  "language_info": {
   "codemirror_mode": {
    "name": "ipython",
    "version": 2
   },
   "file_extension": ".py",
   "mimetype": "text/x-python",
   "name": "python",
   "nbconvert_exporter": "python",
   "pygments_lexer": "ipython2",
   "version": "2.7.6"
  }
 },
 "nbformat": 4,
 "nbformat_minor": 5
}
