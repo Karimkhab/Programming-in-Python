{
 "cells": [
  {
   "cell_type": "code",
   "execution_count": 2,
   "id": "initial_id",
   "metadata": {
    "ExecuteTime": {
     "end_time": "2025-07-01T10:30:58.823397Z",
     "start_time": "2025-07-01T10:30:58.819870Z"
    }
   },
   "outputs": [
    {
     "data": {
      "text/plain": [
       "64"
      ]
     },
     "execution_count": 2,
     "metadata": {},
     "output_type": "execute_result"
    }
   ],
   "source": [
    "from pygments.modeline import modeline_re\n",
    "\n",
    "import my_lib\n",
    "\n",
    "def callatt(m,a,v):\n",
    "    return eval(f'{m.__name__}.{a.__name__}({v})')\n",
    "\n",
    "r2 = callatt(my_lib, my_lib.cube, 4)\n",
    "r2"
   ]
  },
  {
   "cell_type": "code",
   "id": "e7f41a8c58c96deb",
   "metadata": {
    "ExecuteTime": {
     "end_time": "2025-07-01T12:23:04.121599Z",
     "start_time": "2025-07-01T12:23:04.118861Z"
    }
   },
   "source": [
    "def my():\n",
    "    x = 1\n",
    "    def func2():\n",
    "        \n",
    "        def func3():\n",
    "            nonlocal x\n",
    "            x= 22\n",
    "        \n",
    "        x= 3\n",
    "        func3()\n",
    "    func2()\n",
    "    print(x)\n",
    "    return func2\n",
    "\n",
    "func = my()\n",
    "func()"
   ],
   "outputs": [
    {
     "name": "stdout",
     "output_type": "stream",
     "text": [
      "1\n"
     ]
    }
   ],
   "execution_count": 28
  },
  {
   "cell_type": "code",
   "id": "2776ceb5-5df9-488b-99cc-96d7eb19a7c0",
   "metadata": {
    "ExecuteTime": {
     "end_time": "2025-07-02T19:14:09.727097Z",
     "start_time": "2025-07-02T19:14:09.723714Z"
    }
   },
   "source": [
    "more = 4\n",
    "addmore = lambda x: x + more\n",
    "\n",
    "more  = 10\n",
    "addmore(3)"
   ],
   "outputs": [
    {
     "data": {
      "text/plain": [
       "13"
      ]
     },
     "execution_count": 2,
     "metadata": {},
     "output_type": "execute_result"
    }
   ],
   "execution_count": 2
  },
  {
   "metadata": {
    "ExecuteTime": {
     "end_time": "2025-07-02T19:47:44.867716Z",
     "start_time": "2025-07-02T19:47:44.863736Z"
    }
   },
   "cell_type": "code",
   "source": [
    "def decorator(func):\n",
    "    print('attached')\n",
    "    return func\n",
    "def decorator(fun):\n",
    "    def wrapper(*args, **kwargs):\n",
    "        print(*args, **kwargs)\n",
    "        return fun(*args, **kwargs)\n",
    "    return wrapper\n",
    "\n",
    "@decorator\n",
    "def fun(a,b):\n",
    "    return a+b\n",
    "\n",
    "fun(1,2)"
   ],
   "id": "5a619235543ca5a2",
   "outputs": [
    {
     "name": "stdout",
     "output_type": "stream",
     "text": [
      "1 2\n"
     ]
    },
    {
     "data": {
      "text/plain": [
       "3"
      ]
     },
     "execution_count": 4,
     "metadata": {},
     "output_type": "execute_result"
    }
   ],
   "execution_count": 4
  },
  {
   "metadata": {
    "ExecuteTime": {
     "end_time": "2025-07-02T19:58:08.326112Z",
     "start_time": "2025-07-02T19:58:08.317786Z"
    }
   },
   "cell_type": "code",
   "source": [
    "a = [1, 2, 3, 4,5]\n",
    "help(a)"
   ],
   "id": "7b656ac4632c902c",
   "outputs": [
    {
     "name": "stdout",
     "output_type": "stream",
     "text": [
      "Help on list object:\n",
      "\n",
      "class list(object)\n",
      " |  list(iterable=(), /)\n",
      " |\n",
      " |  Built-in mutable sequence.\n",
      " |\n",
      " |  If no argument is given, the constructor creates a new empty list.\n",
      " |  The argument must be an iterable if specified.\n",
      " |\n",
      " |  Methods defined here:\n",
      " |\n",
      " |  __add__(self, value, /)\n",
      " |      Return self+value.\n",
      " |\n",
      " |  __contains__(self, key, /)\n",
      " |      Return bool(key in self).\n",
      " |\n",
      " |  __delitem__(self, key, /)\n",
      " |      Delete self[key].\n",
      " |\n",
      " |  __eq__(self, value, /)\n",
      " |      Return self==value.\n",
      " |\n",
      " |  __ge__(self, value, /)\n",
      " |      Return self>=value.\n",
      " |\n",
      " |  __getattribute__(self, name, /)\n",
      " |      Return getattr(self, name).\n",
      " |\n",
      " |  __getitem__(self, index, /)\n",
      " |      Return self[index].\n",
      " |\n",
      " |  __gt__(self, value, /)\n",
      " |      Return self>value.\n",
      " |\n",
      " |  __iadd__(self, value, /)\n",
      " |      Implement self+=value.\n",
      " |\n",
      " |  __imul__(self, value, /)\n",
      " |      Implement self*=value.\n",
      " |\n",
      " |  __init__(self, /, *args, **kwargs)\n",
      " |      Initialize self.  See help(type(self)) for accurate signature.\n",
      " |\n",
      " |  __iter__(self, /)\n",
      " |      Implement iter(self).\n",
      " |\n",
      " |  __le__(self, value, /)\n",
      " |      Return self<=value.\n",
      " |\n",
      " |  __len__(self, /)\n",
      " |      Return len(self).\n",
      " |\n",
      " |  __lt__(self, value, /)\n",
      " |      Return self<value.\n",
      " |\n",
      " |  __mul__(self, value, /)\n",
      " |      Return self*value.\n",
      " |\n",
      " |  __ne__(self, value, /)\n",
      " |      Return self!=value.\n",
      " |\n",
      " |  __repr__(self, /)\n",
      " |      Return repr(self).\n",
      " |\n",
      " |  __reversed__(self, /)\n",
      " |      Return a reverse iterator over the list.\n",
      " |\n",
      " |  __rmul__(self, value, /)\n",
      " |      Return value*self.\n",
      " |\n",
      " |  __setitem__(self, key, value, /)\n",
      " |      Set self[key] to value.\n",
      " |\n",
      " |  __sizeof__(self, /)\n",
      " |      Return the size of the list in memory, in bytes.\n",
      " |\n",
      " |  append(self, object, /)\n",
      " |      Append object to the end of the list.\n",
      " |\n",
      " |  clear(self, /)\n",
      " |      Remove all items from list.\n",
      " |\n",
      " |  copy(self, /)\n",
      " |      Return a shallow copy of the list.\n",
      " |\n",
      " |  count(self, value, /)\n",
      " |      Return number of occurrences of value.\n",
      " |\n",
      " |  extend(self, iterable, /)\n",
      " |      Extend list by appending elements from the iterable.\n",
      " |\n",
      " |  index(self, value, start=0, stop=9223372036854775807, /)\n",
      " |      Return first index of value.\n",
      " |\n",
      " |      Raises ValueError if the value is not present.\n",
      " |\n",
      " |  insert(self, index, object, /)\n",
      " |      Insert object before index.\n",
      " |\n",
      " |  pop(self, index=-1, /)\n",
      " |      Remove and return item at index (default last).\n",
      " |\n",
      " |      Raises IndexError if list is empty or index is out of range.\n",
      " |\n",
      " |  remove(self, value, /)\n",
      " |      Remove first occurrence of value.\n",
      " |\n",
      " |      Raises ValueError if the value is not present.\n",
      " |\n",
      " |  reverse(self, /)\n",
      " |      Reverse *IN PLACE*.\n",
      " |\n",
      " |  sort(self, /, *, key=None, reverse=False)\n",
      " |      Sort the list in ascending order and return None.\n",
      " |\n",
      " |      The sort is in-place (i.e. the list itself is modified) and stable (i.e. the\n",
      " |      order of two equal elements is maintained).\n",
      " |\n",
      " |      If a key function is given, apply it once to each list item and sort them,\n",
      " |      ascending or descending, according to their function values.\n",
      " |\n",
      " |      The reverse flag can be set to sort in descending order.\n",
      " |\n",
      " |  ----------------------------------------------------------------------\n",
      " |  Class methods defined here:\n",
      " |\n",
      " |  __class_getitem__(...)\n",
      " |      See PEP 585\n",
      " |\n",
      " |  ----------------------------------------------------------------------\n",
      " |  Static methods defined here:\n",
      " |\n",
      " |  __new__(*args, **kwargs)\n",
      " |      Create and return a new object.  See help(type) for accurate signature.\n",
      " |\n",
      " |  ----------------------------------------------------------------------\n",
      " |  Data and other attributes defined here:\n",
      " |\n",
      " |  __hash__ = None\n",
      "\n"
     ]
    }
   ],
   "execution_count": 6
  },
  {
   "metadata": {
    "ExecuteTime": {
     "end_time": "2025-07-02T19:58:37.341631Z",
     "start_time": "2025-07-02T19:58:37.339695Z"
    }
   },
   "cell_type": "code",
   "source": [
    "for x in a:\n",
    "    print(x)\n",
    "    \n",
    "print(f'\\n{x}')"
   ],
   "id": "6a2322d03454fafb",
   "outputs": [
    {
     "name": "stdout",
     "output_type": "stream",
     "text": [
      "1\n",
      "2\n",
      "3\n",
      "4\n",
      "5\n",
      "\n",
      "5\n"
     ]
    }
   ],
   "execution_count": 8
  },
  {
   "metadata": {},
   "cell_type": "markdown",
   "source": "",
   "id": "10fae5f9bc2d03d9"
  },
  {
   "metadata": {
    "ExecuteTime": {
     "end_time": "2025-07-02T21:08:45.925931Z",
     "start_time": "2025-07-02T21:08:45.923268Z"
    }
   },
   "cell_type": "code",
   "source": [
    "from math import sin as sinnnn\n",
    "\n",
    "# sin.__name__\n",
    "sinnnn.__name__"
   ],
   "id": "3ec7272e19e3974b",
   "outputs": [
    {
     "data": {
      "text/plain": [
       "'sin'"
      ]
     },
     "execution_count": 10,
     "metadata": {},
     "output_type": "execute_result"
    }
   ],
   "execution_count": 10
  },
  {
   "metadata": {
    "ExecuteTime": {
     "end_time": "2025-07-03T08:40:56.862672Z",
     "start_time": "2025-07-03T08:40:56.859169Z"
    }
   },
   "cell_type": "code",
   "source": [
    "class A:\n",
    "    def hello(self):\n",
    "        print('hello A')\n",
    "class B(A):\n",
    "    pass"
   ],
   "id": "cb0a1f7d17686f05",
   "outputs": [],
   "execution_count": 11
  },
  {
   "metadata": {
    "ExecuteTime": {
     "end_time": "2025-07-03T08:40:57.930223Z",
     "start_time": "2025-07-03T08:40:57.928387Z"
    }
   },
   "cell_type": "code",
   "source": [
    "class C:\n",
    "    pass"
   ],
   "id": "810d3c193c8687ad",
   "outputs": [],
   "execution_count": 12
  },
  {
   "metadata": {
    "ExecuteTime": {
     "end_time": "2025-07-03T08:41:32.775001Z",
     "start_time": "2025-07-03T08:41:32.771527Z"
    }
   },
   "cell_type": "code",
   "source": [
    "class D(B, C):\n",
    "    pass\n",
    "\n",
    "\n",
    "D.__mro__"
   ],
   "id": "70e0f619a372d776",
   "outputs": [
    {
     "data": {
      "text/plain": [
       "(__main__.D, __main__.B, __main__.A, __main__.C, object)"
      ]
     },
     "execution_count": 14,
     "metadata": {},
     "output_type": "execute_result"
    }
   ],
   "execution_count": 14
  },
  {
   "metadata": {
    "ExecuteTime": {
     "end_time": "2025-07-03T11:36:13.833607Z",
     "start_time": "2025-07-03T11:36:13.829853Z"
    }
   },
   "cell_type": "code",
   "source": "print(vars())",
   "id": "f0997e1ce6d1fcf3",
   "outputs": [
    {
     "name": "stdout",
     "output_type": "stream",
     "text": [
      "{'__name__': '__main__', '__doc__': 'Automatically created module for IPython interactive environment', '__package__': None, '__loader__': None, '__spec__': None, '__builtin__': <module 'builtins' (built-in)>, '__builtins__': <module 'builtins' (built-in)>, '_ih': ['', 'addmore = lambda x: x + more\\n\\nmore  = 10\\naddmore(3)', 'more = 4\\naddmore = lambda x: x + more\\n\\nmore  = 10\\naddmore(3)', \"def decorator(func):\\n    print('attached')\\n    return func\\n\\n@decorator\\ndef fun(a,b):\\n    return a+b\\n\\nfun(1,2)\", \"def decorator(func):\\n    print('attached')\\n    return func\\ndef decorator(fun):\\n    def wrapper(*args, **kwargs):\\n        print(*args, **kwargs)\\n        return fun(*args, **kwargs)\\n    return wrapper\\n\\n@decorator\\ndef fun(a,b):\\n    return a+b\\n\\nfun(1,2)\", 'a = []\\nhelp(a)', 'a = [1, 2, 3, 4,5]\\nhelp(a)', 'for x in a:\\n    print(x)\\n    \\nprint(x)', \"for x in a:\\n    print(x)\\n    \\nprint(f'\\\\n{x}')\", 'from math import sin as sinnnn\\n\\nsin.__name__\\nsinnnn.__name__', 'from math import sin as sinnnn\\n\\n# sin.__name__\\nsinnnn.__name__', \"class A:\\n    def hello(self):\\n        print('hello A')\\nclass B(A):\\n    pass\", 'class C:\\n    pass', 'class D(B, C):\\n    pass\\n\\nd = D()\\nd.__mro__', 'class D(B, C):\\n    pass\\n\\n\\nD.__mro__', 'print(vars())'], '_oh': {1: 13, 2: 13, 3: 3, 4: 3, 10: 'sin', 14: (<class '__main__.D'>, <class '__main__.B'>, <class '__main__.A'>, <class '__main__.C'>, <class 'object'>)}, '_dh': [PosixPath('/Users/karimkhabib/PycharmProjects/JupyterFirst/Labs')], 'In': ['', 'addmore = lambda x: x + more\\n\\nmore  = 10\\naddmore(3)', 'more = 4\\naddmore = lambda x: x + more\\n\\nmore  = 10\\naddmore(3)', \"def decorator(func):\\n    print('attached')\\n    return func\\n\\n@decorator\\ndef fun(a,b):\\n    return a+b\\n\\nfun(1,2)\", \"def decorator(func):\\n    print('attached')\\n    return func\\ndef decorator(fun):\\n    def wrapper(*args, **kwargs):\\n        print(*args, **kwargs)\\n        return fun(*args, **kwargs)\\n    return wrapper\\n\\n@decorator\\ndef fun(a,b):\\n    return a+b\\n\\nfun(1,2)\", 'a = []\\nhelp(a)', 'a = [1, 2, 3, 4,5]\\nhelp(a)', 'for x in a:\\n    print(x)\\n    \\nprint(x)', \"for x in a:\\n    print(x)\\n    \\nprint(f'\\\\n{x}')\", 'from math import sin as sinnnn\\n\\nsin.__name__\\nsinnnn.__name__', 'from math import sin as sinnnn\\n\\n# sin.__name__\\nsinnnn.__name__', \"class A:\\n    def hello(self):\\n        print('hello A')\\nclass B(A):\\n    pass\", 'class C:\\n    pass', 'class D(B, C):\\n    pass\\n\\nd = D()\\nd.__mro__', 'class D(B, C):\\n    pass\\n\\n\\nD.__mro__', 'print(vars())'], 'Out': {1: 13, 2: 13, 3: 3, 4: 3, 10: 'sin', 14: (<class '__main__.D'>, <class '__main__.B'>, <class '__main__.A'>, <class '__main__.C'>, <class 'object'>)}, 'get_ipython': <bound method InteractiveShell.get_ipython of <ipykernel.zmqshell.ZMQInteractiveShell object at 0x10898d7f0>>, 'exit': <IPython.core.autocall.ZMQExitAutocall object at 0x10898cb60>, 'quit': <IPython.core.autocall.ZMQExitAutocall object at 0x10898cb60>, 'open': <function open at 0x1072632e0>, '_': (<class '__main__.D'>, <class '__main__.B'>, <class '__main__.A'>, <class '__main__.C'>, <class 'object'>), '__': 'sin', '___': 3, '__session__': 'Labs/Lab_5.ipynb', '_i': 'class D(B, C):\\n    pass\\n\\n\\nD.__mro__', '_ii': 'class D(B, C):\\n    pass\\n\\nd = D()\\nd.__mro__', '_iii': 'class C:\\n    pass', '_i1': 'addmore = lambda x: x + more\\n\\nmore  = 10\\naddmore(3)', 'addmore': <function <lambda> at 0x10b865800>, 'more': 10, '_1': 13, 'sys': <module 'sys' (built-in)>, 'remove_imported_pydev_package': <function remove_imported_pydev_package at 0x108b1f2e0>, '_pydevd_bundle': <module '_pydevd_bundle' from '/Applications/PyCharm.app/Contents/plugins/python-ce/helpers/pydev/_pydevd_bundle/__init__.py'>, 'pydev_jupyter_vars': <module 'pydev_jupyter_vars' from '/Applications/PyCharm.app/Contents/plugins/python/helpers-pro/jupyter_debug/pydev_jupyter_vars.py'>, '_i2': 'more = 4\\naddmore = lambda x: x + more\\n\\nmore  = 10\\naddmore(3)', '_2': 13, '_i3': \"def decorator(func):\\n    print('attached')\\n    return func\\n\\n@decorator\\ndef fun(a,b):\\n    return a+b\\n\\nfun(1,2)\", 'decorator': <function decorator at 0x10b865b20>, 'fun': <function decorator.<locals>.wrapper at 0x10b8658a0>, '_3': 3, '_i4': \"def decorator(func):\\n    print('attached')\\n    return func\\ndef decorator(fun):\\n    def wrapper(*args, **kwargs):\\n        print(*args, **kwargs)\\n        return fun(*args, **kwargs)\\n    return wrapper\\n\\n@decorator\\ndef fun(a,b):\\n    return a+b\\n\\nfun(1,2)\", '_4': 3, '_i5': 'a = []\\nhelp(a)', 'a': [1, 2, 3, 4, 5], '_i6': 'a = [1, 2, 3, 4,5]\\nhelp(a)', '_i7': 'for x in a:\\n    print(x)\\n    \\nprint(x)', 'x': 5, '_i8': \"for x in a:\\n    print(x)\\n    \\nprint(f'\\\\n{x}')\", '_i9': 'from math import sin as sinnnn\\n\\nsin.__name__\\nsinnnn.__name__', 'sinnnn': <built-in function sin>, '_i10': 'from math import sin as sinnnn\\n\\n# sin.__name__\\nsinnnn.__name__', '_10': 'sin', '_i11': \"class A:\\n    def hello(self):\\n        print('hello A')\\nclass B(A):\\n    pass\", 'A': <class '__main__.A'>, 'B': <class '__main__.B'>, '_i12': 'class C:\\n    pass', 'C': <class '__main__.C'>, '_i13': 'class D(B, C):\\n    pass\\n\\nd = D()\\nd.__mro__', 'D': <class '__main__.D'>, 'd': <__main__.D object at 0x10bbae960>, '_i14': 'class D(B, C):\\n    pass\\n\\n\\nD.__mro__', '_14': (<class '__main__.D'>, <class '__main__.B'>, <class '__main__.A'>, <class '__main__.C'>, <class 'object'>), '_i15': 'print(vars())'}\n"
     ]
    }
   ],
   "execution_count": 15
  }
 ],
 "metadata": {
  "kernelspec": {
   "display_name": "Python 3 (ipykernel)",
   "language": "python",
   "name": "python3"
  },
  "language_info": {
   "codemirror_mode": {
    "name": "ipython",
    "version": 3
   },
   "file_extension": ".py",
   "mimetype": "text/x-python",
   "name": "python",
   "nbconvert_exporter": "python",
   "pygments_lexer": "ipython3",
   "version": "3.12.7"
  }
 },
 "nbformat": 4,
 "nbformat_minor": 5
}
