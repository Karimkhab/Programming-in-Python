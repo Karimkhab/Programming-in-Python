{
 "cells": [
  {
   "cell_type": "code",
   "id": "initial_id",
   "metadata": {
    "collapsed": true,
    "ExecuteTime": {
     "end_time": "2025-09-13T20:45:11.440438Z",
     "start_time": "2025-09-13T20:45:11.435322Z"
    }
   },
   "source": [
    "from math import factorial\n",
    "\n",
    "from statsmodels.sandbox.regression.example_kernridge import index\n",
    "\n",
    "\n",
    "class Solution:\n",
    "    def isScramble(self, s1, s2):\n",
    "        if len(s1) == 1:\n",
    "            pass\n",
    "        if len(s1) > 1:\n",
    "            for i in range(1,len(s1)):\n",
    "                s = s1[:i] + s1[i:]\n",
    "                s_r = s1[i:] + s1[:i]\n",
    "                self.isScramble(s, s_r)\n",
    "                print(s, s_r)"
   ],
   "outputs": [],
   "execution_count": 12
  },
  {
   "metadata": {
    "ExecuteTime": {
     "end_time": "2025-09-13T20:45:12.909953Z",
     "start_time": "2025-09-13T20:45:11.452264Z"
    }
   },
   "cell_type": "code",
   "source": "Solution().isScramble(s1=\"great\", s2=\"rgeat\")",
   "id": "94661d2828fda2a2",
   "outputs": [
    {
     "ename": "RecursionError",
     "evalue": "maximum recursion depth exceeded",
     "output_type": "error",
     "traceback": [
      "\u001B[0;31m---------------------------------------------------------------------------\u001B[0m",
      "\u001B[0;31mRecursionError\u001B[0m                            Traceback (most recent call last)",
      "Cell \u001B[0;32mIn[13], line 1\u001B[0m\n\u001B[0;32m----> 1\u001B[0m Solution()\u001B[38;5;241m.\u001B[39misScramble(s1\u001B[38;5;241m=\u001B[39m\u001B[38;5;124m\"\u001B[39m\u001B[38;5;124mgreat\u001B[39m\u001B[38;5;124m\"\u001B[39m, s2\u001B[38;5;241m=\u001B[39m\u001B[38;5;124m\"\u001B[39m\u001B[38;5;124mrgeat\u001B[39m\u001B[38;5;124m\"\u001B[39m)\n",
      "Cell \u001B[0;32mIn[12], line 9\u001B[0m, in \u001B[0;36mSolution.isScramble\u001B[0;34m(self, s1, s2)\u001B[0m\n\u001B[1;32m      7\u001B[0m s \u001B[38;5;241m=\u001B[39m s1[:i] \u001B[38;5;241m+\u001B[39m s1[i:]\n\u001B[1;32m      8\u001B[0m s_r \u001B[38;5;241m=\u001B[39m s1[i:] \u001B[38;5;241m+\u001B[39m s1[:i]\n\u001B[0;32m----> 9\u001B[0m \u001B[38;5;28mself\u001B[39m\u001B[38;5;241m.\u001B[39misScramble(s, s_r)\n\u001B[1;32m     10\u001B[0m \u001B[38;5;28mprint\u001B[39m(s, s_r)\n",
      "Cell \u001B[0;32mIn[12], line 9\u001B[0m, in \u001B[0;36mSolution.isScramble\u001B[0;34m(self, s1, s2)\u001B[0m\n\u001B[1;32m      7\u001B[0m s \u001B[38;5;241m=\u001B[39m s1[:i] \u001B[38;5;241m+\u001B[39m s1[i:]\n\u001B[1;32m      8\u001B[0m s_r \u001B[38;5;241m=\u001B[39m s1[i:] \u001B[38;5;241m+\u001B[39m s1[:i]\n\u001B[0;32m----> 9\u001B[0m \u001B[38;5;28mself\u001B[39m\u001B[38;5;241m.\u001B[39misScramble(s, s_r)\n\u001B[1;32m     10\u001B[0m \u001B[38;5;28mprint\u001B[39m(s, s_r)\n",
      "    \u001B[0;31m[... skipping similar frames: Solution.isScramble at line 9 (2975 times)]\u001B[0m\n",
      "Cell \u001B[0;32mIn[12], line 9\u001B[0m, in \u001B[0;36mSolution.isScramble\u001B[0;34m(self, s1, s2)\u001B[0m\n\u001B[1;32m      7\u001B[0m s \u001B[38;5;241m=\u001B[39m s1[:i] \u001B[38;5;241m+\u001B[39m s1[i:]\n\u001B[1;32m      8\u001B[0m s_r \u001B[38;5;241m=\u001B[39m s1[i:] \u001B[38;5;241m+\u001B[39m s1[:i]\n\u001B[0;32m----> 9\u001B[0m \u001B[38;5;28mself\u001B[39m\u001B[38;5;241m.\u001B[39misScramble(s, s_r)\n\u001B[1;32m     10\u001B[0m \u001B[38;5;28mprint\u001B[39m(s, s_r)\n",
      "\u001B[0;31mRecursionError\u001B[0m: maximum recursion depth exceeded"
     ]
    }
   ],
   "execution_count": 13
  },
  {
   "metadata": {
    "ExecuteTime": {
     "end_time": "2025-09-13T21:00:32.985282Z",
     "start_time": "2025-09-13T21:00:32.980219Z"
    }
   },
   "cell_type": "code",
   "source": [
    "from math import factorial\n",
    "factorial(4)"
   ],
   "id": "d482397badbc2b47",
   "outputs": [
    {
     "data": {
      "text/plain": [
       "24"
      ]
     },
     "execution_count": 16,
     "metadata": {},
     "output_type": "execute_result"
    }
   ],
   "execution_count": 16
  },
  {
   "metadata": {
    "ExecuteTime": {
     "end_time": "2025-09-13T21:17:32.481264Z",
     "start_time": "2025-09-13T21:17:32.462250Z"
    }
   },
   "cell_type": "code",
   "source": [
    "class Solution(object):\n",
    "    def permute(self, nums):\n",
    "        \"\"\"\n",
    "        :type nums: List[int]\n",
    "        :rtype: List[List[int]]\n",
    "        \"\"\"\n",
    "        all_permutations = list()\n",
    "        for i in range(len(nums)):\n",
    "            new = nums[(i+1):] + nums[:i]\n",
    "            all_permutations.append(list(nums[i]).extend(new))\n",
    "            print(nums[i], new)\n",
    "        return all_permutations\n",
    "            # self.permute(new[1:])\n",
    "Solution().permute([1,2,3,4])"
   ],
   "id": "2fa276886228bb84",
   "outputs": [
    {
     "ename": "TypeError",
     "evalue": "'int' object is not iterable",
     "output_type": "error",
     "traceback": [
      "\u001B[0;31m---------------------------------------------------------------------------\u001B[0m",
      "\u001B[0;31mTypeError\u001B[0m                                 Traceback (most recent call last)",
      "Cell \u001B[0;32mIn[34], line 14\u001B[0m\n\u001B[1;32m     12\u001B[0m         \u001B[38;5;28;01mreturn\u001B[39;00m all_permutations\n\u001B[1;32m     13\u001B[0m             \u001B[38;5;66;03m# self.permute(new[1:])\u001B[39;00m\n\u001B[0;32m---> 14\u001B[0m Solution()\u001B[38;5;241m.\u001B[39mpermute([\u001B[38;5;241m1\u001B[39m,\u001B[38;5;241m2\u001B[39m,\u001B[38;5;241m3\u001B[39m,\u001B[38;5;241m4\u001B[39m])\n",
      "Cell \u001B[0;32mIn[34], line 10\u001B[0m, in \u001B[0;36mSolution.permute\u001B[0;34m(self, nums)\u001B[0m\n\u001B[1;32m      8\u001B[0m \u001B[38;5;28;01mfor\u001B[39;00m i \u001B[38;5;129;01min\u001B[39;00m \u001B[38;5;28mrange\u001B[39m(\u001B[38;5;28mlen\u001B[39m(nums)):\n\u001B[1;32m      9\u001B[0m     new \u001B[38;5;241m=\u001B[39m nums[(i\u001B[38;5;241m+\u001B[39m\u001B[38;5;241m1\u001B[39m):] \u001B[38;5;241m+\u001B[39m nums[:i]\n\u001B[0;32m---> 10\u001B[0m     all_permutations\u001B[38;5;241m.\u001B[39mappend(\u001B[38;5;28mlist\u001B[39m(nums[i])\u001B[38;5;241m.\u001B[39mextend(new))\n\u001B[1;32m     11\u001B[0m     \u001B[38;5;28mprint\u001B[39m(nums[i], new)\n\u001B[1;32m     12\u001B[0m \u001B[38;5;28;01mreturn\u001B[39;00m all_permutations\n",
      "\u001B[0;31mTypeError\u001B[0m: 'int' object is not iterable"
     ]
    }
   ],
   "execution_count": 34
  },
  {
   "metadata": {},
   "cell_type": "markdown",
   "source": "",
   "id": "53f4051adb148333"
  },
  {
   "metadata": {},
   "cell_type": "code",
   "outputs": [],
   "execution_count": null,
   "source": "",
   "id": "a0093a03182dfed"
  },
  {
   "metadata": {},
   "cell_type": "markdown",
   "source": "",
   "id": "fc2026631fce0976"
  },
  {
   "metadata": {
    "ExecuteTime": {
     "end_time": "2025-09-15T22:14:51.823395Z",
     "start_time": "2025-09-15T22:14:51.817093Z"
    }
   },
   "cell_type": "code",
   "source": [
    "import pandas as pd\n",
    "\n",
    "def find_employees(employee: pd.DataFrame) -> pd.DataFrame:\n",
    "    result = []\n",
    "\n",
    "    for idx, person in employee.iterrows():\n",
    "        manager_id = person['managerId']\n",
    "        \n",
    "        if pd.isna(manager_id):\n",
    "            continue\n",
    "        \n",
    "        manager = employee.loc[manager_id]\n",
    "        \n",
    "        if person['salary'] > manager['salary']:\n",
    "            result.append(person['name'])\n",
    "    \n",
    "    return pd.DataFrame(result, columns=['Employee'])\n",
    "        \n",
    "        \n",
    "employee = pd.read_csv('/Users/karimkhabib/Documents/Innopolis/First course (B24 - B25)/Programming in Python/Programming-In-Python/employees.csv', index_col=0)"
   ],
   "id": "74f49bb5ea993ec8",
   "outputs": [],
   "execution_count": 53
  },
  {
   "metadata": {
    "ExecuteTime": {
     "end_time": "2025-09-15T22:06:39.057976Z",
     "start_time": "2025-09-15T22:06:39.033538Z"
    }
   },
   "cell_type": "code",
   "source": "find_employees(employee)",
   "id": "3d49df2cb026251a",
   "outputs": [
    {
     "ename": "TypeError",
     "evalue": "DataFrame.dropna() takes 1 positional argument but 2 were given",
     "output_type": "error",
     "traceback": [
      "\u001B[0;31m---------------------------------------------------------------------------\u001B[0m",
      "\u001B[0;31mTypeError\u001B[0m                                 Traceback (most recent call last)",
      "Cell \u001B[0;32mIn[28], line 1\u001B[0m\n\u001B[0;32m----> 1\u001B[0m find_employees(employee)\n",
      "Cell \u001B[0;32mIn[27], line 9\u001B[0m, in \u001B[0;36mfind_employees\u001B[0;34m(employee)\u001B[0m\n\u001B[1;32m      6\u001B[0m person \u001B[38;5;241m=\u001B[39m employee\u001B[38;5;241m.\u001B[39mloc[i]\n\u001B[1;32m      8\u001B[0m \u001B[38;5;28;01mif\u001B[39;00m person[\u001B[38;5;124m'\u001B[39m\u001B[38;5;124mmanagerId\u001B[39m\u001B[38;5;124m'\u001B[39m]:\n\u001B[0;32m----> 9\u001B[0m     solution\u001B[38;5;241m.\u001B[39mdropna(employee\u001B[38;5;241m.\u001B[39mloc[i])\n\u001B[1;32m     10\u001B[0m     \u001B[38;5;28;01mcontinue\u001B[39;00m\n\u001B[1;32m     12\u001B[0m manager \u001B[38;5;241m=\u001B[39m employee\u001B[38;5;241m.\u001B[39mloc[\u001B[38;5;28mint\u001B[39m(person[\u001B[38;5;124m'\u001B[39m\u001B[38;5;124mmanagerId\u001B[39m\u001B[38;5;124m'\u001B[39m])]\n",
      "\u001B[0;31mTypeError\u001B[0m: DataFrame.dropna() takes 1 positional argument but 2 were given"
     ]
    }
   ],
   "execution_count": 28
  },
  {
   "metadata": {
    "ExecuteTime": {
     "end_time": "2025-09-15T22:00:13.248021Z",
     "start_time": "2025-09-15T22:00:13.245015Z"
    }
   },
   "cell_type": "code",
   "source": "find_employees(employee)",
   "id": "ff45d106fbc17c78",
   "outputs": [
    {
     "name": "stdout",
     "output_type": "stream",
     "text": [
      "Joe\n",
      "Henry\n",
      "Sam\n",
      "Max\n"
     ]
    }
   ],
   "execution_count": 25
  },
  {
   "metadata": {
    "ExecuteTime": {
     "end_time": "2025-09-15T22:09:07.764016Z",
     "start_time": "2025-09-15T22:09:07.758178Z"
    }
   },
   "cell_type": "code",
   "source": "employee.loc[int(employee.iloc[0]['managerId'])]",
   "id": "af2b00580079490b",
   "outputs": [
    {
     "data": {
      "text/plain": [
       "     name  salary  managerId\n",
       "id                          \n",
       "1     Joe   70000        3.0\n",
       "2   Henry   80000        4.0"
      ],
      "text/html": [
       "<div>\n",
       "<style scoped>\n",
       "    .dataframe tbody tr th:only-of-type {\n",
       "        vertical-align: middle;\n",
       "    }\n",
       "\n",
       "    .dataframe tbody tr th {\n",
       "        vertical-align: top;\n",
       "    }\n",
       "\n",
       "    .dataframe thead th {\n",
       "        text-align: right;\n",
       "    }\n",
       "</style>\n",
       "<table border=\"1\" class=\"dataframe\">\n",
       "  <thead>\n",
       "    <tr style=\"text-align: right;\">\n",
       "      <th></th>\n",
       "      <th>name</th>\n",
       "      <th>salary</th>\n",
       "      <th>managerId</th>\n",
       "    </tr>\n",
       "    <tr>\n",
       "      <th>id</th>\n",
       "      <th></th>\n",
       "      <th></th>\n",
       "      <th></th>\n",
       "    </tr>\n",
       "  </thead>\n",
       "  <tbody>\n",
       "    <tr>\n",
       "      <th>1</th>\n",
       "      <td>Joe</td>\n",
       "      <td>70000</td>\n",
       "      <td>3.0</td>\n",
       "    </tr>\n",
       "    <tr>\n",
       "      <th>2</th>\n",
       "      <td>Henry</td>\n",
       "      <td>80000</td>\n",
       "      <td>4.0</td>\n",
       "    </tr>\n",
       "  </tbody>\n",
       "</table>\n",
       "</div>"
      ]
     },
     "execution_count": 31,
     "metadata": {},
     "output_type": "execute_result"
    }
   ],
   "execution_count": 31
  },
  {
   "metadata": {
    "ExecuteTime": {
     "end_time": "2025-09-16T10:47:26.186666Z",
     "start_time": "2025-09-16T10:47:26.173440Z"
    }
   },
   "cell_type": "code",
   "source": [
    "person = employee.loc[1]\n",
    "if pd.isna(person['managerId']):\n",
    "    print(\"managerId is NaN\")\n",
    "else:\n",
    "    print(\"managerId is\", person['managerId'])"
   ],
   "id": "9d7cb4ccf0e118e5",
   "outputs": [
    {
     "name": "stdout",
     "output_type": "stream",
     "text": [
      "managerId is 3.0\n"
     ]
    }
   ],
   "execution_count": 54
  },
  {
   "metadata": {},
   "cell_type": "markdown",
   "source": "",
   "id": "4d2feac195e22285"
  },
  {
   "metadata": {
    "ExecuteTime": {
     "end_time": "2025-09-16T10:59:38.744425Z",
     "start_time": "2025-09-16T10:59:38.737517Z"
    }
   },
   "cell_type": "code",
   "source": [
    "data = [[1, 2, '2016-03-01', 5], [1, 2, '2016-05-02', 6], [2, 3, '2017-06-25', 1], [3, 1, '2016-03-02', 0], [3, 4, '2018-07-03', 5]]\n",
    "activity = pd.DataFrame(data, columns=['player_id', 'device_id', 'event_date', 'games_played']).astype({'player_id':'Int64', 'device_id':'Int64', 'event_date':'datetime64[ns]', 'games_played':'Int64'})\n",
    "activity"
   ],
   "id": "d60e96df8ba8ce0a",
   "outputs": [
    {
     "data": {
      "text/plain": [
       "   player_id  device_id event_date  games_played\n",
       "0          1          2 2016-03-01             5\n",
       "1          1          2 2016-05-02             6\n",
       "2          2          3 2017-06-25             1\n",
       "3          3          1 2016-03-02             0\n",
       "4          3          4 2018-07-03             5"
      ],
      "text/html": [
       "<div>\n",
       "<style scoped>\n",
       "    .dataframe tbody tr th:only-of-type {\n",
       "        vertical-align: middle;\n",
       "    }\n",
       "\n",
       "    .dataframe tbody tr th {\n",
       "        vertical-align: top;\n",
       "    }\n",
       "\n",
       "    .dataframe thead th {\n",
       "        text-align: right;\n",
       "    }\n",
       "</style>\n",
       "<table border=\"1\" class=\"dataframe\">\n",
       "  <thead>\n",
       "    <tr style=\"text-align: right;\">\n",
       "      <th></th>\n",
       "      <th>player_id</th>\n",
       "      <th>device_id</th>\n",
       "      <th>event_date</th>\n",
       "      <th>games_played</th>\n",
       "    </tr>\n",
       "  </thead>\n",
       "  <tbody>\n",
       "    <tr>\n",
       "      <th>0</th>\n",
       "      <td>1</td>\n",
       "      <td>2</td>\n",
       "      <td>2016-03-01</td>\n",
       "      <td>5</td>\n",
       "    </tr>\n",
       "    <tr>\n",
       "      <th>1</th>\n",
       "      <td>1</td>\n",
       "      <td>2</td>\n",
       "      <td>2016-05-02</td>\n",
       "      <td>6</td>\n",
       "    </tr>\n",
       "    <tr>\n",
       "      <th>2</th>\n",
       "      <td>2</td>\n",
       "      <td>3</td>\n",
       "      <td>2017-06-25</td>\n",
       "      <td>1</td>\n",
       "    </tr>\n",
       "    <tr>\n",
       "      <th>3</th>\n",
       "      <td>3</td>\n",
       "      <td>1</td>\n",
       "      <td>2016-03-02</td>\n",
       "      <td>0</td>\n",
       "    </tr>\n",
       "    <tr>\n",
       "      <th>4</th>\n",
       "      <td>3</td>\n",
       "      <td>4</td>\n",
       "      <td>2018-07-03</td>\n",
       "      <td>5</td>\n",
       "    </tr>\n",
       "  </tbody>\n",
       "</table>\n",
       "</div>"
      ]
     },
     "execution_count": 80,
     "metadata": {},
     "output_type": "execute_result"
    }
   ],
   "execution_count": 80
  },
  {
   "metadata": {
    "ExecuteTime": {
     "end_time": "2025-09-16T18:08:38.508106Z",
     "start_time": "2025-09-16T18:08:38.505333Z"
    }
   },
   "cell_type": "code",
   "source": [
    "import pandas as pd\n",
    "\n",
    "def game_analysis(activity: pd.DataFrame) -> pd.DataFrame:\n",
    "    result = pd.DataFrame([], columns=['player_id', 'first_login']).astype({'player_id':'Int64', 'first_login':'datetime64[ns]'})\n",
    "    players_id = activity['player_id'].unique()\n",
    "    \n",
    "    # print(players_id, '\\n')\n",
    "    \n",
    "    for i in players_id:\n",
    "        some = activity.where(activity['player_id'] == i).dropna()\n",
    "        result.loc[len(result)] = [i, min(some['event_date'])]\n",
    "    return result"
   ],
   "id": "aec61e97d0d655d7",
   "outputs": [],
   "execution_count": 155
  },
  {
   "metadata": {
    "ExecuteTime": {
     "end_time": "2025-09-16T18:08:40.072114Z",
     "start_time": "2025-09-16T18:08:40.059928Z"
    }
   },
   "cell_type": "code",
   "source": [
    "# game_analysis(activity)\n",
    "data = [[1, 2, '2016-03-01', 5], [1, 2, '2016-05-02', 6], [2, 3, '2017-06-25', 1], [3, 1, '2016-03-02', 0], [3, 4, '2018-07-03', 5]]\n",
    "activity = pd.DataFrame(data, columns=['player_id', 'device_id', 'event_date', 'games_played']).astype({'player_id':'Int64', 'device_id':'Int64', 'event_date':'datetime64[ns]', 'games_played':'Int64'})\n",
    "# activity = activity.set_index('player_id')\n",
    "# activity = activity.set_index('player_id')\n",
    "\n",
    "# activity = activity.drop(['device_id', 'games_played'], axis=1)\n",
    "# players_id = activity['player_id'].unique()\n",
    "# players_id[2]\n",
    "res = game_analysis(activity)\n",
    "res\n",
    "# activity"
   ],
   "id": "70754cc7b415c09a",
   "outputs": [
    {
     "data": {
      "text/plain": [
       "   player_id first_login\n",
       "0          1  2016-03-01\n",
       "1          2  2017-06-25\n",
       "2          3  2016-03-02"
      ],
      "text/html": [
       "<div>\n",
       "<style scoped>\n",
       "    .dataframe tbody tr th:only-of-type {\n",
       "        vertical-align: middle;\n",
       "    }\n",
       "\n",
       "    .dataframe tbody tr th {\n",
       "        vertical-align: top;\n",
       "    }\n",
       "\n",
       "    .dataframe thead th {\n",
       "        text-align: right;\n",
       "    }\n",
       "</style>\n",
       "<table border=\"1\" class=\"dataframe\">\n",
       "  <thead>\n",
       "    <tr style=\"text-align: right;\">\n",
       "      <th></th>\n",
       "      <th>player_id</th>\n",
       "      <th>first_login</th>\n",
       "    </tr>\n",
       "  </thead>\n",
       "  <tbody>\n",
       "    <tr>\n",
       "      <th>0</th>\n",
       "      <td>1</td>\n",
       "      <td>2016-03-01</td>\n",
       "    </tr>\n",
       "    <tr>\n",
       "      <th>1</th>\n",
       "      <td>2</td>\n",
       "      <td>2017-06-25</td>\n",
       "    </tr>\n",
       "    <tr>\n",
       "      <th>2</th>\n",
       "      <td>3</td>\n",
       "      <td>2016-03-02</td>\n",
       "    </tr>\n",
       "  </tbody>\n",
       "</table>\n",
       "</div>"
      ]
     },
     "execution_count": 156,
     "metadata": {},
     "output_type": "execute_result"
    }
   ],
   "execution_count": 156
  },
  {
   "metadata": {
    "ExecuteTime": {
     "end_time": "2025-09-16T18:06:28.964120Z",
     "start_time": "2025-09-16T18:06:28.957941Z"
    }
   },
   "cell_type": "code",
   "source": [
    "result = pd.DataFrame([], columns=['player_id', 'first_login']).astype({'player_id':'Int64', 'first_login':'datetime64[ns]'})\n",
    "result.loc[len(result)] = [1, '2016-03-01']\n",
    "result"
   ],
   "id": "72886730c8e1520d",
   "outputs": [
    {
     "data": {
      "text/plain": [
       "   player_id first_login\n",
       "0          1  2016-03-01"
      ],
      "text/html": [
       "<div>\n",
       "<style scoped>\n",
       "    .dataframe tbody tr th:only-of-type {\n",
       "        vertical-align: middle;\n",
       "    }\n",
       "\n",
       "    .dataframe tbody tr th {\n",
       "        vertical-align: top;\n",
       "    }\n",
       "\n",
       "    .dataframe thead th {\n",
       "        text-align: right;\n",
       "    }\n",
       "</style>\n",
       "<table border=\"1\" class=\"dataframe\">\n",
       "  <thead>\n",
       "    <tr style=\"text-align: right;\">\n",
       "      <th></th>\n",
       "      <th>player_id</th>\n",
       "      <th>first_login</th>\n",
       "    </tr>\n",
       "  </thead>\n",
       "  <tbody>\n",
       "    <tr>\n",
       "      <th>0</th>\n",
       "      <td>1</td>\n",
       "      <td>2016-03-01</td>\n",
       "    </tr>\n",
       "  </tbody>\n",
       "</table>\n",
       "</div>"
      ]
     },
     "execution_count": 150,
     "metadata": {},
     "output_type": "execute_result"
    }
   ],
   "execution_count": 150
  },
  {
   "metadata": {
    "ExecuteTime": {
     "end_time": "2025-09-16T18:06:57.289901Z",
     "start_time": "2025-09-16T18:06:57.283403Z"
    }
   },
   "cell_type": "code",
   "source": "min(activity['event_date'])",
   "id": "e8f3b49630d1bc3",
   "outputs": [
    {
     "data": {
      "text/plain": [
       "Timestamp('2016-03-01 00:00:00')"
      ]
     },
     "execution_count": 151,
     "metadata": {},
     "output_type": "execute_result"
    }
   ],
   "execution_count": 151
  }
 ],
 "metadata": {
  "kernelspec": {
   "display_name": "Python 3",
   "language": "python",
   "name": "python3"
  },
  "language_info": {
   "codemirror_mode": {
    "name": "ipython",
    "version": 2
   },
   "file_extension": ".py",
   "mimetype": "text/x-python",
   "name": "python",
   "nbconvert_exporter": "python",
   "pygments_lexer": "ipython2",
   "version": "2.7.6"
  }
 },
 "nbformat": 4,
 "nbformat_minor": 5
}
