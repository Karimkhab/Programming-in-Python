{
 "cells": [
  {
   "cell_type": "code",
   "id": "initial_id",
   "metadata": {
    "collapsed": true,
    "ExecuteTime": {
     "end_time": "2025-09-16T19:42:03.726646Z",
     "start_time": "2025-09-16T19:42:03.721383Z"
    }
   },
   "source": "import pandas as pd",
   "outputs": [],
   "execution_count": 93
  },
  {
   "metadata": {
    "ExecuteTime": {
     "end_time": "2025-09-16T19:42:03.749812Z",
     "start_time": "2025-09-16T19:42:03.745847Z"
    }
   },
   "cell_type": "code",
   "source": [
    "def top_three_salaries(employee: pd.DataFrame, department: pd.DataFrame) -> pd.DataFrame:\n",
    "    top_three_salarie = pd.DataFrame([], columns=['Department', 'Employee', 'Salary']).astype({\n",
    "        'Department': 'object', \n",
    "        'Employee': 'object', \n",
    "        'Salary': 'Int64'\n",
    "    })\n",
    "    \n",
    "    for i in department['id']:\n",
    "        some = employee[employee['departmentId'] == i].sort_values(by=['salary'], ascending=False).reset_index(drop=True)\n",
    "        \n",
    "        name_department = department.loc[department['id'] == i, 'name'].values[0]\n",
    "        count = 1   # первая уникальная зарплата уже учтена\n",
    "        prev_salary = some.iloc[0]['salary']\n",
    "        \n",
    "        # добавляем первого сотрудника\n",
    "        top_three_salarie.loc[len(top_three_salarie)] = [name_department, some.iloc[0]['name'], some.iloc[0]['salary']]\n",
    "        \n",
    "        for j in range(1, len(some)):\n",
    "            if count == 3:   # уже три уникальных зарплаты\n",
    "                break\n",
    "            top_three_salarie.loc[len(top_three_salarie)] = [name_department, some.iloc[j]['name'], some.iloc[j]['salary']]\n",
    "            if some.iloc[j]['salary'] != prev_salary:\n",
    "                prev_salary = some.iloc[j]['salary']\n",
    "                count += 1\n",
    "    \n",
    "    return top_three_salarie"
   ],
   "id": "579ab928bdf7d1d7",
   "outputs": [],
   "execution_count": 94
  },
  {
   "metadata": {
    "ExecuteTime": {
     "end_time": "2025-09-16T19:42:03.768341Z",
     "start_time": "2025-09-16T19:42:03.757830Z"
    }
   },
   "cell_type": "code",
   "source": [
    "data = [[1, 'Joe', 85000, 1], [2, 'Henry', 80000, 2], [3, 'Sam', 60000, 2], [4, 'Max', 90000, 1], [5, 'Janet', 69000, 1], [6, 'Randy', 85000, 1], [7, 'Will', 70000, 1]]\n",
    "employee = pd.DataFrame(data, columns=['id', 'name', 'salary', 'departmentId']).astype({'id':'Int64', 'name':'object', 'salary':'Int64', 'departmentId':'Int64'})\n",
    "data = [[1, 'IT'], [2, 'Sales']]\n",
    "department = pd.DataFrame(data, columns=['id', 'name']).astype({'id':'Int64', 'name':'object'})\n",
    "\n",
    "top_three_salaries(employee, department)"
   ],
   "id": "db0d0b42c7b50a5d",
   "outputs": [
    {
     "data": {
      "text/plain": [
       "  Department Employee  Salary\n",
       "0         IT      Max   90000\n",
       "1         IT      Joe   85000\n",
       "2         IT    Randy   85000\n",
       "3         IT     Will   70000\n",
       "4      Sales    Henry   80000\n",
       "5      Sales      Sam   60000"
      ],
      "text/html": [
       "<div>\n",
       "<style scoped>\n",
       "    .dataframe tbody tr th:only-of-type {\n",
       "        vertical-align: middle;\n",
       "    }\n",
       "\n",
       "    .dataframe tbody tr th {\n",
       "        vertical-align: top;\n",
       "    }\n",
       "\n",
       "    .dataframe thead th {\n",
       "        text-align: right;\n",
       "    }\n",
       "</style>\n",
       "<table border=\"1\" class=\"dataframe\">\n",
       "  <thead>\n",
       "    <tr style=\"text-align: right;\">\n",
       "      <th></th>\n",
       "      <th>Department</th>\n",
       "      <th>Employee</th>\n",
       "      <th>Salary</th>\n",
       "    </tr>\n",
       "  </thead>\n",
       "  <tbody>\n",
       "    <tr>\n",
       "      <th>0</th>\n",
       "      <td>IT</td>\n",
       "      <td>Max</td>\n",
       "      <td>90000</td>\n",
       "    </tr>\n",
       "    <tr>\n",
       "      <th>1</th>\n",
       "      <td>IT</td>\n",
       "      <td>Joe</td>\n",
       "      <td>85000</td>\n",
       "    </tr>\n",
       "    <tr>\n",
       "      <th>2</th>\n",
       "      <td>IT</td>\n",
       "      <td>Randy</td>\n",
       "      <td>85000</td>\n",
       "    </tr>\n",
       "    <tr>\n",
       "      <th>3</th>\n",
       "      <td>IT</td>\n",
       "      <td>Will</td>\n",
       "      <td>70000</td>\n",
       "    </tr>\n",
       "    <tr>\n",
       "      <th>4</th>\n",
       "      <td>Sales</td>\n",
       "      <td>Henry</td>\n",
       "      <td>80000</td>\n",
       "    </tr>\n",
       "    <tr>\n",
       "      <th>5</th>\n",
       "      <td>Sales</td>\n",
       "      <td>Sam</td>\n",
       "      <td>60000</td>\n",
       "    </tr>\n",
       "  </tbody>\n",
       "</table>\n",
       "</div>"
      ]
     },
     "execution_count": 95,
     "metadata": {},
     "output_type": "execute_result"
    }
   ],
   "execution_count": 95
  },
  {
   "metadata": {},
   "cell_type": "markdown",
   "source": "",
   "id": "4960def2f9f24c8"
  },
  {
   "metadata": {
    "ExecuteTime": {
     "end_time": "2025-09-17T17:57:30.076317Z",
     "start_time": "2025-09-17T17:57:30.074008Z"
    }
   },
   "cell_type": "code",
   "source": "import pandas as pd",
   "id": "3a490de1ea9aca0f",
   "outputs": [],
   "execution_count": 30
  },
  {
   "metadata": {
    "ExecuteTime": {
     "end_time": "2025-09-17T17:57:31.834401Z",
     "start_time": "2025-09-17T17:57:31.831764Z"
    }
   },
   "cell_type": "code",
   "source": [
    "def duplicate_emails(person: pd.DataFrame) -> pd.DataFrame:\n",
    "    person_count = person['email'].value_counts()\n",
    "    person_count = pd.DataFrame(person_count[person_count>1].index, columns = ['email'])\n",
    "    return person_count"
   ],
   "id": "bfb70ab3eb76b6c6",
   "outputs": [],
   "execution_count": 31
  },
  {
   "metadata": {
    "ExecuteTime": {
     "end_time": "2025-09-17T17:57:32.812035Z",
     "start_time": "2025-09-17T17:57:32.806838Z"
    }
   },
   "cell_type": "code",
   "source": [
    "data = [[1, 'a@b.com'], [2, 'c@d.com'], [3, 'a@b.com']]\n",
    "person = pd.DataFrame(data, columns=['id', 'email']).astype({'id':'Int64', 'email':'object'})\n",
    "\n",
    "duplicate_emails(person)\n",
    "# new = person['email'].value_counts()\n",
    "# new = new[new>1]\n",
    "# new1 = pd.DataFrame(new.index, columns=['email'])\n",
    "# new1\n",
    "# new.drop('count', axis=1, inplace=True)\n",
    "# new"
   ],
   "id": "3bc907a5d78e286",
   "outputs": [
    {
     "data": {
      "text/plain": [
       "     email\n",
       "0  a@b.com"
      ],
      "text/html": [
       "<div>\n",
       "<style scoped>\n",
       "    .dataframe tbody tr th:only-of-type {\n",
       "        vertical-align: middle;\n",
       "    }\n",
       "\n",
       "    .dataframe tbody tr th {\n",
       "        vertical-align: top;\n",
       "    }\n",
       "\n",
       "    .dataframe thead th {\n",
       "        text-align: right;\n",
       "    }\n",
       "</style>\n",
       "<table border=\"1\" class=\"dataframe\">\n",
       "  <thead>\n",
       "    <tr style=\"text-align: right;\">\n",
       "      <th></th>\n",
       "      <th>email</th>\n",
       "    </tr>\n",
       "  </thead>\n",
       "  <tbody>\n",
       "    <tr>\n",
       "      <th>0</th>\n",
       "      <td>a@b.com</td>\n",
       "    </tr>\n",
       "  </tbody>\n",
       "</table>\n",
       "</div>"
      ]
     },
     "execution_count": 32,
     "metadata": {},
     "output_type": "execute_result"
    }
   ],
   "execution_count": 32
  },
  {
   "metadata": {},
   "cell_type": "markdown",
   "source": "",
   "id": "32cc8b4df98912e2"
  },
  {
   "metadata": {
    "ExecuteTime": {
     "end_time": "2025-09-17T18:50:04.843262Z",
     "start_time": "2025-09-17T18:50:04.840531Z"
    }
   },
   "cell_type": "code",
   "source": [
    "import pandas as pd\n",
    "\n",
    "def find_customers(customers: pd.DataFrame, orders: pd.DataFrame) -> pd.DataFrame:\n",
    "    customers = customers['id'].isin(orders['customerId'])\n",
    "    customers = customers.loc[customers, ['id']].rename(columns={'name':'Customers'})\n",
    "    return customers"
   ],
   "id": "6441756b5cd7594d",
   "outputs": [],
   "execution_count": 46
  },
  {
   "metadata": {
    "ExecuteTime": {
     "end_time": "2025-09-17T22:24:00.006763Z",
     "start_time": "2025-09-17T22:23:59.998796Z"
    }
   },
   "cell_type": "code",
   "source": [
    "data = [[1, 'Joe'], [2, 'Henry'], [3, 'Sam'], [4, 'Max']]\n",
    "customers = pd.DataFrame(data, columns=['id', 'name']).astype({'id':'Int64', 'name':'object'})\n",
    "data = [[1, 3], [2, 1]]\n",
    "orders = pd.DataFrame(data, columns=['id', 'customerId']).astype({'id':'Int64', 'customerId':'Int64'})\n",
    "\n",
    "# find_customers(customers, orders)\n",
    "customers_new = ~customers['id'].isin(orders['customerId'])\n",
    "\n",
    "customers_new = customers.loc[customers_new, ['name']].rename(columns={'name':'Customers'})\n",
    "customers_new"
   ],
   "id": "cd7d45a711988fdf",
   "outputs": [
    {
     "data": {
      "text/plain": [
       "  Customers\n",
       "1     Henry\n",
       "3       Max"
      ],
      "text/html": [
       "<div>\n",
       "<style scoped>\n",
       "    .dataframe tbody tr th:only-of-type {\n",
       "        vertical-align: middle;\n",
       "    }\n",
       "\n",
       "    .dataframe tbody tr th {\n",
       "        vertical-align: top;\n",
       "    }\n",
       "\n",
       "    .dataframe thead th {\n",
       "        text-align: right;\n",
       "    }\n",
       "</style>\n",
       "<table border=\"1\" class=\"dataframe\">\n",
       "  <thead>\n",
       "    <tr style=\"text-align: right;\">\n",
       "      <th></th>\n",
       "      <th>Customers</th>\n",
       "    </tr>\n",
       "  </thead>\n",
       "  <tbody>\n",
       "    <tr>\n",
       "      <th>1</th>\n",
       "      <td>Henry</td>\n",
       "    </tr>\n",
       "    <tr>\n",
       "      <th>3</th>\n",
       "      <td>Max</td>\n",
       "    </tr>\n",
       "  </tbody>\n",
       "</table>\n",
       "</div>"
      ]
     },
     "execution_count": 58,
     "metadata": {},
     "output_type": "execute_result"
    }
   ],
   "execution_count": 58
  },
  {
   "metadata": {},
   "cell_type": "markdown",
   "source": "",
   "id": "2e48bc313a5b8617"
  },
  {
   "metadata": {
    "ExecuteTime": {
     "end_time": "2025-09-17T22:34:53.811037Z",
     "start_time": "2025-09-17T22:34:53.808573Z"
    }
   },
   "cell_type": "code",
   "source": [
    "def not_boring_movies(cinema: pd.DataFrame) -> pd.DataFrame:\n",
    "    cinema = cinema[cinema['id']%2!=0]\n",
    "    cinema = cinema[cinema['description']!='boring'].sort_values(by=['rating'], ascending=False)\n",
    "    return cinema"
   ],
   "id": "266e744e0e556b3a",
   "outputs": [],
   "execution_count": 93
  },
  {
   "metadata": {
    "ExecuteTime": {
     "end_time": "2025-09-17T22:34:54.679215Z",
     "start_time": "2025-09-17T22:34:54.670591Z"
    }
   },
   "cell_type": "code",
   "source": [
    "data = [[1, 'War', 'great 3D', 8.9], [2, 'Science', 'fiction', 8.5], [3, 'irish', 'boring', 6.2], [4, 'Ice song', 'Fantacy', 8.6], [5, 'House card', 'Interesting', 9.1]]\n",
    "cinema = pd.DataFrame(data, columns=['id', 'movie', 'description', 'rating']).astype({'id':'Int64', 'movie':'object', 'description':'object', 'rating':'Float64'})\n",
    "\n",
    "not_boring_movies(cinema)"
   ],
   "id": "3ff001d7a2c6cb18",
   "outputs": [
    {
     "data": {
      "text/plain": [
       "   id       movie  description  rating\n",
       "4   5  House card  Interesting     9.1\n",
       "0   1         War     great 3D     8.9"
      ],
      "text/html": [
       "<div>\n",
       "<style scoped>\n",
       "    .dataframe tbody tr th:only-of-type {\n",
       "        vertical-align: middle;\n",
       "    }\n",
       "\n",
       "    .dataframe tbody tr th {\n",
       "        vertical-align: top;\n",
       "    }\n",
       "\n",
       "    .dataframe thead th {\n",
       "        text-align: right;\n",
       "    }\n",
       "</style>\n",
       "<table border=\"1\" class=\"dataframe\">\n",
       "  <thead>\n",
       "    <tr style=\"text-align: right;\">\n",
       "      <th></th>\n",
       "      <th>id</th>\n",
       "      <th>movie</th>\n",
       "      <th>description</th>\n",
       "      <th>rating</th>\n",
       "    </tr>\n",
       "  </thead>\n",
       "  <tbody>\n",
       "    <tr>\n",
       "      <th>4</th>\n",
       "      <td>5</td>\n",
       "      <td>House card</td>\n",
       "      <td>Interesting</td>\n",
       "      <td>9.1</td>\n",
       "    </tr>\n",
       "    <tr>\n",
       "      <th>0</th>\n",
       "      <td>1</td>\n",
       "      <td>War</td>\n",
       "      <td>great 3D</td>\n",
       "      <td>8.9</td>\n",
       "    </tr>\n",
       "  </tbody>\n",
       "</table>\n",
       "</div>"
      ]
     },
     "execution_count": 94,
     "metadata": {},
     "output_type": "execute_result"
    }
   ],
   "execution_count": 94
  },
  {
   "metadata": {},
   "cell_type": "markdown",
   "source": "",
   "id": "d6f8b8eb9b1e6888"
  },
  {
   "metadata": {},
   "cell_type": "code",
   "outputs": [],
   "execution_count": null,
   "source": "",
   "id": "5ac8fff79b0e46fa"
  }
 ],
 "metadata": {
  "kernelspec": {
   "display_name": "Python 3",
   "language": "python",
   "name": "python3"
  },
  "language_info": {
   "codemirror_mode": {
    "name": "ipython",
    "version": 2
   },
   "file_extension": ".py",
   "mimetype": "text/x-python",
   "name": "python",
   "nbconvert_exporter": "python",
   "pygments_lexer": "ipython2",
   "version": "2.7.6"
  }
 },
 "nbformat": 4,
 "nbformat_minor": 5
}
