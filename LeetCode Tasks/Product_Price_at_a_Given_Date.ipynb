{
 "cells": [
  {
   "metadata": {
    "ExecuteTime": {
     "end_time": "2025-09-16T18:54:42.908867Z",
     "start_time": "2025-09-16T18:54:42.906218Z"
    }
   },
   "cell_type": "code",
   "source": [
    "import pandas as pd\n",
    "from networkx.algorithms.operators.binary import difference"
   ],
   "id": "8ac88bed627067c7",
   "outputs": [],
   "execution_count": 107
  },
  {
   "cell_type": "code",
   "id": "initial_id",
   "metadata": {
    "collapsed": true,
    "ExecuteTime": {
     "end_time": "2025-09-16T18:54:42.932214Z",
     "start_time": "2025-09-16T18:54:42.928934Z"
    }
   },
   "source": [
    "def price_at_given_date(products: pd.DataFrame) -> pd.DataFrame:\n",
    "    products = products.sort_values(by='change_date')\n",
    "    products_new = products.where(products['change_date'] <= pd.to_datetime('2019-08-16')).dropna()\n",
    "    \n",
    "    all_product_id = products['product_id'].unique()\n",
    "    exist_product_id = products_new['product_id'].unique()\n",
    "    \n",
    "    price_date = pd.DataFrame([], columns=['product_id', 'price'])\n",
    "    \n",
    "    for i in exist_product_id:\n",
    "        some = products_new.where(products_new['product_id'] == i).dropna()        \n",
    "        price_date.loc[len(price_date)] = [i, some.tail(1)['new_price'].values[0]]\n",
    "        # print(price_date)\n",
    "    \n",
    "    difference_products = set(all_product_id) - set(exist_product_id)\n",
    "\n",
    "    for i in difference_products:\n",
    "        price_date.loc[len(price_date)] = [i, 10]\n",
    "    return price_date"
   ],
   "outputs": [],
   "execution_count": 108
  },
  {
   "metadata": {
    "ExecuteTime": {
     "end_time": "2025-09-16T18:54:42.950338Z",
     "start_time": "2025-09-16T18:54:42.941178Z"
    }
   },
   "cell_type": "code",
   "source": [
    "data = [[1, 20, '2019-08-14'], [2, 50, '2019-08-14'], [1, 30, '2019-08-15'], [1, 35, '2019-08-16'], [2, 65, '2019-08-17'], [3, 20, '2019-08-18']]\n",
    "products = pd.DataFrame(data, columns=['product_id', 'new_price', 'change_date']).astype({'product_id':'Int64', 'new_price':'Int64', 'change_date':'datetime64[ns]'})\n",
    "\n",
    "# products_new = products.where(products['change_date'] <= pd.to_datetime('2019-08-16')).dropna()\n",
    "# print(products_new['product_id'].unique(), products['product_id'].unique())\n",
    "# # products_new['product_id'].unique()\n",
    "# pro = products.sort_values(by='change_date')\n",
    "# print(pro)\n",
    "res = price_at_given_date(products)\n",
    "res\n",
    "# pro = products.tail(1)['new_price'].values[0]\n",
    "# pro"
   ],
   "id": "3461b28c4907df56",
   "outputs": [
    {
     "data": {
      "text/plain": [
       "   product_id  price\n",
       "0           1     35\n",
       "1           2     50\n",
       "2           3     10"
      ],
      "text/html": [
       "<div>\n",
       "<style scoped>\n",
       "    .dataframe tbody tr th:only-of-type {\n",
       "        vertical-align: middle;\n",
       "    }\n",
       "\n",
       "    .dataframe tbody tr th {\n",
       "        vertical-align: top;\n",
       "    }\n",
       "\n",
       "    .dataframe thead th {\n",
       "        text-align: right;\n",
       "    }\n",
       "</style>\n",
       "<table border=\"1\" class=\"dataframe\">\n",
       "  <thead>\n",
       "    <tr style=\"text-align: right;\">\n",
       "      <th></th>\n",
       "      <th>product_id</th>\n",
       "      <th>price</th>\n",
       "    </tr>\n",
       "  </thead>\n",
       "  <tbody>\n",
       "    <tr>\n",
       "      <th>0</th>\n",
       "      <td>1</td>\n",
       "      <td>35</td>\n",
       "    </tr>\n",
       "    <tr>\n",
       "      <th>1</th>\n",
       "      <td>2</td>\n",
       "      <td>50</td>\n",
       "    </tr>\n",
       "    <tr>\n",
       "      <th>2</th>\n",
       "      <td>3</td>\n",
       "      <td>10</td>\n",
       "    </tr>\n",
       "  </tbody>\n",
       "</table>\n",
       "</div>"
      ]
     },
     "execution_count": 109,
     "metadata": {},
     "output_type": "execute_result"
    }
   ],
   "execution_count": 109
  },
  {
   "metadata": {},
   "cell_type": "markdown",
   "source": "",
   "id": "1f4c77282c4a2b31"
  }
 ],
 "metadata": {
  "kernelspec": {
   "display_name": "Python 3",
   "language": "python",
   "name": "python3"
  },
  "language_info": {
   "codemirror_mode": {
    "name": "ipython",
    "version": 2
   },
   "file_extension": ".py",
   "mimetype": "text/x-python",
   "name": "python",
   "nbconvert_exporter": "python",
   "pygments_lexer": "ipython2",
   "version": "2.7.6"
  }
 },
 "nbformat": 4,
 "nbformat_minor": 5
}
